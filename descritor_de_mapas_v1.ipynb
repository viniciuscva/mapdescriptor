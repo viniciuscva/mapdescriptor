{
 "cells": [
  {
   "cell_type": "code",
   "execution_count": 1,
   "id": "a45b6ca1-a832-4b25-a705-0950f0dfeec1",
   "metadata": {},
   "outputs": [],
   "source": [
    "import osmnx as ox\n",
    "import pandas as pd\n",
    "import numpy as np\n",
    "import matplotlib.pyplot as plt\n",
    "from shapely.geometry import Point, LineString, Polygon"
   ]
  },
  {
   "cell_type": "code",
   "execution_count": 2,
   "id": "9191e8aa-0afb-40d6-923f-2cee30a52636",
   "metadata": {},
   "outputs": [
    {
     "data": {
      "text/html": [
       "<div>\n",
       "<style scoped>\n",
       "    .dataframe tbody tr th:only-of-type {\n",
       "        vertical-align: middle;\n",
       "    }\n",
       "\n",
       "    .dataframe tbody tr th {\n",
       "        vertical-align: top;\n",
       "    }\n",
       "\n",
       "    .dataframe thead th {\n",
       "        text-align: right;\n",
       "    }\n",
       "</style>\n",
       "<table border=\"1\" class=\"dataframe\">\n",
       "  <thead>\n",
       "    <tr style=\"text-align: right;\">\n",
       "      <th></th>\n",
       "      <th>element_type</th>\n",
       "      <th>osmid</th>\n",
       "      <th>amenity</th>\n",
       "      <th>name</th>\n",
       "      <th>geometry</th>\n",
       "      <th>opening_hours</th>\n",
       "    </tr>\n",
       "  </thead>\n",
       "  <tbody>\n",
       "    <tr>\n",
       "      <th>0</th>\n",
       "      <td>node</td>\n",
       "      <td>1798496605</td>\n",
       "      <td>fuel</td>\n",
       "      <td>Posto Viola</td>\n",
       "      <td>POINT (-37.27847 -7.02390)</td>\n",
       "      <td>NaN</td>\n",
       "    </tr>\n",
       "    <tr>\n",
       "      <th>1</th>\n",
       "      <td>node</td>\n",
       "      <td>1798496642</td>\n",
       "      <td>taxi</td>\n",
       "      <td>Moto táxi Praça dos Pombos</td>\n",
       "      <td>POINT (-37.27843 -7.02361)</td>\n",
       "      <td>NaN</td>\n",
       "    </tr>\n",
       "    <tr>\n",
       "      <th>2</th>\n",
       "      <td>node</td>\n",
       "      <td>1798525769</td>\n",
       "      <td>taxi</td>\n",
       "      <td>Táxi Rodoviária Velha</td>\n",
       "      <td>POINT (-37.27735 -7.02265)</td>\n",
       "      <td>NaN</td>\n",
       "    </tr>\n",
       "    <tr>\n",
       "      <th>3</th>\n",
       "      <td>node</td>\n",
       "      <td>1798525772</td>\n",
       "      <td>taxi</td>\n",
       "      <td>Táxi Fórum Miguel Sátiro</td>\n",
       "      <td>POINT (-37.27702 -7.02601)</td>\n",
       "      <td>NaN</td>\n",
       "    </tr>\n",
       "    <tr>\n",
       "      <th>4</th>\n",
       "      <td>node</td>\n",
       "      <td>1798919196</td>\n",
       "      <td>bar</td>\n",
       "      <td>Bar do Rock</td>\n",
       "      <td>POINT (-37.27702 -7.02204)</td>\n",
       "      <td>We-Su 19:00-02:00+; week 25-26 18:00-04:00</td>\n",
       "    </tr>\n",
       "  </tbody>\n",
       "</table>\n",
       "</div>"
      ],
      "text/plain": [
       "  element_type       osmid amenity                        name  \\\n",
       "0         node  1798496605    fuel                 Posto Viola   \n",
       "1         node  1798496642    taxi  Moto táxi Praça dos Pombos   \n",
       "2         node  1798525769    taxi       Táxi Rodoviária Velha   \n",
       "3         node  1798525772    taxi    Táxi Fórum Miguel Sátiro   \n",
       "4         node  1798919196     bar                 Bar do Rock   \n",
       "\n",
       "                     geometry                               opening_hours  \n",
       "0  POINT (-37.27847 -7.02390)                                         NaN  \n",
       "1  POINT (-37.27843 -7.02361)                                         NaN  \n",
       "2  POINT (-37.27735 -7.02265)                                         NaN  \n",
       "3  POINT (-37.27702 -7.02601)                                         NaN  \n",
       "4  POINT (-37.27702 -7.02204)  We-Su 19:00-02:00+; week 25-26 18:00-04:00  "
      ]
     },
     "execution_count": 2,
     "metadata": {},
     "output_type": "execute_result"
    }
   ],
   "source": [
    "# osmnx.geometries.geometries_from_bbox(north, south, east, west, tags)\n",
    "# https://www.mapsdirections.info/pt/coordenadas-gps.html\n",
    "# ANALISANDO CIDADE DE PATOS - PB\n",
    "north = -6.9875\n",
    "west = -37.3303\n",
    "south = -7.0882\n",
    "east = -37.2215\n",
    "pois = ox.geometries.geometries_from_bbox(north, south, east, west, tags={'amenity':True})\n",
    "pois = pd.DataFrame(pois)\n",
    "pois.reset_index(inplace=True)\n",
    "pois = pois[['element_type', 'osmid', 'amenity', 'name', 'geometry', 'opening_hours']]\n",
    "pois.head()"
   ]
  },
  {
   "cell_type": "code",
   "execution_count": 3,
   "id": "0fa8238a-8b3f-4307-9c9e-8c0100bc2e0a",
   "metadata": {},
   "outputs": [
    {
     "data": {
      "text/html": [
       "<div>\n",
       "<style scoped>\n",
       "    .dataframe tbody tr th:only-of-type {\n",
       "        vertical-align: middle;\n",
       "    }\n",
       "\n",
       "    .dataframe tbody tr th {\n",
       "        vertical-align: top;\n",
       "    }\n",
       "\n",
       "    .dataframe thead th {\n",
       "        text-align: right;\n",
       "    }\n",
       "</style>\n",
       "<table border=\"1\" class=\"dataframe\">\n",
       "  <thead>\n",
       "    <tr style=\"text-align: right;\">\n",
       "      <th></th>\n",
       "      <th>element_type</th>\n",
       "      <th>osmid</th>\n",
       "      <th>amenity</th>\n",
       "      <th>name</th>\n",
       "      <th>geometry</th>\n",
       "      <th>opening_hours</th>\n",
       "    </tr>\n",
       "  </thead>\n",
       "  <tbody>\n",
       "    <tr>\n",
       "      <th>640</th>\n",
       "      <td>way</td>\n",
       "      <td>165773628</td>\n",
       "      <td>parking</td>\n",
       "      <td>NaN</td>\n",
       "      <td>POLYGON ((-37.30354 -7.00531, -37.30316 -7.005...</td>\n",
       "      <td>NaN</td>\n",
       "    </tr>\n",
       "    <tr>\n",
       "      <th>641</th>\n",
       "      <td>way</td>\n",
       "      <td>166259294</td>\n",
       "      <td>place_of_worship</td>\n",
       "      <td>NaN</td>\n",
       "      <td>POLYGON ((-37.30145 -7.00646, -37.30139 -7.006...</td>\n",
       "      <td>NaN</td>\n",
       "    </tr>\n",
       "    <tr>\n",
       "      <th>642</th>\n",
       "      <td>way</td>\n",
       "      <td>166259767</td>\n",
       "      <td>parking</td>\n",
       "      <td>NaN</td>\n",
       "      <td>POLYGON ((-37.30149 -7.00651, -37.30200 -7.006...</td>\n",
       "      <td>NaN</td>\n",
       "    </tr>\n",
       "    <tr>\n",
       "      <th>643</th>\n",
       "      <td>way</td>\n",
       "      <td>166429876</td>\n",
       "      <td>place_of_worship</td>\n",
       "      <td>Paróquia Nossa Senhora Das Neves</td>\n",
       "      <td>POLYGON ((-37.30090 -7.03673, -37.30082 -7.037...</td>\n",
       "      <td>NaN</td>\n",
       "    </tr>\n",
       "    <tr>\n",
       "      <th>644</th>\n",
       "      <td>way</td>\n",
       "      <td>166550089</td>\n",
       "      <td>college</td>\n",
       "      <td>IFPB - Campus Patos</td>\n",
       "      <td>POLYGON ((-37.28455 -7.07763, -37.28672 -7.076...</td>\n",
       "      <td>Su-Fr 07:00-22:00; week 01 off; week 53 off; S...</td>\n",
       "    </tr>\n",
       "    <tr>\n",
       "      <th>...</th>\n",
       "      <td>...</td>\n",
       "      <td>...</td>\n",
       "      <td>...</td>\n",
       "      <td>...</td>\n",
       "      <td>...</td>\n",
       "      <td>...</td>\n",
       "    </tr>\n",
       "    <tr>\n",
       "      <th>824</th>\n",
       "      <td>way</td>\n",
       "      <td>1084925006</td>\n",
       "      <td>place_of_worship</td>\n",
       "      <td>NaN</td>\n",
       "      <td>POLYGON ((-37.27436 -7.00392, -37.27443 -7.003...</td>\n",
       "      <td>NaN</td>\n",
       "    </tr>\n",
       "    <tr>\n",
       "      <th>825</th>\n",
       "      <td>way</td>\n",
       "      <td>1085721565</td>\n",
       "      <td>place_of_worship</td>\n",
       "      <td>Capela da Cruz da Menina</td>\n",
       "      <td>POLYGON ((-37.30224 -7.00568, -37.30223 -7.005...</td>\n",
       "      <td>NaN</td>\n",
       "    </tr>\n",
       "    <tr>\n",
       "      <th>826</th>\n",
       "      <td>way</td>\n",
       "      <td>1098137716</td>\n",
       "      <td>school</td>\n",
       "      <td>NaN</td>\n",
       "      <td>POLYGON ((-37.27944 -7.06101, -37.27924 -7.060...</td>\n",
       "      <td>NaN</td>\n",
       "    </tr>\n",
       "    <tr>\n",
       "      <th>827</th>\n",
       "      <td>way</td>\n",
       "      <td>1112595201</td>\n",
       "      <td>place_of_worship</td>\n",
       "      <td>NaN</td>\n",
       "      <td>POLYGON ((-37.23823 -7.06129, -37.23823 -7.061...</td>\n",
       "      <td>NaN</td>\n",
       "    </tr>\n",
       "    <tr>\n",
       "      <th>828</th>\n",
       "      <td>relation</td>\n",
       "      <td>7375603</td>\n",
       "      <td>marketplace</td>\n",
       "      <td>Mercado Público</td>\n",
       "      <td>POLYGON ((-37.27953 -7.02765, -37.27953 -7.027...</td>\n",
       "      <td>Mo-Sa 07:00-17:00</td>\n",
       "    </tr>\n",
       "  </tbody>\n",
       "</table>\n",
       "<p>189 rows × 6 columns</p>\n",
       "</div>"
      ],
      "text/plain": [
       "    element_type       osmid           amenity  \\\n",
       "640          way   165773628           parking   \n",
       "641          way   166259294  place_of_worship   \n",
       "642          way   166259767           parking   \n",
       "643          way   166429876  place_of_worship   \n",
       "644          way   166550089           college   \n",
       "..           ...         ...               ...   \n",
       "824          way  1084925006  place_of_worship   \n",
       "825          way  1085721565  place_of_worship   \n",
       "826          way  1098137716            school   \n",
       "827          way  1112595201  place_of_worship   \n",
       "828     relation     7375603       marketplace   \n",
       "\n",
       "                                 name  \\\n",
       "640                               NaN   \n",
       "641                               NaN   \n",
       "642                               NaN   \n",
       "643  Paróquia Nossa Senhora Das Neves   \n",
       "644               IFPB - Campus Patos   \n",
       "..                                ...   \n",
       "824                               NaN   \n",
       "825          Capela da Cruz da Menina   \n",
       "826                               NaN   \n",
       "827                               NaN   \n",
       "828                   Mercado Público   \n",
       "\n",
       "                                              geometry  \\\n",
       "640  POLYGON ((-37.30354 -7.00531, -37.30316 -7.005...   \n",
       "641  POLYGON ((-37.30145 -7.00646, -37.30139 -7.006...   \n",
       "642  POLYGON ((-37.30149 -7.00651, -37.30200 -7.006...   \n",
       "643  POLYGON ((-37.30090 -7.03673, -37.30082 -7.037...   \n",
       "644  POLYGON ((-37.28455 -7.07763, -37.28672 -7.076...   \n",
       "..                                                 ...   \n",
       "824  POLYGON ((-37.27436 -7.00392, -37.27443 -7.003...   \n",
       "825  POLYGON ((-37.30224 -7.00568, -37.30223 -7.005...   \n",
       "826  POLYGON ((-37.27944 -7.06101, -37.27924 -7.060...   \n",
       "827  POLYGON ((-37.23823 -7.06129, -37.23823 -7.061...   \n",
       "828  POLYGON ((-37.27953 -7.02765, -37.27953 -7.027...   \n",
       "\n",
       "                                         opening_hours  \n",
       "640                                                NaN  \n",
       "641                                                NaN  \n",
       "642                                                NaN  \n",
       "643                                                NaN  \n",
       "644  Su-Fr 07:00-22:00; week 01 off; week 53 off; S...  \n",
       "..                                                 ...  \n",
       "824                                                NaN  \n",
       "825                                                NaN  \n",
       "826                                                NaN  \n",
       "827                                                NaN  \n",
       "828                                  Mo-Sa 07:00-17:00  \n",
       "\n",
       "[189 rows x 6 columns]"
      ]
     },
     "execution_count": 3,
     "metadata": {},
     "output_type": "execute_result"
    }
   ],
   "source": [
    "pois[pois.geometry.apply(type).apply(str)==\"<class 'shapely.geometry.polygon.Polygon'>\"]"
   ]
  },
  {
   "cell_type": "code",
   "execution_count": 4,
   "id": "9a5dd4c8-4f60-48d5-ba95-d86950627a02",
   "metadata": {},
   "outputs": [
    {
     "name": "stdout",
     "output_type": "stream",
     "text": [
      "<class 'shapely.geometry.polygon.Polygon'>\n"
     ]
    },
    {
     "data": {
      "image/svg+xml": [
       "<svg xmlns=\"http://www.w3.org/2000/svg\" xmlns:xlink=\"http://www.w3.org/1999/xlink\" width=\"100.0\" height=\"100.0\" viewBox=\"-37.300918536 -7.037053036 0.0002832719999972255 0.000381671999999611\" preserveAspectRatio=\"xMinYMin meet\"><g transform=\"matrix(1,0,0,-1,0,-14.0737244)\"><path fill-rule=\"evenodd\" fill=\"#66cc99\" stroke=\"#555555\" stroke-width=\"7.633439999992219e-06\" opacity=\"0.6\" d=\"M -37.3009044,-7.0367324 L -37.3008176,-7.0370389 L -37.3006494,-7.036992 L -37.3007362,-7.0366855 L -37.3009044,-7.0367324 z\" /></g></svg>"
      ],
      "text/plain": [
       "<shapely.geometry.polygon.Polygon at 0x7f3eb4907eb0>"
      ]
     },
     "execution_count": 4,
     "metadata": {},
     "output_type": "execute_result"
    }
   ],
   "source": [
    "polygon_paroquia_nossa_senhora_das_neves = pois[pois['osmid']==166429876]['geometry'].values[0]\n",
    "print(type(polygon_paroquia_nossa_senhora_das_neves))\n",
    "polygon_paroquia_nossa_senhora_das_neves"
   ]
  },
  {
   "cell_type": "code",
   "execution_count": 5,
   "id": "51c89d27-bbef-4f48-819c-2a3ee42e909c",
   "metadata": {},
   "outputs": [
    {
     "data": {
      "text/html": [
       "<div>\n",
       "<style scoped>\n",
       "    .dataframe tbody tr th:only-of-type {\n",
       "        vertical-align: middle;\n",
       "    }\n",
       "\n",
       "    .dataframe tbody tr th {\n",
       "        vertical-align: top;\n",
       "    }\n",
       "\n",
       "    .dataframe thead th {\n",
       "        text-align: right;\n",
       "    }\n",
       "</style>\n",
       "<table border=\"1\" class=\"dataframe\">\n",
       "  <thead>\n",
       "    <tr style=\"text-align: right;\">\n",
       "      <th></th>\n",
       "      <th>element_type</th>\n",
       "      <th>osmid</th>\n",
       "      <th>amenity</th>\n",
       "      <th>name</th>\n",
       "      <th>geometry</th>\n",
       "      <th>opening_hours</th>\n",
       "    </tr>\n",
       "  </thead>\n",
       "  <tbody>\n",
       "    <tr>\n",
       "      <th>15</th>\n",
       "      <td>node</td>\n",
       "      <td>1801176616</td>\n",
       "      <td>bank</td>\n",
       "      <td>Santander</td>\n",
       "      <td>POINT (-37.27588 -7.02915)</td>\n",
       "      <td>Mo-Su 06:00-22:00</td>\n",
       "    </tr>\n",
       "    <tr>\n",
       "      <th>49</th>\n",
       "      <td>node</td>\n",
       "      <td>1812941830</td>\n",
       "      <td>atm</td>\n",
       "      <td>Santander</td>\n",
       "      <td>POINT (-37.27959 -7.02079)</td>\n",
       "      <td>NaN</td>\n",
       "    </tr>\n",
       "  </tbody>\n",
       "</table>\n",
       "</div>"
      ],
      "text/plain": [
       "   element_type       osmid amenity       name                    geometry  \\\n",
       "15         node  1801176616    bank  Santander  POINT (-37.27588 -7.02915)   \n",
       "49         node  1812941830     atm  Santander  POINT (-37.27959 -7.02079)   \n",
       "\n",
       "        opening_hours  \n",
       "15  Mo-Su 06:00-22:00  \n",
       "49                NaN  "
      ]
     },
     "execution_count": 5,
     "metadata": {},
     "output_type": "execute_result"
    }
   ],
   "source": [
    "pd.set_option('display.max_columns', 500)\n",
    "pois[pois['name']=='Santander']"
   ]
  },
  {
   "cell_type": "code",
   "execution_count": 6,
   "id": "3f770a32-d045-4d4a-97e3-20ad525a072a",
   "metadata": {},
   "outputs": [],
   "source": [
    "geoms = ox.geometries.geometries_from_bbox(north, south, east, west, tags={'highway':True, 'place':True, 'name':True})\n",
    "geoms = pd.DataFrame(geoms)\n",
    "geoms.reset_index(inplace=True)"
   ]
  },
  {
   "cell_type": "code",
   "execution_count": 7,
   "id": "14bf27e8-72f8-4db2-8f72-264a3d733da3",
   "metadata": {},
   "outputs": [],
   "source": [
    "def is_street(string):\n",
    "    string = str(string)\n",
    "    return string.startswith('Rua') or string.startswith('Travessa') or string.startswith('Avenida')\n",
    "\n",
    "ruas = geoms[geoms['name'].apply(is_street)==True]\n",
    "ruas = ruas[['element_type', 'osmid', 'geometry', 'highway', 'maxspeed', 'name']]"
   ]
  },
  {
   "cell_type": "code",
   "execution_count": 8,
   "id": "57152393-847b-4c83-bbaa-eda915ef3ccf",
   "metadata": {},
   "outputs": [
    {
     "data": {
      "text/html": [
       "<div>\n",
       "<style scoped>\n",
       "    .dataframe tbody tr th:only-of-type {\n",
       "        vertical-align: middle;\n",
       "    }\n",
       "\n",
       "    .dataframe tbody tr th {\n",
       "        vertical-align: top;\n",
       "    }\n",
       "\n",
       "    .dataframe thead th {\n",
       "        text-align: right;\n",
       "    }\n",
       "</style>\n",
       "<table border=\"1\" class=\"dataframe\">\n",
       "  <thead>\n",
       "    <tr style=\"text-align: right;\">\n",
       "      <th></th>\n",
       "      <th>element_type</th>\n",
       "      <th>osmid</th>\n",
       "      <th>geometry</th>\n",
       "      <th>highway</th>\n",
       "      <th>maxspeed</th>\n",
       "      <th>name</th>\n",
       "    </tr>\n",
       "  </thead>\n",
       "  <tbody>\n",
       "    <tr>\n",
       "      <th>1563</th>\n",
       "      <td>way</td>\n",
       "      <td>54690571</td>\n",
       "      <td>LINESTRING (-37.29267 -7.03183, -37.29355 -7.0...</td>\n",
       "      <td>primary</td>\n",
       "      <td>50</td>\n",
       "      <td>Rua do Prado</td>\n",
       "    </tr>\n",
       "    <tr>\n",
       "      <th>1564</th>\n",
       "      <td>way</td>\n",
       "      <td>61579255</td>\n",
       "      <td>LINESTRING (-37.27112 -7.01758, -37.27074 -7.0...</td>\n",
       "      <td>secondary</td>\n",
       "      <td>NaN</td>\n",
       "      <td>Avenida Lima Campos</td>\n",
       "    </tr>\n",
       "    <tr>\n",
       "      <th>1580</th>\n",
       "      <td>way</td>\n",
       "      <td>165774623</td>\n",
       "      <td>LINESTRING (-37.30149 -7.00534, -37.30040 -7.0...</td>\n",
       "      <td>residential</td>\n",
       "      <td>NaN</td>\n",
       "      <td>Rua Severina Dantas</td>\n",
       "    </tr>\n",
       "    <tr>\n",
       "      <th>1581</th>\n",
       "      <td>way</td>\n",
       "      <td>165774624</td>\n",
       "      <td>LINESTRING (-37.30190 -7.00594, -37.30081 -7.0...</td>\n",
       "      <td>residential</td>\n",
       "      <td>NaN</td>\n",
       "      <td>Rua Iremar Belarmino</td>\n",
       "    </tr>\n",
       "    <tr>\n",
       "      <th>1582</th>\n",
       "      <td>way</td>\n",
       "      <td>165774625</td>\n",
       "      <td>LINESTRING (-37.30121 -7.00490, -37.30129 -7.0...</td>\n",
       "      <td>residential</td>\n",
       "      <td>NaN</td>\n",
       "      <td>Rua Antônio Crisanto Dantas</td>\n",
       "    </tr>\n",
       "  </tbody>\n",
       "</table>\n",
       "</div>"
      ],
      "text/plain": [
       "     element_type      osmid  \\\n",
       "1563          way   54690571   \n",
       "1564          way   61579255   \n",
       "1580          way  165774623   \n",
       "1581          way  165774624   \n",
       "1582          way  165774625   \n",
       "\n",
       "                                               geometry      highway maxspeed  \\\n",
       "1563  LINESTRING (-37.29267 -7.03183, -37.29355 -7.0...      primary       50   \n",
       "1564  LINESTRING (-37.27112 -7.01758, -37.27074 -7.0...    secondary      NaN   \n",
       "1580  LINESTRING (-37.30149 -7.00534, -37.30040 -7.0...  residential      NaN   \n",
       "1581  LINESTRING (-37.30190 -7.00594, -37.30081 -7.0...  residential      NaN   \n",
       "1582  LINESTRING (-37.30121 -7.00490, -37.30129 -7.0...  residential      NaN   \n",
       "\n",
       "                             name  \n",
       "1563                 Rua do Prado  \n",
       "1564          Avenida Lima Campos  \n",
       "1580          Rua Severina Dantas  \n",
       "1581         Rua Iremar Belarmino  \n",
       "1582  Rua Antônio Crisanto Dantas  "
      ]
     },
     "execution_count": 8,
     "metadata": {},
     "output_type": "execute_result"
    }
   ],
   "source": [
    "ruas.head()"
   ]
  },
  {
   "cell_type": "code",
   "execution_count": 9,
   "id": "1847c269-842a-4ed5-87ba-5f13ca691d28",
   "metadata": {},
   "outputs": [],
   "source": [
    "bairros = geoms.loc[(geoms['place'] == 'neighbourhood') | (geoms['place'] == 'suburb')]\n",
    "bairros = bairros[bairros.geometry.apply(type).apply(str)==\"<class 'shapely.geometry.polygon.Polygon'>\"]\n",
    "bairros = bairros[['element_type', 'osmid', 'geometry', 'name', 'place', 'ways', 'type']]"
   ]
  },
  {
   "cell_type": "code",
   "execution_count": 10,
   "id": "3a620748-cc52-4979-a94e-61b1f2f44e37",
   "metadata": {},
   "outputs": [
    {
     "data": {
      "text/html": [
       "<div>\n",
       "<style scoped>\n",
       "    .dataframe tbody tr th:only-of-type {\n",
       "        vertical-align: middle;\n",
       "    }\n",
       "\n",
       "    .dataframe tbody tr th {\n",
       "        vertical-align: top;\n",
       "    }\n",
       "\n",
       "    .dataframe thead th {\n",
       "        text-align: right;\n",
       "    }\n",
       "</style>\n",
       "<table border=\"1\" class=\"dataframe\">\n",
       "  <thead>\n",
       "    <tr style=\"text-align: right;\">\n",
       "      <th></th>\n",
       "      <th>element_type</th>\n",
       "      <th>osmid</th>\n",
       "      <th>geometry</th>\n",
       "      <th>name</th>\n",
       "      <th>place</th>\n",
       "      <th>ways</th>\n",
       "      <th>type</th>\n",
       "    </tr>\n",
       "  </thead>\n",
       "  <tbody>\n",
       "    <tr>\n",
       "      <th>6189</th>\n",
       "      <td>relation</td>\n",
       "      <td>3819334</td>\n",
       "      <td>POLYGON ((-37.28270 -7.05786, -37.28186 -7.057...</td>\n",
       "      <td>Santa Cecília</td>\n",
       "      <td>suburb</td>\n",
       "      <td>[427104529, 171543543, 427104517, 171543546, 8...</td>\n",
       "      <td>boundary</td>\n",
       "    </tr>\n",
       "    <tr>\n",
       "      <th>6190</th>\n",
       "      <td>relation</td>\n",
       "      <td>4141969</td>\n",
       "      <td>POLYGON ((-37.28372 -7.02427, -37.28268 -7.024...</td>\n",
       "      <td>Centro</td>\n",
       "      <td>suburb</td>\n",
       "      <td>[528484442, 170491140, 525677008, 525677007, 5...</td>\n",
       "      <td>boundary</td>\n",
       "    </tr>\n",
       "    <tr>\n",
       "      <th>6191</th>\n",
       "      <td>relation</td>\n",
       "      <td>4485256</td>\n",
       "      <td>POLYGON ((-37.28158 -7.05318, -37.28147 -7.052...</td>\n",
       "      <td>Jatobá</td>\n",
       "      <td>suburb</td>\n",
       "      <td>[871208879, 871208878, 171543546, 427104517, 1...</td>\n",
       "      <td>boundary</td>\n",
       "    </tr>\n",
       "    <tr>\n",
       "      <th>6192</th>\n",
       "      <td>relation</td>\n",
       "      <td>4601772</td>\n",
       "      <td>POLYGON ((-37.28307 -7.06504, -37.28304 -7.065...</td>\n",
       "      <td>Alto da Tubiba</td>\n",
       "      <td>suburb</td>\n",
       "      <td>[169735160, 169734332, 427104540, 421411824, 3...</td>\n",
       "      <td>boundary</td>\n",
       "    </tr>\n",
       "    <tr>\n",
       "      <th>6193</th>\n",
       "      <td>relation</td>\n",
       "      <td>4601773</td>\n",
       "      <td>POLYGON ((-37.26246 -7.01933, -37.26219 -7.019...</td>\n",
       "      <td>Ana Leite</td>\n",
       "      <td>suburb</td>\n",
       "      <td>[435034545, 435034543, 435034547, 277363873, 3...</td>\n",
       "      <td>boundary</td>\n",
       "    </tr>\n",
       "  </tbody>\n",
       "</table>\n",
       "</div>"
      ],
      "text/plain": [
       "     element_type    osmid                                           geometry  \\\n",
       "6189     relation  3819334  POLYGON ((-37.28270 -7.05786, -37.28186 -7.057...   \n",
       "6190     relation  4141969  POLYGON ((-37.28372 -7.02427, -37.28268 -7.024...   \n",
       "6191     relation  4485256  POLYGON ((-37.28158 -7.05318, -37.28147 -7.052...   \n",
       "6192     relation  4601772  POLYGON ((-37.28307 -7.06504, -37.28304 -7.065...   \n",
       "6193     relation  4601773  POLYGON ((-37.26246 -7.01933, -37.26219 -7.019...   \n",
       "\n",
       "                name   place  \\\n",
       "6189   Santa Cecília  suburb   \n",
       "6190          Centro  suburb   \n",
       "6191          Jatobá  suburb   \n",
       "6192  Alto da Tubiba  suburb   \n",
       "6193       Ana Leite  suburb   \n",
       "\n",
       "                                                   ways      type  \n",
       "6189  [427104529, 171543543, 427104517, 171543546, 8...  boundary  \n",
       "6190  [528484442, 170491140, 525677008, 525677007, 5...  boundary  \n",
       "6191  [871208879, 871208878, 171543546, 427104517, 1...  boundary  \n",
       "6192  [169735160, 169734332, 427104540, 421411824, 3...  boundary  \n",
       "6193  [435034545, 435034543, 435034547, 277363873, 3...  boundary  "
      ]
     },
     "execution_count": 10,
     "metadata": {},
     "output_type": "execute_result"
    }
   ],
   "source": [
    "bairros.head()"
   ]
  },
  {
   "cell_type": "code",
   "execution_count": 11,
   "id": "1fb05817-6b81-4d18-9fe5-991194f778d4",
   "metadata": {},
   "outputs": [
    {
     "data": {
      "text/plain": [
       "(60,)"
      ]
     },
     "execution_count": 11,
     "metadata": {},
     "output_type": "execute_result"
    }
   ],
   "source": [
    "# QUANTIDADE ENCONTRADA DE DIFERENTES TIPOS DE POI\n",
    "pois.amenity.value_counts().shape"
   ]
  },
  {
   "cell_type": "code",
   "execution_count": 12,
   "id": "e2a309d7-08b0-47a8-9456-92db34c53a23",
   "metadata": {},
   "outputs": [],
   "source": [
    "# SAMPLE CODE\n",
    "# G = ox.graph_from_place('Centro, Patos, Paraíba, Brazil', network_type='drive')\n",
    "# G = ox.project_graph(G)"
   ]
  },
  {
   "cell_type": "code",
   "execution_count": 13,
   "id": "8863e859-7f4a-4c93-a2d5-aa999c59beed",
   "metadata": {},
   "outputs": [],
   "source": [
    "# SAMPLE CODE\n",
    "# import matplotlib.pyplot as plt\n",
    "# import osmnx as ox\n",
    "# ox.config(use_cache=True, log_console=True)\n",
    "\n",
    "# G = ox.graph_from_address('Centro, Patos, Paraíba, Brazil', dist=200, network_type='drive')\n",
    "# G = ox.get_undirected(G)\n",
    "\n",
    "# fig, ax = ox.plot_graph(G, bgcolor='k', edge_linewidth=3, node_size=0,\n",
    "#                         show=False, close=False)\n",
    "# for _, edge in ox.graph_to_gdfs(G, nodes=False).fillna('').iterrows():\n",
    "#     c = edge['geometry'].centroid\n",
    "#     text = edge['name']\n",
    "#     ax.annotate(text, (c.x, c.y), c='w')\n",
    "# plt.show()\n",
    "\n",
    "# python MY_SCRIPT.py >/dev/null &"
   ]
  },
  {
   "cell_type": "code",
   "execution_count": 14,
   "id": "e010f3f2-8756-47c9-9e2c-bbab9d43d2f0",
   "metadata": {},
   "outputs": [
    {
     "data": {
      "text/plain": [
       "[<shapely.geometry.point.Point at 0x7f3eb1e31070>]"
      ]
     },
     "execution_count": 14,
     "metadata": {},
     "output_type": "execute_result"
    }
   ],
   "source": [
    "# SAMPLE CODE\n",
    "nodes = [Point(1, 1), Point(0, 1)]\n",
    "linestring = LineString([(0, 0), (0, 2)])\n",
    "on_line = [node for node in nodes if node.distance(linestring) == 0.0]\n",
    "on_line"
   ]
  },
  {
   "cell_type": "code",
   "execution_count": 15,
   "id": "114da46c-decf-4e43-93bd-85d7c15552c7",
   "metadata": {},
   "outputs": [
    {
     "name": "stdout",
     "output_type": "stream",
     "text": [
      "POLYGON ((1 1, 1 0, 0.5 0.5, 1 1))\n"
     ]
    }
   ],
   "source": [
    "# SAMPLE CODE\n",
    "from shapely.geometry import Polygon\n",
    "p1 = Polygon([(0,0), (1,1), (1,0)])\n",
    "p2 = Polygon([(0,1), (1,0), (1,1)])\n",
    "print(p1.intersection(p2))"
   ]
  },
  {
   "cell_type": "code",
   "execution_count": 16,
   "id": "f597d198-7154-4f8d-a71b-0f76bd261d46",
   "metadata": {},
   "outputs": [],
   "source": [
    "proximos = ox.geometries.geometries_from_point(( -7.02390, -37.27847), tags={'highway':True}, dist=100)"
   ]
  },
  {
   "cell_type": "code",
   "execution_count": 17,
   "id": "8dab865d-88ca-4764-8f68-a891726610e5",
   "metadata": {},
   "outputs": [
    {
     "data": {
      "text/html": [
       "<div>\n",
       "<style scoped>\n",
       "    .dataframe tbody tr th:only-of-type {\n",
       "        vertical-align: middle;\n",
       "    }\n",
       "\n",
       "    .dataframe tbody tr th {\n",
       "        vertical-align: top;\n",
       "    }\n",
       "\n",
       "    .dataframe thead th {\n",
       "        text-align: right;\n",
       "    }\n",
       "</style>\n",
       "<table border=\"1\" class=\"dataframe\">\n",
       "  <thead>\n",
       "    <tr style=\"text-align: right;\">\n",
       "      <th></th>\n",
       "      <th>osmid</th>\n",
       "      <th>highway</th>\n",
       "      <th>geometry</th>\n",
       "      <th>name</th>\n",
       "      <th>nodes</th>\n",
       "      <th>lanes</th>\n",
       "      <th>oneway</th>\n",
       "      <th>ref</th>\n",
       "      <th>maxspeed</th>\n",
       "    </tr>\n",
       "  </thead>\n",
       "  <tbody>\n",
       "    <tr>\n",
       "      <th>0</th>\n",
       "      <td>167413238</td>\n",
       "      <td>primary</td>\n",
       "      <td>LINESTRING (-37.27849 -7.02330, -37.27847 -7.0...</td>\n",
       "      <td>Avenida Solon de Lucena</td>\n",
       "      <td>[1788036718, 6184545542, 1788036714]</td>\n",
       "      <td>2</td>\n",
       "      <td>yes</td>\n",
       "      <td>PB-110</td>\n",
       "      <td>NaN</td>\n",
       "    </tr>\n",
       "    <tr>\n",
       "      <th>1</th>\n",
       "      <td>167413243</td>\n",
       "      <td>residential</td>\n",
       "      <td>LINESTRING (-37.27877 -7.02373, -37.27878 -7.0...</td>\n",
       "      <td>Rua Leôncio Wanderley</td>\n",
       "      <td>[1788036696, 7027617648, 7027617653, 702761765...</td>\n",
       "      <td>NaN</td>\n",
       "      <td>yes</td>\n",
       "      <td>NaN</td>\n",
       "      <td>NaN</td>\n",
       "    </tr>\n",
       "    <tr>\n",
       "      <th>2</th>\n",
       "      <td>167413521</td>\n",
       "      <td>residential</td>\n",
       "      <td>LINESTRING (-37.27879 -7.02392, -37.27878 -7.0...</td>\n",
       "      <td>Rua Leôncio Wanderley</td>\n",
       "      <td>[7027617655, 1788043903, 1788043906, 178804390...</td>\n",
       "      <td>NaN</td>\n",
       "      <td>yes</td>\n",
       "      <td>NaN</td>\n",
       "      <td>NaN</td>\n",
       "    </tr>\n",
       "    <tr>\n",
       "      <th>3</th>\n",
       "      <td>167413640</td>\n",
       "      <td>residential</td>\n",
       "      <td>LINESTRING (-37.27792 -7.02303, -37.27765 -7.0...</td>\n",
       "      <td>Rua Major Wanderley</td>\n",
       "      <td>[1788046833, 4941278523, 4934296854]</td>\n",
       "      <td>NaN</td>\n",
       "      <td>yes</td>\n",
       "      <td>NaN</td>\n",
       "      <td>NaN</td>\n",
       "    </tr>\n",
       "    <tr>\n",
       "      <th>4</th>\n",
       "      <td>168937682</td>\n",
       "      <td>residential</td>\n",
       "      <td>LINESTRING (-37.27843 -7.02472, -37.27867 -7.0...</td>\n",
       "      <td>Rua Severino Martins</td>\n",
       "      <td>[1788036681, 1801176628]</td>\n",
       "      <td>NaN</td>\n",
       "      <td>yes</td>\n",
       "      <td>NaN</td>\n",
       "      <td>NaN</td>\n",
       "    </tr>\n",
       "  </tbody>\n",
       "</table>\n",
       "</div>"
      ],
      "text/plain": [
       "       osmid      highway                                           geometry  \\\n",
       "0  167413238      primary  LINESTRING (-37.27849 -7.02330, -37.27847 -7.0...   \n",
       "1  167413243  residential  LINESTRING (-37.27877 -7.02373, -37.27878 -7.0...   \n",
       "2  167413521  residential  LINESTRING (-37.27879 -7.02392, -37.27878 -7.0...   \n",
       "3  167413640  residential  LINESTRING (-37.27792 -7.02303, -37.27765 -7.0...   \n",
       "4  168937682  residential  LINESTRING (-37.27843 -7.02472, -37.27867 -7.0...   \n",
       "\n",
       "                      name                                              nodes  \\\n",
       "0  Avenida Solon de Lucena               [1788036718, 6184545542, 1788036714]   \n",
       "1    Rua Leôncio Wanderley  [1788036696, 7027617648, 7027617653, 702761765...   \n",
       "2    Rua Leôncio Wanderley  [7027617655, 1788043903, 1788043906, 178804390...   \n",
       "3      Rua Major Wanderley               [1788046833, 4941278523, 4934296854]   \n",
       "4     Rua Severino Martins                           [1788036681, 1801176628]   \n",
       "\n",
       "  lanes oneway     ref maxspeed  \n",
       "0     2    yes  PB-110      NaN  \n",
       "1   NaN    yes     NaN      NaN  \n",
       "2   NaN    yes     NaN      NaN  \n",
       "3   NaN    yes     NaN      NaN  \n",
       "4   NaN    yes     NaN      NaN  "
      ]
     },
     "execution_count": 17,
     "metadata": {},
     "output_type": "execute_result"
    }
   ],
   "source": [
    "proximos = proximos[proximos['name'].apply(is_street)]\n",
    "proximos = pd.DataFrame(proximos)\n",
    "proximos.reset_index(inplace=True)\n",
    "proximos[['osmid', 'highway', 'geometry', 'name', 'nodes', 'lanes', 'oneway', 'ref', 'maxspeed']].head()"
   ]
  },
  {
   "cell_type": "code",
   "execution_count": 18,
   "id": "9b58f4af-7051-4b6b-bc98-8fde5aad386d",
   "metadata": {},
   "outputs": [
    {
     "data": {
      "text/plain": [
       "(29, 19)"
      ]
     },
     "execution_count": 18,
     "metadata": {},
     "output_type": "execute_result"
    }
   ],
   "source": [
    "proximos.shape"
   ]
  },
  {
   "cell_type": "code",
   "execution_count": 19,
   "id": "84fc151f-0683-4dab-b71b-e0d5e6c98251",
   "metadata": {},
   "outputs": [],
   "source": [
    "# node.distance(linestring)\n",
    "posto_viola = Point( -7.02390, -37.27847)\n",
    "ruas_candidatas = {}"
   ]
  },
  {
   "cell_type": "code",
   "execution_count": 20,
   "id": "ef199847-6c93-4122-b2c8-ff47c56f49ca",
   "metadata": {},
   "outputs": [
    {
     "data": {
      "text/plain": [
       "[(167413238,\n",
       "  (<shapely.geometry.linestring.LineString at 0x7f3eb1e31970>,\n",
       "   'Avenida Solon de Lucena')),\n",
       " (167413243,\n",
       "  (<shapely.geometry.linestring.LineString at 0x7f3eb1e31880>,\n",
       "   'Rua Leôncio Wanderley')),\n",
       " (167413521,\n",
       "  (<shapely.geometry.linestring.LineString at 0x7f3eb1e319d0>,\n",
       "   'Rua Leôncio Wanderley')),\n",
       " (167413640,\n",
       "  (<shapely.geometry.linestring.LineString at 0x7f3eb1e31f40>,\n",
       "   'Rua Major Wanderley'))]"
      ]
     },
     "execution_count": 20,
     "metadata": {},
     "output_type": "execute_result"
    }
   ],
   "source": [
    "for index, row in proximos.iterrows():\n",
    "    ruas_candidatas[row['osmid']] = (row['geometry'], row['name'])\n",
    "list(ruas_candidatas.items())[:4]"
   ]
  },
  {
   "cell_type": "code",
   "execution_count": 21,
   "id": "b2d13757-b6a6-4c00-b36a-8664aed91f34",
   "metadata": {},
   "outputs": [],
   "source": [
    "distances = [(nome_rua, posto_viola.distance(linestring)) for linestring,nome_rua in ruas_candidatas.values()]"
   ]
  },
  {
   "cell_type": "code",
   "execution_count": 22,
   "id": "c8677e2c-8232-403b-b3d4-ab113c8acb75",
   "metadata": {},
   "outputs": [
    {
     "data": {
      "text/plain": [
       "[('Avenida Solon de Lucena', 42.78652815331677),\n",
       " ('Rua Leôncio Wanderley', 42.786268788158075),\n",
       " ('Rua Leôncio Wanderley', 42.786523910040394),\n",
       " ('Rua Major Wanderley', 42.78567856611484)]"
      ]
     },
     "execution_count": 22,
     "metadata": {},
     "output_type": "execute_result"
    }
   ],
   "source": [
    "distances[:4]"
   ]
  },
  {
   "cell_type": "code",
   "execution_count": 23,
   "id": "c23cecab-b2fd-4f3b-ba27-7cc8d504746a",
   "metadata": {},
   "outputs": [
    {
     "data": {
      "text/plain": [
       "('Avenida Solon de Lucena', 42.78371620749222)"
      ]
     },
     "execution_count": 23,
     "metadata": {},
     "output_type": "execute_result"
    }
   ],
   "source": [
    "min(distances, key = lambda e:e[1])"
   ]
  },
  {
   "cell_type": "code",
   "execution_count": 24,
   "id": "2752cae3-3b60-4d5a-8f47-080e24ec6c31",
   "metadata": {},
   "outputs": [],
   "source": [
    "santander_patos = Point(-7.02915, -37.27588)"
   ]
  },
  {
   "cell_type": "code",
   "execution_count": 25,
   "id": "f0034c16-cf38-4a09-aaaa-02f01eae1d80",
   "metadata": {},
   "outputs": [
    {
     "data": {
      "text/html": [
       "<div>\n",
       "<style scoped>\n",
       "    .dataframe tbody tr th:only-of-type {\n",
       "        vertical-align: middle;\n",
       "    }\n",
       "\n",
       "    .dataframe tbody tr th {\n",
       "        vertical-align: top;\n",
       "    }\n",
       "\n",
       "    .dataframe thead th {\n",
       "        text-align: right;\n",
       "    }\n",
       "</style>\n",
       "<table border=\"1\" class=\"dataframe\">\n",
       "  <thead>\n",
       "    <tr style=\"text-align: right;\">\n",
       "      <th></th>\n",
       "      <th>osmid</th>\n",
       "      <th>highway</th>\n",
       "      <th>geometry</th>\n",
       "      <th>name</th>\n",
       "      <th>nodes</th>\n",
       "      <th>lanes</th>\n",
       "      <th>oneway</th>\n",
       "      <th>ref</th>\n",
       "    </tr>\n",
       "  </thead>\n",
       "  <tbody>\n",
       "    <tr>\n",
       "      <th>0</th>\n",
       "      <td>166550375</td>\n",
       "      <td>primary</td>\n",
       "      <td>LINESTRING (-37.27592 -7.02952, -37.27594 -7.0...</td>\n",
       "      <td>Avenida Solon de Lucena</td>\n",
       "      <td>[1823046849, 1788036680, 4941352450, 178803672...</td>\n",
       "      <td>2</td>\n",
       "      <td>yes</td>\n",
       "      <td>PB-110</td>\n",
       "    </tr>\n",
       "    <tr>\n",
       "      <th>1</th>\n",
       "      <td>167413242</td>\n",
       "      <td>residential</td>\n",
       "      <td>LINESTRING (-37.27652 -7.02927, -37.27662 -7.0...</td>\n",
       "      <td>Rua Escritor Rui Barbosa</td>\n",
       "      <td>[7027842163, 1788036679, 4837726391, 245820958...</td>\n",
       "      <td>NaN</td>\n",
       "      <td>yes</td>\n",
       "      <td>NaN</td>\n",
       "    </tr>\n",
       "    <tr>\n",
       "      <th>2</th>\n",
       "      <td>171239512</td>\n",
       "      <td>residential</td>\n",
       "      <td>LINESTRING (-37.27603 -7.02900, -37.27550 -7.0...</td>\n",
       "      <td>Rua Tiradentes</td>\n",
       "      <td>[2514087764, 1823033261]</td>\n",
       "      <td>NaN</td>\n",
       "      <td>yes</td>\n",
       "      <td>NaN</td>\n",
       "    </tr>\n",
       "    <tr>\n",
       "      <th>3</th>\n",
       "      <td>171239514</td>\n",
       "      <td>residential</td>\n",
       "      <td>LINESTRING (-37.27539 -7.02921, -37.27594 -7.0...</td>\n",
       "      <td>Rua Coronel Miguel Sátyro</td>\n",
       "      <td>[1823033222, 1788036680]</td>\n",
       "      <td>1</td>\n",
       "      <td>yes</td>\n",
       "      <td>NaN</td>\n",
       "    </tr>\n",
       "    <tr>\n",
       "      <th>4</th>\n",
       "      <td>171239521</td>\n",
       "      <td>residential</td>\n",
       "      <td>LINESTRING (-37.27550 -7.02885, -37.27480 -7.0...</td>\n",
       "      <td>Rua Tiradentes</td>\n",
       "      <td>[1823033261, 1823033240, 1816445075]</td>\n",
       "      <td>NaN</td>\n",
       "      <td>yes</td>\n",
       "      <td>NaN</td>\n",
       "    </tr>\n",
       "  </tbody>\n",
       "</table>\n",
       "</div>"
      ],
      "text/plain": [
       "       osmid      highway                                           geometry  \\\n",
       "0  166550375      primary  LINESTRING (-37.27592 -7.02952, -37.27594 -7.0...   \n",
       "1  167413242  residential  LINESTRING (-37.27652 -7.02927, -37.27662 -7.0...   \n",
       "2  171239512  residential  LINESTRING (-37.27603 -7.02900, -37.27550 -7.0...   \n",
       "3  171239514  residential  LINESTRING (-37.27539 -7.02921, -37.27594 -7.0...   \n",
       "4  171239521  residential  LINESTRING (-37.27550 -7.02885, -37.27480 -7.0...   \n",
       "\n",
       "                        name  \\\n",
       "0    Avenida Solon de Lucena   \n",
       "1   Rua Escritor Rui Barbosa   \n",
       "2             Rua Tiradentes   \n",
       "3  Rua Coronel Miguel Sátyro   \n",
       "4             Rua Tiradentes   \n",
       "\n",
       "                                               nodes lanes oneway     ref  \n",
       "0  [1823046849, 1788036680, 4941352450, 178803672...     2    yes  PB-110  \n",
       "1  [7027842163, 1788036679, 4837726391, 245820958...   NaN    yes     NaN  \n",
       "2                           [2514087764, 1823033261]   NaN    yes     NaN  \n",
       "3                           [1823033222, 1788036680]     1    yes     NaN  \n",
       "4               [1823033261, 1823033240, 1816445075]   NaN    yes     NaN  "
      ]
     },
     "execution_count": 25,
     "metadata": {},
     "output_type": "execute_result"
    }
   ],
   "source": [
    "proximos = ox.geometries.geometries_from_point((-7.02915, -37.27588), tags={'highway':True}, dist=100)\n",
    "proximos = proximos[proximos['name'].apply(is_street)]\n",
    "proximos = pd.DataFrame(proximos)\n",
    "proximos.reset_index(inplace=True)\n",
    "proximos[['osmid', 'highway', 'geometry', 'name', 'nodes', 'lanes', 'oneway', 'ref']].head()"
   ]
  },
  {
   "cell_type": "code",
   "execution_count": 26,
   "id": "2e55764d-23f8-4f49-b9ba-cff5489c1cc8",
   "metadata": {},
   "outputs": [
    {
     "data": {
      "text/plain": [
       "('Rua Cônego Bernardo', 42.77881102759611)"
      ]
     },
     "execution_count": 26,
     "metadata": {},
     "output_type": "execute_result"
    }
   ],
   "source": [
    "ruas_candidatas = {}\n",
    "for index, row in proximos.iterrows():\n",
    "    ruas_candidatas[row['osmid']] = (row['geometry'], row['name'])\n",
    "distances = [(nome_rua, posto_viola.distance(linestring)) for linestring,nome_rua in ruas_candidatas.values()]\n",
    "min(distances, key = lambda e:e[1])"
   ]
  },
  {
   "cell_type": "code",
   "execution_count": 27,
   "id": "b87c073e-0a10-4fdd-a3e8-8dc34f8ddf70",
   "metadata": {},
   "outputs": [
    {
     "data": {
      "text/plain": [
       "('Rua Horácio Nóbrega', 42.78686014100167)"
      ]
     },
     "execution_count": 27,
     "metadata": {},
     "output_type": "execute_result"
    }
   ],
   "source": [
    "santander_patos2 = Point(-7.02079, -37.27959)\n",
    "proximos = ox.geometries.geometries_from_point((-7.02079, -37.27959), tags={'highway':True}, dist=100)\n",
    "proximos = proximos[proximos['name'].apply(is_street)]\n",
    "proximos = pd.DataFrame(proximos)\n",
    "proximos.reset_index(inplace=True)\n",
    "proximos.head()\n",
    "ruas_candidatas = {}\n",
    "for index, row in proximos.iterrows():\n",
    "    ruas_candidatas[row['osmid']] = (row['geometry'], row['name'])\n",
    "distances = [(nome_rua, posto_viola.distance(linestring)) for linestring,nome_rua in ruas_candidatas.values()]\n",
    "min(distances, key = lambda e:e[1])"
   ]
  },
  {
   "cell_type": "code",
   "execution_count": 28,
   "id": "edab1cdf-3ac9-46a4-827d-174544dc4a7b",
   "metadata": {},
   "outputs": [],
   "source": [
    "def obter_rua(place):\n",
    "    # imports\n",
    "    import osmnx as ox\n",
    "    import pandas as pd\n",
    "    from shapely.geometry import Point, LineString\n",
    "    \n",
    "    if type(place)==tuple:\n",
    "        long, lat = place\n",
    "    elif str(type(place))==\"<class 'shapely.geometry.point.Point'>\":\n",
    "        long, lat = place.coords[0]\n",
    "    elif str(type(place))==\"<class 'shapely.geometry.polygon.Polygon'>\":\n",
    "        place = place.centroid\n",
    "        long, lat = place.coords[0]\n",
    "    #print(lat,long)\n",
    "    proximos = ox.geometries.geometries_from_point((lat, long), tags={'highway':True}, dist=160)\n",
    "    #print(lat,long)\n",
    "    #print(proximos.head(2))\n",
    "    proximos = proximos[proximos['name'].apply(is_street)]\n",
    "    proximos = pd.DataFrame(proximos)\n",
    "    proximos.reset_index(inplace=True)\n",
    "    ruas_candidatas = {}\n",
    "    for index, row in proximos.iterrows():\n",
    "        ruas_candidatas[row['osmid']] = (row['geometry'], row['name'])\n",
    "    ponto = Point(long, lat)\n",
    "    distances = [(osmid_rua, ruas_candidatas[osmid_rua][1], ponto.distance(ruas_candidatas[osmid_rua][0])) for osmid_rua in ruas_candidatas ]\n",
    "    rua_selecionada = min(distances, key = lambda e:e[2])\n",
    "    #print(distances)\n",
    "    return {'osmid_rua': rua_selecionada[0],\n",
    "            'nome_rua': rua_selecionada[1],\n",
    "            'distancia': rua_selecionada[2]}"
   ]
  },
  {
   "cell_type": "code",
   "execution_count": 29,
   "id": "ca4c3161-a0e4-4c48-ae17-51dec89f5817",
   "metadata": {},
   "outputs": [],
   "source": [
    "def get_street_osmid(place):\n",
    "    return obter_rua(place)['osmid_rua']"
   ]
  },
  {
   "cell_type": "code",
   "execution_count": 30,
   "id": "06a19e66-0c99-4bcb-a767-92d331e812dd",
   "metadata": {},
   "outputs": [
    {
     "data": {
      "text/plain": [
       "{'osmid_rua': 166550375,\n",
       " 'nome_rua': 'Avenida Solon de Lucena',\n",
       " 'distancia': 0.0001056659719623498}"
      ]
     },
     "execution_count": 30,
     "metadata": {},
     "output_type": "execute_result"
    }
   ],
   "source": [
    "obter_rua(Point(-37.27588, -7.02915)) # banco santander"
   ]
  },
  {
   "cell_type": "code",
   "execution_count": 31,
   "id": "05c2a36f-c0cf-496a-86a4-9003973890e2",
   "metadata": {},
   "outputs": [
    {
     "data": {
      "text/plain": [
       "{'osmid_rua': 453768025,\n",
       " 'nome_rua': 'Rua Deca Simplício',\n",
       " 'distancia': 0.00014759160893555476}"
      ]
     },
     "execution_count": 31,
     "metadata": {},
     "output_type": "execute_result"
    }
   ],
   "source": [
    "obter_rua(polygon_paroquia_nossa_senhora_das_neves)"
   ]
  },
  {
   "cell_type": "code",
   "execution_count": 32,
   "id": "a1ffa3eb-7f0d-4257-956b-9374d9daf7e3",
   "metadata": {},
   "outputs": [
    {
     "data": {
      "text/html": [
       "<div>\n",
       "<style scoped>\n",
       "    .dataframe tbody tr th:only-of-type {\n",
       "        vertical-align: middle;\n",
       "    }\n",
       "\n",
       "    .dataframe tbody tr th {\n",
       "        vertical-align: top;\n",
       "    }\n",
       "\n",
       "    .dataframe thead th {\n",
       "        text-align: right;\n",
       "    }\n",
       "</style>\n",
       "<table border=\"1\" class=\"dataframe\">\n",
       "  <thead>\n",
       "    <tr style=\"text-align: right;\">\n",
       "      <th></th>\n",
       "      <th>element_type</th>\n",
       "      <th>osmid</th>\n",
       "      <th>amenity</th>\n",
       "      <th>name</th>\n",
       "      <th>geometry</th>\n",
       "      <th>opening_hours</th>\n",
       "    </tr>\n",
       "  </thead>\n",
       "  <tbody>\n",
       "    <tr>\n",
       "      <th>0</th>\n",
       "      <td>node</td>\n",
       "      <td>1798496605</td>\n",
       "      <td>fuel</td>\n",
       "      <td>Posto Viola</td>\n",
       "      <td>POINT (-37.27847 -7.02390)</td>\n",
       "      <td>NaN</td>\n",
       "    </tr>\n",
       "    <tr>\n",
       "      <th>1</th>\n",
       "      <td>node</td>\n",
       "      <td>1798496642</td>\n",
       "      <td>taxi</td>\n",
       "      <td>Moto táxi Praça dos Pombos</td>\n",
       "      <td>POINT (-37.27843 -7.02361)</td>\n",
       "      <td>NaN</td>\n",
       "    </tr>\n",
       "    <tr>\n",
       "      <th>2</th>\n",
       "      <td>node</td>\n",
       "      <td>1798525769</td>\n",
       "      <td>taxi</td>\n",
       "      <td>Táxi Rodoviária Velha</td>\n",
       "      <td>POINT (-37.27735 -7.02265)</td>\n",
       "      <td>NaN</td>\n",
       "    </tr>\n",
       "    <tr>\n",
       "      <th>3</th>\n",
       "      <td>node</td>\n",
       "      <td>1798525772</td>\n",
       "      <td>taxi</td>\n",
       "      <td>Táxi Fórum Miguel Sátiro</td>\n",
       "      <td>POINT (-37.27702 -7.02601)</td>\n",
       "      <td>NaN</td>\n",
       "    </tr>\n",
       "    <tr>\n",
       "      <th>4</th>\n",
       "      <td>node</td>\n",
       "      <td>1798919196</td>\n",
       "      <td>bar</td>\n",
       "      <td>Bar do Rock</td>\n",
       "      <td>POINT (-37.27702 -7.02204)</td>\n",
       "      <td>We-Su 19:00-02:00+; week 25-26 18:00-04:00</td>\n",
       "    </tr>\n",
       "  </tbody>\n",
       "</table>\n",
       "</div>"
      ],
      "text/plain": [
       "  element_type       osmid amenity                        name  \\\n",
       "0         node  1798496605    fuel                 Posto Viola   \n",
       "1         node  1798496642    taxi  Moto táxi Praça dos Pombos   \n",
       "2         node  1798525769    taxi       Táxi Rodoviária Velha   \n",
       "3         node  1798525772    taxi    Táxi Fórum Miguel Sátiro   \n",
       "4         node  1798919196     bar                 Bar do Rock   \n",
       "\n",
       "                     geometry                               opening_hours  \n",
       "0  POINT (-37.27847 -7.02390)                                         NaN  \n",
       "1  POINT (-37.27843 -7.02361)                                         NaN  \n",
       "2  POINT (-37.27735 -7.02265)                                         NaN  \n",
       "3  POINT (-37.27702 -7.02601)                                         NaN  \n",
       "4  POINT (-37.27702 -7.02204)  We-Su 19:00-02:00+; week 25-26 18:00-04:00  "
      ]
     },
     "execution_count": 32,
     "metadata": {},
     "output_type": "execute_result"
    }
   ],
   "source": [
    "pois.head()"
   ]
  },
  {
   "cell_type": "code",
   "execution_count": 33,
   "id": "1dfc307c-64ee-46b9-b1c7-9b5157bf5654",
   "metadata": {},
   "outputs": [],
   "source": [
    "def get_centroid(element):\n",
    "    if str(type(element)) == \"<class 'shapely.geometry.polygon.Polygon'>\":\n",
    "        return element.centroid\n",
    "    return element"
   ]
  },
  {
   "cell_type": "code",
   "execution_count": 54,
   "id": "5db9841d-0b5d-4ac5-9a91-e7d3e17e971a",
   "metadata": {},
   "outputs": [
    {
     "ename": "KeyError",
     "evalue": "'name'",
     "output_type": "error",
     "traceback": [
      "\u001b[1;31m---------------------------------------------------------------------------\u001b[0m",
      "\u001b[1;31mKeyError\u001b[0m                                  Traceback (most recent call last)",
      "File \u001b[1;32mC:\\OSGeo4W\\apps\\Python39\\lib\\site-packages\\pandas\\core\\indexes\\base.py:3802\u001b[0m, in \u001b[0;36mIndex.get_loc\u001b[1;34m(self, key, method, tolerance)\u001b[0m\n\u001b[0;32m   3801\u001b[0m \u001b[38;5;28;01mtry\u001b[39;00m:\n\u001b[1;32m-> 3802\u001b[0m     \u001b[38;5;28;01mreturn\u001b[39;00m \u001b[38;5;28;43mself\u001b[39;49m\u001b[38;5;241;43m.\u001b[39;49m\u001b[43m_engine\u001b[49m\u001b[38;5;241;43m.\u001b[39;49m\u001b[43mget_loc\u001b[49m\u001b[43m(\u001b[49m\u001b[43mcasted_key\u001b[49m\u001b[43m)\u001b[49m\n\u001b[0;32m   3803\u001b[0m \u001b[38;5;28;01mexcept\u001b[39;00m \u001b[38;5;167;01mKeyError\u001b[39;00m \u001b[38;5;28;01mas\u001b[39;00m err:\n",
      "File \u001b[1;32mC:\\OSGeo4W\\apps\\Python39\\lib\\site-packages\\pandas\\_libs\\index.pyx:138\u001b[0m, in \u001b[0;36mpandas._libs.index.IndexEngine.get_loc\u001b[1;34m()\u001b[0m\n",
      "File \u001b[1;32mC:\\OSGeo4W\\apps\\Python39\\lib\\site-packages\\pandas\\_libs\\index.pyx:165\u001b[0m, in \u001b[0;36mpandas._libs.index.IndexEngine.get_loc\u001b[1;34m()\u001b[0m\n",
      "File \u001b[1;32mpandas\\_libs\\hashtable_class_helper.pxi:5745\u001b[0m, in \u001b[0;36mpandas._libs.hashtable.PyObjectHashTable.get_item\u001b[1;34m()\u001b[0m\n",
      "File \u001b[1;32mpandas\\_libs\\hashtable_class_helper.pxi:5753\u001b[0m, in \u001b[0;36mpandas._libs.hashtable.PyObjectHashTable.get_item\u001b[1;34m()\u001b[0m\n",
      "\u001b[1;31mKeyError\u001b[0m: 'name'",
      "\nThe above exception was the direct cause of the following exception:\n",
      "\u001b[1;31mKeyError\u001b[0m                                  Traceback (most recent call last)",
      "Cell \u001b[1;32mIn[54], line 1\u001b[0m\n\u001b[1;32m----> 1\u001b[0m pois[\u001b[38;5;124m'\u001b[39m\u001b[38;5;124mstreet_osmid\u001b[39m\u001b[38;5;124m'\u001b[39m] \u001b[38;5;241m=\u001b[39m \u001b[43mpois\u001b[49m\u001b[43m[\u001b[49m\u001b[38;5;124;43m'\u001b[39;49m\u001b[38;5;124;43mgeometry\u001b[39;49m\u001b[38;5;124;43m'\u001b[39;49m\u001b[43m]\u001b[49m\u001b[38;5;241;43m.\u001b[39;49m\u001b[43mapply\u001b[49m\u001b[43m(\u001b[49m\u001b[43mobter_rua\u001b[49m\u001b[43m)\u001b[49m\n",
      "File \u001b[1;32mC:\\OSGeo4W\\apps\\Python39\\lib\\site-packages\\pandas\\core\\series.py:4771\u001b[0m, in \u001b[0;36mSeries.apply\u001b[1;34m(self, func, convert_dtype, args, **kwargs)\u001b[0m\n\u001b[0;32m   4661\u001b[0m \u001b[38;5;28;01mdef\u001b[39;00m \u001b[38;5;21mapply\u001b[39m(\n\u001b[0;32m   4662\u001b[0m     \u001b[38;5;28mself\u001b[39m,\n\u001b[0;32m   4663\u001b[0m     func: AggFuncType,\n\u001b[1;32m   (...)\u001b[0m\n\u001b[0;32m   4666\u001b[0m     \u001b[38;5;241m*\u001b[39m\u001b[38;5;241m*\u001b[39mkwargs,\n\u001b[0;32m   4667\u001b[0m ) \u001b[38;5;241m-\u001b[39m\u001b[38;5;241m>\u001b[39m DataFrame \u001b[38;5;241m|\u001b[39m Series:\n\u001b[0;32m   4668\u001b[0m \u001b[38;5;250m    \u001b[39m\u001b[38;5;124;03m\"\"\"\u001b[39;00m\n\u001b[0;32m   4669\u001b[0m \u001b[38;5;124;03m    Invoke function on values of Series.\u001b[39;00m\n\u001b[0;32m   4670\u001b[0m \n\u001b[1;32m   (...)\u001b[0m\n\u001b[0;32m   4769\u001b[0m \u001b[38;5;124;03m    dtype: float64\u001b[39;00m\n\u001b[0;32m   4770\u001b[0m \u001b[38;5;124;03m    \"\"\"\u001b[39;00m\n\u001b[1;32m-> 4771\u001b[0m     \u001b[38;5;28;01mreturn\u001b[39;00m \u001b[43mSeriesApply\u001b[49m\u001b[43m(\u001b[49m\u001b[38;5;28;43mself\u001b[39;49m\u001b[43m,\u001b[49m\u001b[43m \u001b[49m\u001b[43mfunc\u001b[49m\u001b[43m,\u001b[49m\u001b[43m \u001b[49m\u001b[43mconvert_dtype\u001b[49m\u001b[43m,\u001b[49m\u001b[43m \u001b[49m\u001b[43margs\u001b[49m\u001b[43m,\u001b[49m\u001b[43m \u001b[49m\u001b[43mkwargs\u001b[49m\u001b[43m)\u001b[49m\u001b[38;5;241;43m.\u001b[39;49m\u001b[43mapply\u001b[49m\u001b[43m(\u001b[49m\u001b[43m)\u001b[49m\n",
      "File \u001b[1;32mC:\\OSGeo4W\\apps\\Python39\\lib\\site-packages\\pandas\\core\\apply.py:1123\u001b[0m, in \u001b[0;36mSeriesApply.apply\u001b[1;34m(self)\u001b[0m\n\u001b[0;32m   1120\u001b[0m     \u001b[38;5;28;01mreturn\u001b[39;00m \u001b[38;5;28mself\u001b[39m\u001b[38;5;241m.\u001b[39mapply_str()\n\u001b[0;32m   1122\u001b[0m \u001b[38;5;66;03m# self.f is Callable\u001b[39;00m\n\u001b[1;32m-> 1123\u001b[0m \u001b[38;5;28;01mreturn\u001b[39;00m \u001b[38;5;28;43mself\u001b[39;49m\u001b[38;5;241;43m.\u001b[39;49m\u001b[43mapply_standard\u001b[49m\u001b[43m(\u001b[49m\u001b[43m)\u001b[49m\n",
      "File \u001b[1;32mC:\\OSGeo4W\\apps\\Python39\\lib\\site-packages\\pandas\\core\\apply.py:1174\u001b[0m, in \u001b[0;36mSeriesApply.apply_standard\u001b[1;34m(self)\u001b[0m\n\u001b[0;32m   1172\u001b[0m     \u001b[38;5;28;01melse\u001b[39;00m:\n\u001b[0;32m   1173\u001b[0m         values \u001b[38;5;241m=\u001b[39m obj\u001b[38;5;241m.\u001b[39mastype(\u001b[38;5;28mobject\u001b[39m)\u001b[38;5;241m.\u001b[39m_values\n\u001b[1;32m-> 1174\u001b[0m         mapped \u001b[38;5;241m=\u001b[39m \u001b[43mlib\u001b[49m\u001b[38;5;241;43m.\u001b[39;49m\u001b[43mmap_infer\u001b[49m\u001b[43m(\u001b[49m\n\u001b[0;32m   1175\u001b[0m \u001b[43m            \u001b[49m\u001b[43mvalues\u001b[49m\u001b[43m,\u001b[49m\n\u001b[0;32m   1176\u001b[0m \u001b[43m            \u001b[49m\u001b[43mf\u001b[49m\u001b[43m,\u001b[49m\n\u001b[0;32m   1177\u001b[0m \u001b[43m            \u001b[49m\u001b[43mconvert\u001b[49m\u001b[38;5;241;43m=\u001b[39;49m\u001b[38;5;28;43mself\u001b[39;49m\u001b[38;5;241;43m.\u001b[39;49m\u001b[43mconvert_dtype\u001b[49m\u001b[43m,\u001b[49m\n\u001b[0;32m   1178\u001b[0m \u001b[43m        \u001b[49m\u001b[43m)\u001b[49m\n\u001b[0;32m   1180\u001b[0m \u001b[38;5;28;01mif\u001b[39;00m \u001b[38;5;28mlen\u001b[39m(mapped) \u001b[38;5;129;01mand\u001b[39;00m \u001b[38;5;28misinstance\u001b[39m(mapped[\u001b[38;5;241m0\u001b[39m], ABCSeries):\n\u001b[0;32m   1181\u001b[0m     \u001b[38;5;66;03m# GH#43986 Need to do list(mapped) in order to get treated as nested\u001b[39;00m\n\u001b[0;32m   1182\u001b[0m     \u001b[38;5;66;03m#  See also GH#25959 regarding EA support\u001b[39;00m\n\u001b[0;32m   1183\u001b[0m     \u001b[38;5;28;01mreturn\u001b[39;00m obj\u001b[38;5;241m.\u001b[39m_constructor_expanddim(\u001b[38;5;28mlist\u001b[39m(mapped), index\u001b[38;5;241m=\u001b[39mobj\u001b[38;5;241m.\u001b[39mindex)\n",
      "File \u001b[1;32mC:\\OSGeo4W\\apps\\Python39\\lib\\site-packages\\pandas\\_libs\\lib.pyx:2924\u001b[0m, in \u001b[0;36mpandas._libs.lib.map_infer\u001b[1;34m()\u001b[0m\n",
      "Cell \u001b[1;32mIn[53], line 18\u001b[0m, in \u001b[0;36mobter_rua\u001b[1;34m(place)\u001b[0m\n\u001b[0;32m     15\u001b[0m proximos \u001b[38;5;241m=\u001b[39m ox\u001b[38;5;241m.\u001b[39mgeometries\u001b[38;5;241m.\u001b[39mgeometries_from_point((lat, long), tags\u001b[38;5;241m=\u001b[39m{\u001b[38;5;124m'\u001b[39m\u001b[38;5;124mhighway\u001b[39m\u001b[38;5;124m'\u001b[39m:\u001b[38;5;28;01mTrue\u001b[39;00m}, dist\u001b[38;5;241m=\u001b[39m\u001b[38;5;241m160\u001b[39m)\n\u001b[0;32m     16\u001b[0m \u001b[38;5;66;03m#print(lat,long)\u001b[39;00m\n\u001b[0;32m     17\u001b[0m \u001b[38;5;66;03m#print(proximos.head(2))\u001b[39;00m\n\u001b[1;32m---> 18\u001b[0m proximos \u001b[38;5;241m=\u001b[39m proximos[\u001b[43mproximos\u001b[49m\u001b[43m[\u001b[49m\u001b[38;5;124;43m'\u001b[39;49m\u001b[38;5;124;43mname\u001b[39;49m\u001b[38;5;124;43m'\u001b[39;49m\u001b[43m]\u001b[49m\u001b[38;5;241m.\u001b[39mapply(is_street)]\n\u001b[0;32m     19\u001b[0m proximos \u001b[38;5;241m=\u001b[39m pd\u001b[38;5;241m.\u001b[39mDataFrame(proximos)\n\u001b[0;32m     20\u001b[0m proximos\u001b[38;5;241m.\u001b[39mreset_index(inplace\u001b[38;5;241m=\u001b[39m\u001b[38;5;28;01mTrue\u001b[39;00m)\n",
      "File \u001b[1;32mC:\\OSGeo4W\\apps\\Python39\\lib\\site-packages\\geopandas\\geodataframe.py:1415\u001b[0m, in \u001b[0;36mGeoDataFrame.__getitem__\u001b[1;34m(self, key)\u001b[0m\n\u001b[0;32m   1409\u001b[0m \u001b[38;5;28;01mdef\u001b[39;00m \u001b[38;5;21m__getitem__\u001b[39m(\u001b[38;5;28mself\u001b[39m, key):\n\u001b[0;32m   1410\u001b[0m \u001b[38;5;250m    \u001b[39m\u001b[38;5;124;03m\"\"\"\u001b[39;00m\n\u001b[0;32m   1411\u001b[0m \u001b[38;5;124;03m    If the result is a column containing only 'geometry', return a\u001b[39;00m\n\u001b[0;32m   1412\u001b[0m \u001b[38;5;124;03m    GeoSeries. If it's a DataFrame with any columns of GeometryDtype,\u001b[39;00m\n\u001b[0;32m   1413\u001b[0m \u001b[38;5;124;03m    return a GeoDataFrame.\u001b[39;00m\n\u001b[0;32m   1414\u001b[0m \u001b[38;5;124;03m    \"\"\"\u001b[39;00m\n\u001b[1;32m-> 1415\u001b[0m     result \u001b[38;5;241m=\u001b[39m \u001b[38;5;28;43msuper\u001b[39;49m\u001b[43m(\u001b[49m\u001b[43m)\u001b[49m\u001b[38;5;241;43m.\u001b[39;49m\u001b[38;5;21;43m__getitem__\u001b[39;49m\u001b[43m(\u001b[49m\u001b[43mkey\u001b[49m\u001b[43m)\u001b[49m\n\u001b[0;32m   1416\u001b[0m     geo_col \u001b[38;5;241m=\u001b[39m \u001b[38;5;28mself\u001b[39m\u001b[38;5;241m.\u001b[39m_geometry_column_name\n\u001b[0;32m   1417\u001b[0m     \u001b[38;5;28;01mif\u001b[39;00m \u001b[38;5;28misinstance\u001b[39m(result, Series) \u001b[38;5;129;01mand\u001b[39;00m \u001b[38;5;28misinstance\u001b[39m(result\u001b[38;5;241m.\u001b[39mdtype, GeometryDtype):\n",
      "File \u001b[1;32mC:\\OSGeo4W\\apps\\Python39\\lib\\site-packages\\pandas\\core\\frame.py:3807\u001b[0m, in \u001b[0;36mDataFrame.__getitem__\u001b[1;34m(self, key)\u001b[0m\n\u001b[0;32m   3805\u001b[0m \u001b[38;5;28;01mif\u001b[39;00m \u001b[38;5;28mself\u001b[39m\u001b[38;5;241m.\u001b[39mcolumns\u001b[38;5;241m.\u001b[39mnlevels \u001b[38;5;241m>\u001b[39m \u001b[38;5;241m1\u001b[39m:\n\u001b[0;32m   3806\u001b[0m     \u001b[38;5;28;01mreturn\u001b[39;00m \u001b[38;5;28mself\u001b[39m\u001b[38;5;241m.\u001b[39m_getitem_multilevel(key)\n\u001b[1;32m-> 3807\u001b[0m indexer \u001b[38;5;241m=\u001b[39m \u001b[38;5;28;43mself\u001b[39;49m\u001b[38;5;241;43m.\u001b[39;49m\u001b[43mcolumns\u001b[49m\u001b[38;5;241;43m.\u001b[39;49m\u001b[43mget_loc\u001b[49m\u001b[43m(\u001b[49m\u001b[43mkey\u001b[49m\u001b[43m)\u001b[49m\n\u001b[0;32m   3808\u001b[0m \u001b[38;5;28;01mif\u001b[39;00m is_integer(indexer):\n\u001b[0;32m   3809\u001b[0m     indexer \u001b[38;5;241m=\u001b[39m [indexer]\n",
      "File \u001b[1;32mC:\\OSGeo4W\\apps\\Python39\\lib\\site-packages\\pandas\\core\\indexes\\base.py:3804\u001b[0m, in \u001b[0;36mIndex.get_loc\u001b[1;34m(self, key, method, tolerance)\u001b[0m\n\u001b[0;32m   3802\u001b[0m     \u001b[38;5;28;01mreturn\u001b[39;00m \u001b[38;5;28mself\u001b[39m\u001b[38;5;241m.\u001b[39m_engine\u001b[38;5;241m.\u001b[39mget_loc(casted_key)\n\u001b[0;32m   3803\u001b[0m \u001b[38;5;28;01mexcept\u001b[39;00m \u001b[38;5;167;01mKeyError\u001b[39;00m \u001b[38;5;28;01mas\u001b[39;00m err:\n\u001b[1;32m-> 3804\u001b[0m     \u001b[38;5;28;01mraise\u001b[39;00m \u001b[38;5;167;01mKeyError\u001b[39;00m(key) \u001b[38;5;28;01mfrom\u001b[39;00m \u001b[38;5;21;01merr\u001b[39;00m\n\u001b[0;32m   3805\u001b[0m \u001b[38;5;28;01mexcept\u001b[39;00m \u001b[38;5;167;01mTypeError\u001b[39;00m:\n\u001b[0;32m   3806\u001b[0m     \u001b[38;5;66;03m# If we have a listlike key, _check_indexing_error will raise\u001b[39;00m\n\u001b[0;32m   3807\u001b[0m     \u001b[38;5;66;03m#  InvalidIndexError. Otherwise we fall through and re-raise\u001b[39;00m\n\u001b[0;32m   3808\u001b[0m     \u001b[38;5;66;03m#  the TypeError.\u001b[39;00m\n\u001b[0;32m   3809\u001b[0m     \u001b[38;5;28mself\u001b[39m\u001b[38;5;241m.\u001b[39m_check_indexing_error(key)\n",
      "\u001b[1;31mKeyError\u001b[0m: 'name'"
     ]
    }
   ],
   "source": [
    "pois['street_osmid'] = pois['geometry'].apply(obter_rua)"
   ]
  },
  {
   "cell_type": "code",
   "execution_count": null,
   "id": "a229588b-ec32-4e97-bfc1-0e4967ad892f",
   "metadata": {},
   "outputs": [],
   "source": [
    "pois.head()"
   ]
  },
  {
   "cell_type": "code",
   "execution_count": 34,
   "id": "003fd3f4-b595-4beb-a06b-b79c1bc53350",
   "metadata": {},
   "outputs": [
    {
     "name": "stdout",
     "output_type": "stream",
     "text": [
      "True\n",
      "1.0\n",
      "POLYGON ((2 2, 4 2, 3.1666666666666665 1.1666666666666667, 1.8333333333333333 1.8333333333333333, 2 2))\n"
     ]
    }
   ],
   "source": [
    "from shapely.geometry import Polygon\n",
    "\n",
    "p = Polygon([(1,1),(2,2),(4,2),(3,1)])\n",
    "q = Polygon([(1.5,2),(3,5),(5,4),(3.5,1)])\n",
    "print(p.intersects(q))  # True\n",
    "print(p.intersection(q).area)  # 1.0\n",
    "x = p.intersection(q)\n",
    "print(x) "
   ]
  },
  {
   "cell_type": "code",
   "execution_count": null,
   "id": "fb5a8445-fbc1-4842-89bb-b57da3950422",
   "metadata": {},
   "outputs": [],
   "source": []
  }
 ],
 "metadata": {
  "kernelspec": {
   "display_name": "Python 3 (ipykernel)",
   "language": "python",
   "name": "python3"
  },
  "language_info": {
   "codemirror_mode": {
    "name": "ipython",
    "version": 3
   },
   "file_extension": ".py",
   "mimetype": "text/x-python",
   "name": "python",
   "nbconvert_exporter": "python",
   "pygments_lexer": "ipython3",
   "version": "3.8.10"
  }
 },
 "nbformat": 4,
 "nbformat_minor": 5
}
