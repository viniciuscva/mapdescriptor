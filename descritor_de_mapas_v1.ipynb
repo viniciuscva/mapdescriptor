{
 "cells": [
  {
   "cell_type": "code",
   "execution_count": 1,
   "id": "a45b6ca1-a832-4b25-a705-0950f0dfeec1",
   "metadata": {},
   "outputs": [],
   "source": [
    "import osmnx as ox\n",
    "import pandas as pd\n",
    "import numpy as np\n",
    "import matplotlib.pyplot as plt\n",
    "from shapely.geometry import Point, LineString, Polygon"
   ]
  },
  {
   "cell_type": "code",
   "execution_count": 2,
   "id": "9191e8aa-0afb-40d6-923f-2cee30a52636",
   "metadata": {},
   "outputs": [
    {
     "data": {
      "text/html": [
       "<div>\n",
       "<style scoped>\n",
       "    .dataframe tbody tr th:only-of-type {\n",
       "        vertical-align: middle;\n",
       "    }\n",
       "\n",
       "    .dataframe tbody tr th {\n",
       "        vertical-align: top;\n",
       "    }\n",
       "\n",
       "    .dataframe thead th {\n",
       "        text-align: right;\n",
       "    }\n",
       "</style>\n",
       "<table border=\"1\" class=\"dataframe\">\n",
       "  <thead>\n",
       "    <tr style=\"text-align: right;\">\n",
       "      <th></th>\n",
       "      <th>element_type</th>\n",
       "      <th>osmid</th>\n",
       "      <th>amenity</th>\n",
       "      <th>name</th>\n",
       "      <th>geometry</th>\n",
       "      <th>opening_hours</th>\n",
       "    </tr>\n",
       "  </thead>\n",
       "  <tbody>\n",
       "    <tr>\n",
       "      <th>0</th>\n",
       "      <td>node</td>\n",
       "      <td>1798496605</td>\n",
       "      <td>fuel</td>\n",
       "      <td>Posto Viola</td>\n",
       "      <td>POINT (-37.27847 -7.02390)</td>\n",
       "      <td>NaN</td>\n",
       "    </tr>\n",
       "    <tr>\n",
       "      <th>1</th>\n",
       "      <td>node</td>\n",
       "      <td>1798496642</td>\n",
       "      <td>taxi</td>\n",
       "      <td>Moto táxi Praça dos Pombos</td>\n",
       "      <td>POINT (-37.27843 -7.02361)</td>\n",
       "      <td>NaN</td>\n",
       "    </tr>\n",
       "    <tr>\n",
       "      <th>2</th>\n",
       "      <td>node</td>\n",
       "      <td>1798525769</td>\n",
       "      <td>taxi</td>\n",
       "      <td>Táxi Rodoviária Velha</td>\n",
       "      <td>POINT (-37.27735 -7.02265)</td>\n",
       "      <td>NaN</td>\n",
       "    </tr>\n",
       "    <tr>\n",
       "      <th>3</th>\n",
       "      <td>node</td>\n",
       "      <td>1798525772</td>\n",
       "      <td>taxi</td>\n",
       "      <td>Táxi Fórum Miguel Sátiro</td>\n",
       "      <td>POINT (-37.27702 -7.02601)</td>\n",
       "      <td>NaN</td>\n",
       "    </tr>\n",
       "    <tr>\n",
       "      <th>4</th>\n",
       "      <td>node</td>\n",
       "      <td>1798919196</td>\n",
       "      <td>bar</td>\n",
       "      <td>Bar do Rock</td>\n",
       "      <td>POINT (-37.27702 -7.02204)</td>\n",
       "      <td>We-Su 19:00-02:00+; week 25-26 18:00-04:00</td>\n",
       "    </tr>\n",
       "  </tbody>\n",
       "</table>\n",
       "</div>"
      ],
      "text/plain": [
       "  element_type       osmid amenity                        name  \\\n",
       "0         node  1798496605    fuel                 Posto Viola   \n",
       "1         node  1798496642    taxi  Moto táxi Praça dos Pombos   \n",
       "2         node  1798525769    taxi       Táxi Rodoviária Velha   \n",
       "3         node  1798525772    taxi    Táxi Fórum Miguel Sátiro   \n",
       "4         node  1798919196     bar                 Bar do Rock   \n",
       "\n",
       "                     geometry                               opening_hours  \n",
       "0  POINT (-37.27847 -7.02390)                                         NaN  \n",
       "1  POINT (-37.27843 -7.02361)                                         NaN  \n",
       "2  POINT (-37.27735 -7.02265)                                         NaN  \n",
       "3  POINT (-37.27702 -7.02601)                                         NaN  \n",
       "4  POINT (-37.27702 -7.02204)  We-Su 19:00-02:00+; week 25-26 18:00-04:00  "
      ]
     },
     "execution_count": 2,
     "metadata": {},
     "output_type": "execute_result"
    }
   ],
   "source": [
    "# osmnx.geometries.geometries_from_bbox(north, south, east, west, tags)\n",
    "# https://www.mapsdirections.info/pt/coordenadas-gps.html\n",
    "# ANALISANDO CIDADE DE PATOS - PB\n",
    "north = -6.9875\n",
    "west = -37.3303\n",
    "south = -7.0882\n",
    "east = -37.2215\n",
    "pois = ox.geometries.geometries_from_bbox(north, south, east, west, tags={'amenity':True})\n",
    "pois2 = pois\n",
    "pois = pd.DataFrame(pois)\n",
    "pois.reset_index(inplace=True)\n",
    "pois = pois[['element_type', 'osmid', 'amenity', 'name', 'geometry', 'opening_hours']]\n",
    "pois.head()"
   ]
  },
  {
   "cell_type": "code",
   "execution_count": 3,
   "id": "0fa8238a-8b3f-4307-9c9e-8c0100bc2e0a",
   "metadata": {},
   "outputs": [
    {
     "data": {
      "text/html": [
       "<div>\n",
       "<style scoped>\n",
       "    .dataframe tbody tr th:only-of-type {\n",
       "        vertical-align: middle;\n",
       "    }\n",
       "\n",
       "    .dataframe tbody tr th {\n",
       "        vertical-align: top;\n",
       "    }\n",
       "\n",
       "    .dataframe thead th {\n",
       "        text-align: right;\n",
       "    }\n",
       "</style>\n",
       "<table border=\"1\" class=\"dataframe\">\n",
       "  <thead>\n",
       "    <tr style=\"text-align: right;\">\n",
       "      <th></th>\n",
       "      <th>element_type</th>\n",
       "      <th>osmid</th>\n",
       "      <th>amenity</th>\n",
       "      <th>name</th>\n",
       "      <th>geometry</th>\n",
       "      <th>opening_hours</th>\n",
       "    </tr>\n",
       "  </thead>\n",
       "  <tbody>\n",
       "    <tr>\n",
       "      <th>640</th>\n",
       "      <td>way</td>\n",
       "      <td>165773628</td>\n",
       "      <td>parking</td>\n",
       "      <td>NaN</td>\n",
       "      <td>POLYGON ((-37.30354 -7.00531, -37.30316 -7.005...</td>\n",
       "      <td>NaN</td>\n",
       "    </tr>\n",
       "    <tr>\n",
       "      <th>641</th>\n",
       "      <td>way</td>\n",
       "      <td>166259294</td>\n",
       "      <td>place_of_worship</td>\n",
       "      <td>NaN</td>\n",
       "      <td>POLYGON ((-37.30145 -7.00646, -37.30139 -7.006...</td>\n",
       "      <td>NaN</td>\n",
       "    </tr>\n",
       "    <tr>\n",
       "      <th>642</th>\n",
       "      <td>way</td>\n",
       "      <td>166259767</td>\n",
       "      <td>parking</td>\n",
       "      <td>NaN</td>\n",
       "      <td>POLYGON ((-37.30149 -7.00651, -37.30200 -7.006...</td>\n",
       "      <td>NaN</td>\n",
       "    </tr>\n",
       "    <tr>\n",
       "      <th>643</th>\n",
       "      <td>way</td>\n",
       "      <td>166429876</td>\n",
       "      <td>place_of_worship</td>\n",
       "      <td>Paróquia Nossa Senhora Das Neves</td>\n",
       "      <td>POLYGON ((-37.30090 -7.03673, -37.30082 -7.037...</td>\n",
       "      <td>NaN</td>\n",
       "    </tr>\n",
       "    <tr>\n",
       "      <th>644</th>\n",
       "      <td>way</td>\n",
       "      <td>166550089</td>\n",
       "      <td>college</td>\n",
       "      <td>IFPB - Campus Patos</td>\n",
       "      <td>POLYGON ((-37.28455 -7.07763, -37.28672 -7.076...</td>\n",
       "      <td>Su-Fr 07:00-22:00; week 01 off; week 53 off; S...</td>\n",
       "    </tr>\n",
       "  </tbody>\n",
       "</table>\n",
       "</div>"
      ],
      "text/plain": [
       "    element_type      osmid           amenity  \\\n",
       "640          way  165773628           parking   \n",
       "641          way  166259294  place_of_worship   \n",
       "642          way  166259767           parking   \n",
       "643          way  166429876  place_of_worship   \n",
       "644          way  166550089           college   \n",
       "\n",
       "                                 name  \\\n",
       "640                               NaN   \n",
       "641                               NaN   \n",
       "642                               NaN   \n",
       "643  Paróquia Nossa Senhora Das Neves   \n",
       "644               IFPB - Campus Patos   \n",
       "\n",
       "                                              geometry  \\\n",
       "640  POLYGON ((-37.30354 -7.00531, -37.30316 -7.005...   \n",
       "641  POLYGON ((-37.30145 -7.00646, -37.30139 -7.006...   \n",
       "642  POLYGON ((-37.30149 -7.00651, -37.30200 -7.006...   \n",
       "643  POLYGON ((-37.30090 -7.03673, -37.30082 -7.037...   \n",
       "644  POLYGON ((-37.28455 -7.07763, -37.28672 -7.076...   \n",
       "\n",
       "                                         opening_hours  \n",
       "640                                                NaN  \n",
       "641                                                NaN  \n",
       "642                                                NaN  \n",
       "643                                                NaN  \n",
       "644  Su-Fr 07:00-22:00; week 01 off; week 53 off; S...  "
      ]
     },
     "execution_count": 3,
     "metadata": {},
     "output_type": "execute_result"
    }
   ],
   "source": [
    "pois[pois.geometry.apply(type).apply(str)==\"<class 'shapely.geometry.polygon.Polygon'>\"].head()"
   ]
  },
  {
   "cell_type": "code",
   "execution_count": 4,
   "id": "9a5dd4c8-4f60-48d5-ba95-d86950627a02",
   "metadata": {},
   "outputs": [
    {
     "name": "stdout",
     "output_type": "stream",
     "text": [
      "<class 'shapely.geometry.polygon.Polygon'>\n"
     ]
    },
    {
     "data": {
      "image/svg+xml": [
       "<svg xmlns=\"http://www.w3.org/2000/svg\" xmlns:xlink=\"http://www.w3.org/1999/xlink\" width=\"100.0\" height=\"100.0\" viewBox=\"-37.300918536 -7.037053036 0.0002832719999972255 0.000381671999999611\" preserveAspectRatio=\"xMinYMin meet\"><g transform=\"matrix(1,0,0,-1,0,-14.0737244)\"><path fill-rule=\"evenodd\" fill=\"#66cc99\" stroke=\"#555555\" stroke-width=\"7.633439999992219e-06\" opacity=\"0.6\" d=\"M -37.3009044,-7.0367324 L -37.3008176,-7.0370389 L -37.3006494,-7.036992 L -37.3007362,-7.0366855 L -37.3009044,-7.0367324 z\" /></g></svg>"
      ],
      "text/plain": [
       "<shapely.geometry.polygon.Polygon at 0x7f91db27e370>"
      ]
     },
     "execution_count": 4,
     "metadata": {},
     "output_type": "execute_result"
    }
   ],
   "source": [
    "polygon_paroquia_nossa_senhora_das_neves = pois[pois['osmid']==166429876]['geometry'].values[0]\n",
    "print(type(polygon_paroquia_nossa_senhora_das_neves))\n",
    "polygon_paroquia_nossa_senhora_das_neves"
   ]
  },
  {
   "cell_type": "code",
   "execution_count": 5,
   "id": "51c89d27-bbef-4f48-819c-2a3ee42e909c",
   "metadata": {},
   "outputs": [
    {
     "data": {
      "text/html": [
       "<div>\n",
       "<style scoped>\n",
       "    .dataframe tbody tr th:only-of-type {\n",
       "        vertical-align: middle;\n",
       "    }\n",
       "\n",
       "    .dataframe tbody tr th {\n",
       "        vertical-align: top;\n",
       "    }\n",
       "\n",
       "    .dataframe thead th {\n",
       "        text-align: right;\n",
       "    }\n",
       "</style>\n",
       "<table border=\"1\" class=\"dataframe\">\n",
       "  <thead>\n",
       "    <tr style=\"text-align: right;\">\n",
       "      <th></th>\n",
       "      <th>element_type</th>\n",
       "      <th>osmid</th>\n",
       "      <th>amenity</th>\n",
       "      <th>name</th>\n",
       "      <th>geometry</th>\n",
       "      <th>opening_hours</th>\n",
       "    </tr>\n",
       "  </thead>\n",
       "  <tbody>\n",
       "    <tr>\n",
       "      <th>15</th>\n",
       "      <td>node</td>\n",
       "      <td>1801176616</td>\n",
       "      <td>bank</td>\n",
       "      <td>Santander</td>\n",
       "      <td>POINT (-37.27588 -7.02915)</td>\n",
       "      <td>Mo-Su 06:00-22:00</td>\n",
       "    </tr>\n",
       "    <tr>\n",
       "      <th>49</th>\n",
       "      <td>node</td>\n",
       "      <td>1812941830</td>\n",
       "      <td>atm</td>\n",
       "      <td>Santander</td>\n",
       "      <td>POINT (-37.27959 -7.02079)</td>\n",
       "      <td>NaN</td>\n",
       "    </tr>\n",
       "  </tbody>\n",
       "</table>\n",
       "</div>"
      ],
      "text/plain": [
       "   element_type       osmid amenity       name                    geometry  \\\n",
       "15         node  1801176616    bank  Santander  POINT (-37.27588 -7.02915)   \n",
       "49         node  1812941830     atm  Santander  POINT (-37.27959 -7.02079)   \n",
       "\n",
       "        opening_hours  \n",
       "15  Mo-Su 06:00-22:00  \n",
       "49                NaN  "
      ]
     },
     "execution_count": 5,
     "metadata": {},
     "output_type": "execute_result"
    }
   ],
   "source": [
    "pd.set_option('display.max_columns', 500)\n",
    "pois[pois['name']=='Santander']"
   ]
  },
  {
   "cell_type": "code",
   "execution_count": 6,
   "id": "3f770a32-d045-4d4a-97e3-20ad525a072a",
   "metadata": {},
   "outputs": [],
   "source": [
    "geoms = ox.geometries.geometries_from_bbox(north, south, east, west, tags={'highway':True, 'place':True, 'name':True})\n",
    "geoms = pd.DataFrame(geoms)\n",
    "geoms.reset_index(inplace=True)"
   ]
  },
  {
   "cell_type": "code",
   "execution_count": 7,
   "id": "14bf27e8-72f8-4db2-8f72-264a3d733da3",
   "metadata": {},
   "outputs": [],
   "source": [
    "def is_street(string):\n",
    "    string = str(string)\n",
    "    return string.startswith('Rua') or string.startswith('Travessa') or string.startswith('Avenida')\n",
    "\n",
    "ruas = geoms[geoms['name'].apply(is_street)==True]\n",
    "ruas = ruas[['element_type', 'osmid', 'geometry', 'highway', 'maxspeed', 'name']]"
   ]
  },
  {
   "cell_type": "code",
   "execution_count": 8,
   "id": "57152393-847b-4c83-bbaa-eda915ef3ccf",
   "metadata": {},
   "outputs": [
    {
     "data": {
      "text/html": [
       "<div>\n",
       "<style scoped>\n",
       "    .dataframe tbody tr th:only-of-type {\n",
       "        vertical-align: middle;\n",
       "    }\n",
       "\n",
       "    .dataframe tbody tr th {\n",
       "        vertical-align: top;\n",
       "    }\n",
       "\n",
       "    .dataframe thead th {\n",
       "        text-align: right;\n",
       "    }\n",
       "</style>\n",
       "<table border=\"1\" class=\"dataframe\">\n",
       "  <thead>\n",
       "    <tr style=\"text-align: right;\">\n",
       "      <th></th>\n",
       "      <th>element_type</th>\n",
       "      <th>osmid</th>\n",
       "      <th>geometry</th>\n",
       "      <th>highway</th>\n",
       "      <th>maxspeed</th>\n",
       "      <th>name</th>\n",
       "    </tr>\n",
       "  </thead>\n",
       "  <tbody>\n",
       "    <tr>\n",
       "      <th>1563</th>\n",
       "      <td>way</td>\n",
       "      <td>54690571</td>\n",
       "      <td>LINESTRING (-37.29267 -7.03183, -37.29355 -7.0...</td>\n",
       "      <td>primary</td>\n",
       "      <td>50</td>\n",
       "      <td>Rua do Prado</td>\n",
       "    </tr>\n",
       "    <tr>\n",
       "      <th>1564</th>\n",
       "      <td>way</td>\n",
       "      <td>61579255</td>\n",
       "      <td>LINESTRING (-37.27112 -7.01758, -37.27074 -7.0...</td>\n",
       "      <td>secondary</td>\n",
       "      <td>NaN</td>\n",
       "      <td>Avenida Lima Campos</td>\n",
       "    </tr>\n",
       "    <tr>\n",
       "      <th>1580</th>\n",
       "      <td>way</td>\n",
       "      <td>165774623</td>\n",
       "      <td>LINESTRING (-37.30149 -7.00534, -37.30040 -7.0...</td>\n",
       "      <td>residential</td>\n",
       "      <td>NaN</td>\n",
       "      <td>Rua Severina Dantas</td>\n",
       "    </tr>\n",
       "    <tr>\n",
       "      <th>1581</th>\n",
       "      <td>way</td>\n",
       "      <td>165774624</td>\n",
       "      <td>LINESTRING (-37.30190 -7.00594, -37.30081 -7.0...</td>\n",
       "      <td>residential</td>\n",
       "      <td>NaN</td>\n",
       "      <td>Rua Iremar Belarmino</td>\n",
       "    </tr>\n",
       "    <tr>\n",
       "      <th>1582</th>\n",
       "      <td>way</td>\n",
       "      <td>165774625</td>\n",
       "      <td>LINESTRING (-37.30121 -7.00490, -37.30129 -7.0...</td>\n",
       "      <td>residential</td>\n",
       "      <td>NaN</td>\n",
       "      <td>Rua Antônio Crisanto Dantas</td>\n",
       "    </tr>\n",
       "  </tbody>\n",
       "</table>\n",
       "</div>"
      ],
      "text/plain": [
       "     element_type      osmid  \\\n",
       "1563          way   54690571   \n",
       "1564          way   61579255   \n",
       "1580          way  165774623   \n",
       "1581          way  165774624   \n",
       "1582          way  165774625   \n",
       "\n",
       "                                               geometry      highway maxspeed  \\\n",
       "1563  LINESTRING (-37.29267 -7.03183, -37.29355 -7.0...      primary       50   \n",
       "1564  LINESTRING (-37.27112 -7.01758, -37.27074 -7.0...    secondary      NaN   \n",
       "1580  LINESTRING (-37.30149 -7.00534, -37.30040 -7.0...  residential      NaN   \n",
       "1581  LINESTRING (-37.30190 -7.00594, -37.30081 -7.0...  residential      NaN   \n",
       "1582  LINESTRING (-37.30121 -7.00490, -37.30129 -7.0...  residential      NaN   \n",
       "\n",
       "                             name  \n",
       "1563                 Rua do Prado  \n",
       "1564          Avenida Lima Campos  \n",
       "1580          Rua Severina Dantas  \n",
       "1581         Rua Iremar Belarmino  \n",
       "1582  Rua Antônio Crisanto Dantas  "
      ]
     },
     "execution_count": 8,
     "metadata": {},
     "output_type": "execute_result"
    }
   ],
   "source": [
    "ruas.head()"
   ]
  },
  {
   "cell_type": "code",
   "execution_count": 9,
   "id": "1847c269-842a-4ed5-87ba-5f13ca691d28",
   "metadata": {},
   "outputs": [],
   "source": [
    "bairros = geoms.loc[(geoms['place'] == 'neighbourhood') | (geoms['place'] == 'suburb')]\n",
    "bairros = bairros[bairros.geometry.apply(type).apply(str)==\"<class 'shapely.geometry.polygon.Polygon'>\"]\n",
    "bairros = bairros[['element_type', 'osmid', 'geometry', 'name', 'place', 'ways', 'type']]"
   ]
  },
  {
   "cell_type": "code",
   "execution_count": 10,
   "id": "3a620748-cc52-4979-a94e-61b1f2f44e37",
   "metadata": {},
   "outputs": [
    {
     "data": {
      "text/html": [
       "<div>\n",
       "<style scoped>\n",
       "    .dataframe tbody tr th:only-of-type {\n",
       "        vertical-align: middle;\n",
       "    }\n",
       "\n",
       "    .dataframe tbody tr th {\n",
       "        vertical-align: top;\n",
       "    }\n",
       "\n",
       "    .dataframe thead th {\n",
       "        text-align: right;\n",
       "    }\n",
       "</style>\n",
       "<table border=\"1\" class=\"dataframe\">\n",
       "  <thead>\n",
       "    <tr style=\"text-align: right;\">\n",
       "      <th></th>\n",
       "      <th>element_type</th>\n",
       "      <th>osmid</th>\n",
       "      <th>geometry</th>\n",
       "      <th>name</th>\n",
       "      <th>place</th>\n",
       "      <th>ways</th>\n",
       "      <th>type</th>\n",
       "    </tr>\n",
       "  </thead>\n",
       "  <tbody>\n",
       "    <tr>\n",
       "      <th>6189</th>\n",
       "      <td>relation</td>\n",
       "      <td>3819334</td>\n",
       "      <td>POLYGON ((-37.28270 -7.05786, -37.28186 -7.057...</td>\n",
       "      <td>Santa Cecília</td>\n",
       "      <td>suburb</td>\n",
       "      <td>[427104529, 171543543, 427104517, 171543546, 8...</td>\n",
       "      <td>boundary</td>\n",
       "    </tr>\n",
       "    <tr>\n",
       "      <th>6190</th>\n",
       "      <td>relation</td>\n",
       "      <td>4141969</td>\n",
       "      <td>POLYGON ((-37.28372 -7.02427, -37.28268 -7.024...</td>\n",
       "      <td>Centro</td>\n",
       "      <td>suburb</td>\n",
       "      <td>[528484442, 170491140, 525677008, 525677007, 5...</td>\n",
       "      <td>boundary</td>\n",
       "    </tr>\n",
       "    <tr>\n",
       "      <th>6191</th>\n",
       "      <td>relation</td>\n",
       "      <td>4485256</td>\n",
       "      <td>POLYGON ((-37.28158 -7.05318, -37.28147 -7.052...</td>\n",
       "      <td>Jatobá</td>\n",
       "      <td>suburb</td>\n",
       "      <td>[871208879, 871208878, 171543546, 427104517, 1...</td>\n",
       "      <td>boundary</td>\n",
       "    </tr>\n",
       "    <tr>\n",
       "      <th>6192</th>\n",
       "      <td>relation</td>\n",
       "      <td>4601772</td>\n",
       "      <td>POLYGON ((-37.28307 -7.06504, -37.28304 -7.065...</td>\n",
       "      <td>Alto da Tubiba</td>\n",
       "      <td>suburb</td>\n",
       "      <td>[169735160, 169734332, 427104540, 421411824, 3...</td>\n",
       "      <td>boundary</td>\n",
       "    </tr>\n",
       "    <tr>\n",
       "      <th>6193</th>\n",
       "      <td>relation</td>\n",
       "      <td>4601773</td>\n",
       "      <td>POLYGON ((-37.26246 -7.01933, -37.26219 -7.019...</td>\n",
       "      <td>Ana Leite</td>\n",
       "      <td>suburb</td>\n",
       "      <td>[435034545, 435034543, 435034547, 277363873, 3...</td>\n",
       "      <td>boundary</td>\n",
       "    </tr>\n",
       "  </tbody>\n",
       "</table>\n",
       "</div>"
      ],
      "text/plain": [
       "     element_type    osmid                                           geometry  \\\n",
       "6189     relation  3819334  POLYGON ((-37.28270 -7.05786, -37.28186 -7.057...   \n",
       "6190     relation  4141969  POLYGON ((-37.28372 -7.02427, -37.28268 -7.024...   \n",
       "6191     relation  4485256  POLYGON ((-37.28158 -7.05318, -37.28147 -7.052...   \n",
       "6192     relation  4601772  POLYGON ((-37.28307 -7.06504, -37.28304 -7.065...   \n",
       "6193     relation  4601773  POLYGON ((-37.26246 -7.01933, -37.26219 -7.019...   \n",
       "\n",
       "                name   place  \\\n",
       "6189   Santa Cecília  suburb   \n",
       "6190          Centro  suburb   \n",
       "6191          Jatobá  suburb   \n",
       "6192  Alto da Tubiba  suburb   \n",
       "6193       Ana Leite  suburb   \n",
       "\n",
       "                                                   ways      type  \n",
       "6189  [427104529, 171543543, 427104517, 171543546, 8...  boundary  \n",
       "6190  [528484442, 170491140, 525677008, 525677007, 5...  boundary  \n",
       "6191  [871208879, 871208878, 171543546, 427104517, 1...  boundary  \n",
       "6192  [169735160, 169734332, 427104540, 421411824, 3...  boundary  \n",
       "6193  [435034545, 435034543, 435034547, 277363873, 3...  boundary  "
      ]
     },
     "execution_count": 10,
     "metadata": {},
     "output_type": "execute_result"
    }
   ],
   "source": [
    "bairros.head()"
   ]
  },
  {
   "cell_type": "code",
   "execution_count": 11,
   "id": "1fb05817-6b81-4d18-9fe5-991194f778d4",
   "metadata": {},
   "outputs": [
    {
     "data": {
      "text/plain": [
       "(60,)"
      ]
     },
     "execution_count": 11,
     "metadata": {},
     "output_type": "execute_result"
    }
   ],
   "source": [
    "# QUANTIDADE ENCONTRADA DE DIFERENTES TIPOS DE POI\n",
    "pois.amenity.value_counts().shape"
   ]
  },
  {
   "cell_type": "code",
   "execution_count": 12,
   "id": "e2a309d7-08b0-47a8-9456-92db34c53a23",
   "metadata": {},
   "outputs": [],
   "source": [
    "# SAMPLE CODE\n",
    "# G = ox.graph_from_place('Centro, Patos, Paraíba, Brazil', network_type='drive')\n",
    "# G = ox.project_graph(G)"
   ]
  },
  {
   "cell_type": "code",
   "execution_count": 13,
   "id": "8863e859-7f4a-4c93-a2d5-aa999c59beed",
   "metadata": {},
   "outputs": [],
   "source": [
    "# SAMPLE CODE\n",
    "# import matplotlib.pyplot as plt\n",
    "# import osmnx as ox\n",
    "# ox.config(use_cache=True, log_console=True)\n",
    "\n",
    "# G = ox.graph_from_address('Centro, Patos, Paraíba, Brazil', dist=200, network_type='drive')\n",
    "# G = ox.get_undirected(G)\n",
    "\n",
    "# fig, ax = ox.plot_graph(G, bgcolor='k', edge_linewidth=3, node_size=0,\n",
    "#                         show=False, close=False)\n",
    "# for _, edge in ox.graph_to_gdfs(G, nodes=False).fillna('').iterrows():\n",
    "#     c = edge['geometry'].centroid\n",
    "#     text = edge['name']\n",
    "#     ax.annotate(text, (c.x, c.y), c='w')\n",
    "# plt.show()\n",
    "\n",
    "# python MY_SCRIPT.py >/dev/null &"
   ]
  },
  {
   "cell_type": "code",
   "execution_count": 14,
   "id": "e010f3f2-8756-47c9-9e2c-bbab9d43d2f0",
   "metadata": {},
   "outputs": [
    {
     "data": {
      "text/plain": [
       "[<shapely.geometry.point.Point at 0x7f91d721d460>]"
      ]
     },
     "execution_count": 14,
     "metadata": {},
     "output_type": "execute_result"
    }
   ],
   "source": [
    "# SAMPLE CODE\n",
    "nodes = [Point(1, 1), Point(0, 1)]\n",
    "linestring = LineString([(0, 0), (0, 2)])\n",
    "on_line = [node for node in nodes if node.distance(linestring) == 0.0]\n",
    "on_line"
   ]
  },
  {
   "cell_type": "code",
   "execution_count": 15,
   "id": "114da46c-decf-4e43-93bd-85d7c15552c7",
   "metadata": {},
   "outputs": [
    {
     "name": "stdout",
     "output_type": "stream",
     "text": [
      "POLYGON ((1 1, 1 0, 0.5 0.5, 1 1))\n"
     ]
    }
   ],
   "source": [
    "# SAMPLE CODE\n",
    "from shapely.geometry import Polygon\n",
    "p1 = Polygon([(0,0), (1,1), (1,0)])\n",
    "p2 = Polygon([(0,1), (1,0), (1,1)])\n",
    "print(p1.intersection(p2))"
   ]
  },
  {
   "cell_type": "code",
   "execution_count": 16,
   "id": "f597d198-7154-4f8d-a71b-0f76bd261d46",
   "metadata": {},
   "outputs": [],
   "source": [
    "proximos = ox.geometries.geometries_from_point(( -7.02390, -37.27847), tags={'highway':True}, dist=100)"
   ]
  },
  {
   "cell_type": "code",
   "execution_count": 17,
   "id": "8dab865d-88ca-4764-8f68-a891726610e5",
   "metadata": {},
   "outputs": [
    {
     "data": {
      "text/html": [
       "<div>\n",
       "<style scoped>\n",
       "    .dataframe tbody tr th:only-of-type {\n",
       "        vertical-align: middle;\n",
       "    }\n",
       "\n",
       "    .dataframe tbody tr th {\n",
       "        vertical-align: top;\n",
       "    }\n",
       "\n",
       "    .dataframe thead th {\n",
       "        text-align: right;\n",
       "    }\n",
       "</style>\n",
       "<table border=\"1\" class=\"dataframe\">\n",
       "  <thead>\n",
       "    <tr style=\"text-align: right;\">\n",
       "      <th></th>\n",
       "      <th>osmid</th>\n",
       "      <th>highway</th>\n",
       "      <th>geometry</th>\n",
       "      <th>name</th>\n",
       "      <th>nodes</th>\n",
       "      <th>lanes</th>\n",
       "      <th>oneway</th>\n",
       "      <th>ref</th>\n",
       "      <th>maxspeed</th>\n",
       "    </tr>\n",
       "  </thead>\n",
       "  <tbody>\n",
       "    <tr>\n",
       "      <th>0</th>\n",
       "      <td>167413238</td>\n",
       "      <td>primary</td>\n",
       "      <td>LINESTRING (-37.27849 -7.02330, -37.27847 -7.0...</td>\n",
       "      <td>Avenida Solon de Lucena</td>\n",
       "      <td>[1788036718, 6184545542, 1788036714]</td>\n",
       "      <td>2</td>\n",
       "      <td>yes</td>\n",
       "      <td>PB-110</td>\n",
       "      <td>NaN</td>\n",
       "    </tr>\n",
       "    <tr>\n",
       "      <th>1</th>\n",
       "      <td>167413243</td>\n",
       "      <td>residential</td>\n",
       "      <td>LINESTRING (-37.27877 -7.02373, -37.27878 -7.0...</td>\n",
       "      <td>Rua Leôncio Wanderley</td>\n",
       "      <td>[1788036696, 7027617648, 7027617653, 702761765...</td>\n",
       "      <td>NaN</td>\n",
       "      <td>yes</td>\n",
       "      <td>NaN</td>\n",
       "      <td>NaN</td>\n",
       "    </tr>\n",
       "    <tr>\n",
       "      <th>2</th>\n",
       "      <td>167413521</td>\n",
       "      <td>residential</td>\n",
       "      <td>LINESTRING (-37.27879 -7.02392, -37.27878 -7.0...</td>\n",
       "      <td>Rua Leôncio Wanderley</td>\n",
       "      <td>[7027617655, 1788043903, 1788043906, 178804390...</td>\n",
       "      <td>NaN</td>\n",
       "      <td>yes</td>\n",
       "      <td>NaN</td>\n",
       "      <td>NaN</td>\n",
       "    </tr>\n",
       "    <tr>\n",
       "      <th>3</th>\n",
       "      <td>167413640</td>\n",
       "      <td>residential</td>\n",
       "      <td>LINESTRING (-37.27792 -7.02303, -37.27765 -7.0...</td>\n",
       "      <td>Rua Major Wanderley</td>\n",
       "      <td>[1788046833, 4941278523, 4934296854]</td>\n",
       "      <td>NaN</td>\n",
       "      <td>yes</td>\n",
       "      <td>NaN</td>\n",
       "      <td>NaN</td>\n",
       "    </tr>\n",
       "    <tr>\n",
       "      <th>4</th>\n",
       "      <td>168937682</td>\n",
       "      <td>residential</td>\n",
       "      <td>LINESTRING (-37.27843 -7.02472, -37.27867 -7.0...</td>\n",
       "      <td>Rua Severino Martins</td>\n",
       "      <td>[1788036681, 1801176628]</td>\n",
       "      <td>NaN</td>\n",
       "      <td>yes</td>\n",
       "      <td>NaN</td>\n",
       "      <td>NaN</td>\n",
       "    </tr>\n",
       "  </tbody>\n",
       "</table>\n",
       "</div>"
      ],
      "text/plain": [
       "       osmid      highway                                           geometry  \\\n",
       "0  167413238      primary  LINESTRING (-37.27849 -7.02330, -37.27847 -7.0...   \n",
       "1  167413243  residential  LINESTRING (-37.27877 -7.02373, -37.27878 -7.0...   \n",
       "2  167413521  residential  LINESTRING (-37.27879 -7.02392, -37.27878 -7.0...   \n",
       "3  167413640  residential  LINESTRING (-37.27792 -7.02303, -37.27765 -7.0...   \n",
       "4  168937682  residential  LINESTRING (-37.27843 -7.02472, -37.27867 -7.0...   \n",
       "\n",
       "                      name                                              nodes  \\\n",
       "0  Avenida Solon de Lucena               [1788036718, 6184545542, 1788036714]   \n",
       "1    Rua Leôncio Wanderley  [1788036696, 7027617648, 7027617653, 702761765...   \n",
       "2    Rua Leôncio Wanderley  [7027617655, 1788043903, 1788043906, 178804390...   \n",
       "3      Rua Major Wanderley               [1788046833, 4941278523, 4934296854]   \n",
       "4     Rua Severino Martins                           [1788036681, 1801176628]   \n",
       "\n",
       "  lanes oneway     ref maxspeed  \n",
       "0     2    yes  PB-110      NaN  \n",
       "1   NaN    yes     NaN      NaN  \n",
       "2   NaN    yes     NaN      NaN  \n",
       "3   NaN    yes     NaN      NaN  \n",
       "4   NaN    yes     NaN      NaN  "
      ]
     },
     "execution_count": 17,
     "metadata": {},
     "output_type": "execute_result"
    }
   ],
   "source": [
    "proximos = proximos[proximos['name'].apply(is_street)]\n",
    "proximos = pd.DataFrame(proximos)\n",
    "proximos.reset_index(inplace=True)\n",
    "proximos[['osmid', 'highway', 'geometry', 'name', 'nodes', 'lanes', 'oneway', 'ref', 'maxspeed']].head()"
   ]
  },
  {
   "cell_type": "code",
   "execution_count": 18,
   "id": "9b58f4af-7051-4b6b-bc98-8fde5aad386d",
   "metadata": {},
   "outputs": [
    {
     "data": {
      "text/plain": [
       "(29, 19)"
      ]
     },
     "execution_count": 18,
     "metadata": {},
     "output_type": "execute_result"
    }
   ],
   "source": [
    "proximos.shape"
   ]
  },
  {
   "cell_type": "code",
   "execution_count": 19,
   "id": "84fc151f-0683-4dab-b71b-e0d5e6c98251",
   "metadata": {},
   "outputs": [],
   "source": [
    "# node.distance(linestring)\n",
    "posto_viola = Point( -7.02390, -37.27847)\n",
    "ruas_candidatas = {}"
   ]
  },
  {
   "cell_type": "code",
   "execution_count": 20,
   "id": "ef199847-6c93-4122-b2c8-ff47c56f49ca",
   "metadata": {},
   "outputs": [
    {
     "data": {
      "text/plain": [
       "[(167413238,\n",
       "  (<shapely.geometry.linestring.LineString at 0x7f91d7283730>,\n",
       "   'Avenida Solon de Lucena')),\n",
       " (167413243,\n",
       "  (<shapely.geometry.linestring.LineString at 0x7f91d72834c0>,\n",
       "   'Rua Leôncio Wanderley')),\n",
       " (167413521,\n",
       "  (<shapely.geometry.linestring.LineString at 0x7f91d72837c0>,\n",
       "   'Rua Leôncio Wanderley')),\n",
       " (167413640,\n",
       "  (<shapely.geometry.linestring.LineString at 0x7f91d72833d0>,\n",
       "   'Rua Major Wanderley'))]"
      ]
     },
     "execution_count": 20,
     "metadata": {},
     "output_type": "execute_result"
    }
   ],
   "source": [
    "for index, row in proximos.iterrows():\n",
    "    ruas_candidatas[row['osmid']] = (row['geometry'], row['name'])\n",
    "list(ruas_candidatas.items())[:4]"
   ]
  },
  {
   "cell_type": "code",
   "execution_count": 21,
   "id": "b2d13757-b6a6-4c00-b36a-8664aed91f34",
   "metadata": {},
   "outputs": [],
   "source": [
    "distances = [(nome_rua, posto_viola.distance(linestring)) for linestring,nome_rua in ruas_candidatas.values()]"
   ]
  },
  {
   "cell_type": "code",
   "execution_count": 22,
   "id": "c8677e2c-8232-403b-b3d4-ab113c8acb75",
   "metadata": {},
   "outputs": [
    {
     "data": {
      "text/plain": [
       "[('Avenida Solon de Lucena', 42.78652815331677),\n",
       " ('Rua Leôncio Wanderley', 42.786268788158075),\n",
       " ('Rua Leôncio Wanderley', 42.786523910040394),\n",
       " ('Rua Major Wanderley', 42.78567856611484)]"
      ]
     },
     "execution_count": 22,
     "metadata": {},
     "output_type": "execute_result"
    }
   ],
   "source": [
    "distances[:4]"
   ]
  },
  {
   "cell_type": "code",
   "execution_count": 23,
   "id": "c23cecab-b2fd-4f3b-ba27-7cc8d504746a",
   "metadata": {},
   "outputs": [
    {
     "data": {
      "text/plain": [
       "('Avenida Solon de Lucena', 42.78371620749222)"
      ]
     },
     "execution_count": 23,
     "metadata": {},
     "output_type": "execute_result"
    }
   ],
   "source": [
    "min(distances, key = lambda e:e[1])"
   ]
  },
  {
   "cell_type": "code",
   "execution_count": 24,
   "id": "2752cae3-3b60-4d5a-8f47-080e24ec6c31",
   "metadata": {},
   "outputs": [],
   "source": [
    "santander_patos = Point(-7.02915, -37.27588)"
   ]
  },
  {
   "cell_type": "code",
   "execution_count": 25,
   "id": "f0034c16-cf38-4a09-aaaa-02f01eae1d80",
   "metadata": {},
   "outputs": [
    {
     "data": {
      "text/html": [
       "<div>\n",
       "<style scoped>\n",
       "    .dataframe tbody tr th:only-of-type {\n",
       "        vertical-align: middle;\n",
       "    }\n",
       "\n",
       "    .dataframe tbody tr th {\n",
       "        vertical-align: top;\n",
       "    }\n",
       "\n",
       "    .dataframe thead th {\n",
       "        text-align: right;\n",
       "    }\n",
       "</style>\n",
       "<table border=\"1\" class=\"dataframe\">\n",
       "  <thead>\n",
       "    <tr style=\"text-align: right;\">\n",
       "      <th></th>\n",
       "      <th>osmid</th>\n",
       "      <th>highway</th>\n",
       "      <th>geometry</th>\n",
       "      <th>name</th>\n",
       "      <th>nodes</th>\n",
       "      <th>lanes</th>\n",
       "      <th>oneway</th>\n",
       "      <th>ref</th>\n",
       "    </tr>\n",
       "  </thead>\n",
       "  <tbody>\n",
       "    <tr>\n",
       "      <th>0</th>\n",
       "      <td>166550375</td>\n",
       "      <td>primary</td>\n",
       "      <td>LINESTRING (-37.27592 -7.02952, -37.27594 -7.0...</td>\n",
       "      <td>Avenida Solon de Lucena</td>\n",
       "      <td>[1823046849, 1788036680, 4941352450, 178803672...</td>\n",
       "      <td>2</td>\n",
       "      <td>yes</td>\n",
       "      <td>PB-110</td>\n",
       "    </tr>\n",
       "    <tr>\n",
       "      <th>1</th>\n",
       "      <td>167413242</td>\n",
       "      <td>residential</td>\n",
       "      <td>LINESTRING (-37.27652 -7.02927, -37.27662 -7.0...</td>\n",
       "      <td>Rua Escritor Rui Barbosa</td>\n",
       "      <td>[7027842163, 1788036679, 4837726391, 245820958...</td>\n",
       "      <td>NaN</td>\n",
       "      <td>yes</td>\n",
       "      <td>NaN</td>\n",
       "    </tr>\n",
       "    <tr>\n",
       "      <th>2</th>\n",
       "      <td>171239512</td>\n",
       "      <td>residential</td>\n",
       "      <td>LINESTRING (-37.27603 -7.02900, -37.27550 -7.0...</td>\n",
       "      <td>Rua Tiradentes</td>\n",
       "      <td>[2514087764, 1823033261]</td>\n",
       "      <td>NaN</td>\n",
       "      <td>yes</td>\n",
       "      <td>NaN</td>\n",
       "    </tr>\n",
       "    <tr>\n",
       "      <th>3</th>\n",
       "      <td>171239514</td>\n",
       "      <td>residential</td>\n",
       "      <td>LINESTRING (-37.27539 -7.02921, -37.27594 -7.0...</td>\n",
       "      <td>Rua Coronel Miguel Sátyro</td>\n",
       "      <td>[1823033222, 1788036680]</td>\n",
       "      <td>1</td>\n",
       "      <td>yes</td>\n",
       "      <td>NaN</td>\n",
       "    </tr>\n",
       "    <tr>\n",
       "      <th>4</th>\n",
       "      <td>171239521</td>\n",
       "      <td>residential</td>\n",
       "      <td>LINESTRING (-37.27550 -7.02885, -37.27480 -7.0...</td>\n",
       "      <td>Rua Tiradentes</td>\n",
       "      <td>[1823033261, 1823033240, 1816445075]</td>\n",
       "      <td>NaN</td>\n",
       "      <td>yes</td>\n",
       "      <td>NaN</td>\n",
       "    </tr>\n",
       "  </tbody>\n",
       "</table>\n",
       "</div>"
      ],
      "text/plain": [
       "       osmid      highway                                           geometry  \\\n",
       "0  166550375      primary  LINESTRING (-37.27592 -7.02952, -37.27594 -7.0...   \n",
       "1  167413242  residential  LINESTRING (-37.27652 -7.02927, -37.27662 -7.0...   \n",
       "2  171239512  residential  LINESTRING (-37.27603 -7.02900, -37.27550 -7.0...   \n",
       "3  171239514  residential  LINESTRING (-37.27539 -7.02921, -37.27594 -7.0...   \n",
       "4  171239521  residential  LINESTRING (-37.27550 -7.02885, -37.27480 -7.0...   \n",
       "\n",
       "                        name  \\\n",
       "0    Avenida Solon de Lucena   \n",
       "1   Rua Escritor Rui Barbosa   \n",
       "2             Rua Tiradentes   \n",
       "3  Rua Coronel Miguel Sátyro   \n",
       "4             Rua Tiradentes   \n",
       "\n",
       "                                               nodes lanes oneway     ref  \n",
       "0  [1823046849, 1788036680, 4941352450, 178803672...     2    yes  PB-110  \n",
       "1  [7027842163, 1788036679, 4837726391, 245820958...   NaN    yes     NaN  \n",
       "2                           [2514087764, 1823033261]   NaN    yes     NaN  \n",
       "3                           [1823033222, 1788036680]     1    yes     NaN  \n",
       "4               [1823033261, 1823033240, 1816445075]   NaN    yes     NaN  "
      ]
     },
     "execution_count": 25,
     "metadata": {},
     "output_type": "execute_result"
    }
   ],
   "source": [
    "proximos = ox.geometries.geometries_from_point((-7.02915, -37.27588), tags={'highway':True}, dist=100)\n",
    "proximos = proximos[proximos['name'].apply(is_street)]\n",
    "proximos = pd.DataFrame(proximos)\n",
    "proximos.reset_index(inplace=True)\n",
    "proximos[['osmid', 'highway', 'geometry', 'name', 'nodes', 'lanes', 'oneway', 'ref']].head()"
   ]
  },
  {
   "cell_type": "code",
   "execution_count": 26,
   "id": "2e55764d-23f8-4f49-b9ba-cff5489c1cc8",
   "metadata": {},
   "outputs": [
    {
     "data": {
      "text/plain": [
       "('Rua Cônego Bernardo', 42.77881102759611)"
      ]
     },
     "execution_count": 26,
     "metadata": {},
     "output_type": "execute_result"
    }
   ],
   "source": [
    "ruas_candidatas = {}\n",
    "for index, row in proximos.iterrows():\n",
    "    ruas_candidatas[row['osmid']] = (row['geometry'], row['name'])\n",
    "distances = [(nome_rua, posto_viola.distance(linestring)) for linestring,nome_rua in ruas_candidatas.values()]\n",
    "min(distances, key = lambda e:e[1])"
   ]
  },
  {
   "cell_type": "code",
   "execution_count": 27,
   "id": "b87c073e-0a10-4fdd-a3e8-8dc34f8ddf70",
   "metadata": {},
   "outputs": [
    {
     "data": {
      "text/plain": [
       "('Rua Horácio Nóbrega', 42.78686014100167)"
      ]
     },
     "execution_count": 27,
     "metadata": {},
     "output_type": "execute_result"
    }
   ],
   "source": [
    "santander_patos2 = Point(-7.02079, -37.27959)\n",
    "proximos = ox.geometries.geometries_from_point((-7.02079, -37.27959), tags={'highway':True}, dist=100)\n",
    "proximos = proximos[proximos['name'].apply(is_street)]\n",
    "proximos = pd.DataFrame(proximos)\n",
    "proximos.reset_index(inplace=True)\n",
    "proximos.head()\n",
    "ruas_candidatas = {}\n",
    "for index, row in proximos.iterrows():\n",
    "    ruas_candidatas[row['osmid']] = (row['geometry'], row['name'])\n",
    "distances = [(nome_rua, posto_viola.distance(linestring)) for linestring,nome_rua in ruas_candidatas.values()]\n",
    "min(distances, key = lambda e:e[1])"
   ]
  },
  {
   "cell_type": "code",
   "execution_count": 36,
   "id": "edab1cdf-3ac9-46a4-827d-174544dc4a7b",
   "metadata": {},
   "outputs": [],
   "source": [
    "def obter_rua(place):\n",
    "    # imports\n",
    "    import osmnx as ox\n",
    "    import pandas as pd\n",
    "    from shapely.geometry import Point, LineString\n",
    "    \n",
    "    if type(place)==tuple:\n",
    "        long, lat = place\n",
    "    elif str(type(place))==\"<class 'shapely.geometry.point.Point'>\":\n",
    "        long, lat = place.coords[0]\n",
    "    elif str(type(place))==\"<class 'shapely.geometry.polygon.Polygon'>\":\n",
    "        place = place.centroid\n",
    "        long, lat = place.coords[0]\n",
    "    #print(lat,long)\n",
    "    proximos = ox.geometries.geometries_from_point((lat, long), tags={'highway':True, 'name':True}, dist=200)\n",
    "    #print(lat,long)\n",
    "    #print(proximos.head(2))\n",
    "    proximos = proximos[proximos['name'].apply(is_street)]\n",
    "    proximos = pd.DataFrame(proximos)\n",
    "    proximos.reset_index(inplace=True)\n",
    "    ruas_candidatas = {}\n",
    "    for index, row in proximos.iterrows():\n",
    "        ruas_candidatas[row['osmid']] = (row['geometry'], row['name'])\n",
    "    ponto = Point(long, lat)\n",
    "    distances = [(osmid_rua, ruas_candidatas[osmid_rua][1], ponto.distance(ruas_candidatas[osmid_rua][0])) for osmid_rua in ruas_candidatas ]\n",
    "    rua_selecionada = min(distances, key = lambda e:e[2])\n",
    "    #print(distances)\n",
    "    return {'osmid_rua': rua_selecionada[0],\n",
    "            'nome_rua': rua_selecionada[1],\n",
    "            'distancia': rua_selecionada[2]}"
   ]
  },
  {
   "cell_type": "code",
   "execution_count": 37,
   "id": "ca4c3161-a0e4-4c48-ae17-51dec89f5817",
   "metadata": {},
   "outputs": [],
   "source": [
    "def get_street_osmid(place):\n",
    "    return obter_rua(place)['osmid_rua']"
   ]
  },
  {
   "cell_type": "code",
   "execution_count": 38,
   "id": "06a19e66-0c99-4bcb-a767-92d331e812dd",
   "metadata": {},
   "outputs": [
    {
     "data": {
      "text/plain": [
       "{'osmid_rua': 166550375,\n",
       " 'nome_rua': 'Avenida Solon de Lucena',\n",
       " 'distancia': 0.0001056659719623498}"
      ]
     },
     "execution_count": 38,
     "metadata": {},
     "output_type": "execute_result"
    }
   ],
   "source": [
    "obter_rua(Point(-37.27588, -7.02915)) # banco santander"
   ]
  },
  {
   "cell_type": "code",
   "execution_count": 39,
   "id": "05c2a36f-c0cf-496a-86a4-9003973890e2",
   "metadata": {},
   "outputs": [
    {
     "data": {
      "text/plain": [
       "{'osmid_rua': 453768025,\n",
       " 'nome_rua': 'Rua Deca Simplício',\n",
       " 'distancia': 0.00014759160893555476}"
      ]
     },
     "execution_count": 39,
     "metadata": {},
     "output_type": "execute_result"
    }
   ],
   "source": [
    "obter_rua(polygon_paroquia_nossa_senhora_das_neves)"
   ]
  },
  {
   "cell_type": "code",
   "execution_count": 40,
   "id": "a1ffa3eb-7f0d-4257-956b-9374d9daf7e3",
   "metadata": {},
   "outputs": [
    {
     "data": {
      "text/html": [
       "<div>\n",
       "<style scoped>\n",
       "    .dataframe tbody tr th:only-of-type {\n",
       "        vertical-align: middle;\n",
       "    }\n",
       "\n",
       "    .dataframe tbody tr th {\n",
       "        vertical-align: top;\n",
       "    }\n",
       "\n",
       "    .dataframe thead th {\n",
       "        text-align: right;\n",
       "    }\n",
       "</style>\n",
       "<table border=\"1\" class=\"dataframe\">\n",
       "  <thead>\n",
       "    <tr style=\"text-align: right;\">\n",
       "      <th></th>\n",
       "      <th>element_type</th>\n",
       "      <th>osmid</th>\n",
       "      <th>amenity</th>\n",
       "      <th>name</th>\n",
       "      <th>geometry</th>\n",
       "      <th>opening_hours</th>\n",
       "    </tr>\n",
       "  </thead>\n",
       "  <tbody>\n",
       "    <tr>\n",
       "      <th>0</th>\n",
       "      <td>node</td>\n",
       "      <td>1798496605</td>\n",
       "      <td>fuel</td>\n",
       "      <td>Posto Viola</td>\n",
       "      <td>POINT (-37.27847 -7.02390)</td>\n",
       "      <td>NaN</td>\n",
       "    </tr>\n",
       "    <tr>\n",
       "      <th>1</th>\n",
       "      <td>node</td>\n",
       "      <td>1798496642</td>\n",
       "      <td>taxi</td>\n",
       "      <td>Moto táxi Praça dos Pombos</td>\n",
       "      <td>POINT (-37.27843 -7.02361)</td>\n",
       "      <td>NaN</td>\n",
       "    </tr>\n",
       "    <tr>\n",
       "      <th>2</th>\n",
       "      <td>node</td>\n",
       "      <td>1798525769</td>\n",
       "      <td>taxi</td>\n",
       "      <td>Táxi Rodoviária Velha</td>\n",
       "      <td>POINT (-37.27735 -7.02265)</td>\n",
       "      <td>NaN</td>\n",
       "    </tr>\n",
       "    <tr>\n",
       "      <th>3</th>\n",
       "      <td>node</td>\n",
       "      <td>1798525772</td>\n",
       "      <td>taxi</td>\n",
       "      <td>Táxi Fórum Miguel Sátiro</td>\n",
       "      <td>POINT (-37.27702 -7.02601)</td>\n",
       "      <td>NaN</td>\n",
       "    </tr>\n",
       "    <tr>\n",
       "      <th>4</th>\n",
       "      <td>node</td>\n",
       "      <td>1798919196</td>\n",
       "      <td>bar</td>\n",
       "      <td>Bar do Rock</td>\n",
       "      <td>POINT (-37.27702 -7.02204)</td>\n",
       "      <td>We-Su 19:00-02:00+; week 25-26 18:00-04:00</td>\n",
       "    </tr>\n",
       "  </tbody>\n",
       "</table>\n",
       "</div>"
      ],
      "text/plain": [
       "  element_type       osmid amenity                        name  \\\n",
       "0         node  1798496605    fuel                 Posto Viola   \n",
       "1         node  1798496642    taxi  Moto táxi Praça dos Pombos   \n",
       "2         node  1798525769    taxi       Táxi Rodoviária Velha   \n",
       "3         node  1798525772    taxi    Táxi Fórum Miguel Sátiro   \n",
       "4         node  1798919196     bar                 Bar do Rock   \n",
       "\n",
       "                     geometry                               opening_hours  \n",
       "0  POINT (-37.27847 -7.02390)                                         NaN  \n",
       "1  POINT (-37.27843 -7.02361)                                         NaN  \n",
       "2  POINT (-37.27735 -7.02265)                                         NaN  \n",
       "3  POINT (-37.27702 -7.02601)                                         NaN  \n",
       "4  POINT (-37.27702 -7.02204)  We-Su 19:00-02:00+; week 25-26 18:00-04:00  "
      ]
     },
     "execution_count": 40,
     "metadata": {},
     "output_type": "execute_result"
    }
   ],
   "source": [
    "pois.head()"
   ]
  },
  {
   "cell_type": "code",
   "execution_count": 41,
   "id": "1dfc307c-64ee-46b9-b1c7-9b5157bf5654",
   "metadata": {},
   "outputs": [],
   "source": [
    "def get_centroid(element):\n",
    "    if str(type(element)) == \"<class 'shapely.geometry.polygon.Polygon'>\":\n",
    "        return element.centroid\n",
    "    return element"
   ]
  },
  {
   "cell_type": "code",
   "execution_count": 42,
   "id": "c29091d6-f331-482b-b1e2-2b8045dadbe5",
   "metadata": {},
   "outputs": [
    {
     "data": {
      "text/plain": [
       "(829, 6)"
      ]
     },
     "execution_count": 42,
     "metadata": {},
     "output_type": "execute_result"
    }
   ],
   "source": [
    "pois.shape"
   ]
  },
  {
   "cell_type": "code",
   "execution_count": null,
   "id": "5db9841d-0b5d-4ac5-9a91-e7d3e17e971a",
   "metadata": {},
   "outputs": [],
   "source": [
    "pois['street_osmid'] = pois['geometry'].apply(get_street_osmid)"
   ]
  },
  {
   "cell_type": "code",
   "execution_count": null,
   "id": "a229588b-ec32-4e97-bfc1-0e4967ad892f",
   "metadata": {},
   "outputs": [],
   "source": [
    "pois.head()"
   ]
  },
  {
   "cell_type": "code",
   "execution_count": 34,
   "id": "003fd3f4-b595-4beb-a06b-b79c1bc53350",
   "metadata": {},
   "outputs": [
    {
     "name": "stdout",
     "output_type": "stream",
     "text": [
      "True\n",
      "1.0\n",
      "POLYGON ((2 2, 4 2, 3.1666666666666665 1.1666666666666667, 1.8333333333333333 1.8333333333333333, 2 2))\n"
     ]
    }
   ],
   "source": [
    "from shapely.geometry import Polygon\n",
    "\n",
    "p = Polygon([(1,1),(2,2),(4,2),(3,1)])\n",
    "q = Polygon([(1.5,2),(3,5),(5,4),(3.5,1)])\n",
    "print(p.intersects(q))  # True\n",
    "print(p.intersection(q).area)  # 1.0\n",
    "x = p.intersection(q)\n",
    "print(x) "
   ]
  },
  {
   "cell_type": "code",
   "execution_count": 8,
   "id": "ff4e0bcf-ef44-402d-91c9-59c6ad9d0731",
   "metadata": {},
   "outputs": [],
   "source": [
    "def earth_bbox_area(north, south, east, west):\n",
    "    from pyproj import Geod\n",
    "    from pyproj import Proj\n",
    "    geod = Geod('+a=6378137 +f=0.0033528106647475126')\n",
    "    pa = Proj(\"+proj=aea +lat_1=37.0 +lat_2=41.0 +lat_0=39.0 +lon_0=-106.55\")\n",
    "    # north east\n",
    "    # north west\n",
    "    # south west\n",
    "    # south east\n",
    "    lats = [north, north, south, south]\n",
    "    lons = [east, west, west, east]\n",
    "    \n",
    "    x, y = pa(lons, lats)\n",
    "    cop = {\"type\": \"Polygon\", \"coordinates\": [zip(x, y)]}\n",
    "    from shapely.geometry import shape\n",
    "    area = shape(cop).area  # 268952044107.43506\n",
    "    \n",
    "    area, perim = geod.polygon_area_perimeter(lons, lats)\n",
    "    return abs(area)"
   ]
  },
  {
   "cell_type": "code",
   "execution_count": 9,
   "id": "0cb24070-1ff0-4f2d-843c-60142b6a270f",
   "metadata": {},
   "outputs": [
    {
     "data": {
      "text/plain": [
       "133870977.65397644"
      ]
     },
     "execution_count": 9,
     "metadata": {},
     "output_type": "execute_result"
    }
   ],
   "source": [
    "earth_bbox_area(north, south, east, west)"
   ]
  },
  {
   "cell_type": "code",
   "execution_count": 10,
   "id": "b3fef5f8-9a97-4db2-b495-7684ead7ce66",
   "metadata": {},
   "outputs": [
    {
     "name": "stdout",
     "output_type": "stream",
     "text": [
      "-6.9875 -7.0882 -37.2215 -37.3303\n",
      "11197.344579516683\n",
      "12005.56400451431\n",
      "area = 134430437.0299889\n"
     ]
    }
   ],
   "source": [
    "print(north, south, east, west)\n",
    "import haversine as hs\n",
    "loc1 = (north, east)\n",
    "loc2 = (south, east)\n",
    "loc3 = (south, west)\n",
    "print(hs.haversine(loc1, loc2, unit = hs.Unit.METERS))\n",
    "print(hs.haversine(loc3, loc2, unit = hs.Unit.METERS))\n",
    "print('area =',11197.344579516683 * 12005.56400451431)"
   ]
  },
  {
   "cell_type": "code",
   "execution_count": 11,
   "id": "92960356-d0a4-40c6-8eee-752d2f5cedca",
   "metadata": {},
   "outputs": [
    {
     "data": {
      "text/plain": [
       "{'parking': 96,\n",
       " 'fast_food': 75,\n",
       " 'bar': 70,\n",
       " 'restaurant': 69,\n",
       " 'bench': 67,\n",
       " 'place_of_worship': 39,\n",
       " 'clinic': 39,\n",
       " 'pharmacy': 39,\n",
       " 'toilets': 37,\n",
       " 'doctors': 27,\n",
       " 'school': 26,\n",
       " 'fuel': 25,\n",
       " 'taxi': 21,\n",
       " 'dentist': 21,\n",
       " 'car_wash': 17,\n",
       " 'telephone': 14,\n",
       " 'ice_cream': 12,\n",
       " 'university': 9,\n",
       " 'hospital': 9,\n",
       " 'bank': 8,\n",
       " 'pub': 7,\n",
       " 'police': 7,\n",
       " 'waste_basket': 7,\n",
       " 'atm': 6,\n",
       " 'car_rental': 5,\n",
       " 'drinking_water': 5,\n",
       " 'marketplace': 4,\n",
       " 'parking_entrance': 4,\n",
       " 'cafe': 4,\n",
       " 'courthouse': 4,\n",
       " 'community_centre': 4,\n",
       " 'register_office': 3,\n",
       " 'kindergarten': 3,\n",
       " 'language_school': 3,\n",
       " 'library': 3,\n",
       " 'nightclub': 3,\n",
       " 'post_office': 3,\n",
       " 'bicycle_parking': 2,\n",
       " 'prison': 2,\n",
       " 'bus_station': 2,\n",
       " 'cinema': 2,\n",
       " 'water_point': 2,\n",
       " 'social_centre': 2,\n",
       " 'driving_school': 2,\n",
       " 'veterinary': 2,\n",
       " 'college': 2,\n",
       " 'public_building': 2,\n",
       " 'vehicle_inspection': 2,\n",
       " 'mortuary': 1,\n",
       " 'townhall': 1,\n",
       " 'fire_station': 1,\n",
       " 'theatre': 1,\n",
       " 'clock': 1,\n",
       " 'studio': 1,\n",
       " 'post_box': 1,\n",
       " 'shower': 1,\n",
       " 'payment_centre': 1,\n",
       " 'love_hotel': 1,\n",
       " 'music_school': 1,\n",
       " 'events_venue': 1}"
      ]
     },
     "execution_count": 11,
     "metadata": {},
     "output_type": "execute_result"
    }
   ],
   "source": [
    "pois.amenity.value_counts().to_dict()"
   ]
  },
  {
   "cell_type": "code",
   "execution_count": 78,
   "id": "b59fdf26-921e-4b08-8899-8d235069dd36",
   "metadata": {},
   "outputs": [
    {
     "name": "stdout",
     "output_type": "stream",
     "text": [
      "bush - bushes\n",
      "fox - foxes\n",
      "toy - toies\n",
      "cap - caps\n"
     ]
    }
   ],
   "source": [
    "# import re\n",
    "# def pluralize(noun):\n",
    "#     if re.search('[sxz]$', noun):\n",
    "#          return re.sub('$', 'es', noun)\n",
    "#     elif re.search('[^aeioudgkprt]h$', noun):\n",
    "#         return re.sub('$', 'es', noun)\n",
    "#     elif re.search('[aeiou]y$', noun):\n",
    "#         return re.sub('y$', 'ies', noun)\n",
    "#     else:\n",
    "#         return noun + 's'\n",
    "# List=[\"bush\", \"fox\", \"toy\", \"cap\"]\n",
    "# for i in List:\n",
    "#      print(i, '-', pluralize(i))"
   ]
  },
  {
   "cell_type": "code",
   "execution_count": null,
   "id": "6847a654-21bc-4dc5-a6aa-6e5ce06d1db3",
   "metadata": {},
   "outputs": [],
   "source": [
    "#from pattern.en import pluralize, singularize\n",
    "#print(pluralize('child')) #children\n",
    "#print(singularize('wolves')) #wolf"
   ]
  },
  {
   "cell_type": "code",
   "execution_count": null,
   "id": "ea4a00c3-003b-4944-b022-0f8dd69bda18",
   "metadata": {},
   "outputs": [],
   "source": [
    "#git clone -b development https://github.com/clips/pattern\n",
    "#cd pattern\n",
    "#sudo python setup.py install"
   ]
  },
  {
   "cell_type": "code",
   "execution_count": 12,
   "id": "ec050515-81e5-442c-be3f-21b86e102e55",
   "metadata": {},
   "outputs": [
    {
     "name": "stdout",
     "output_type": "stream",
     "text": [
      "places of worship\n"
     ]
    }
   ],
   "source": [
    "import inflect\n",
    "p = inflect.engine()\n",
    "print(p.plural('place of worship'))#'places of worship\n",
    "pluralize = p.plural"
   ]
  },
  {
   "cell_type": "code",
   "execution_count": 13,
   "id": "bb9bc1d7-da77-45cb-881e-ec600c585e3e",
   "metadata": {},
   "outputs": [
    {
     "name": "stdout",
     "output_type": "stream",
     "text": [
      "parking - parkings\n",
      "fast food - fast foods\n",
      "bar - bars\n",
      "restaurant - restaurants\n",
      "bench - benches\n",
      "place of worship - places of worship\n",
      "clinic - clinics\n",
      "pharmacy - pharmacies\n",
      "toilets - toilet\n",
      "doctors - doctor\n",
      "school - schools\n",
      "fuel - fuels\n",
      "taxi - taxis\n",
      "dentist - dentists\n",
      "car wash - car washes\n",
      "telephone - telephones\n",
      "ice cream - ice creams\n",
      "university - universities\n",
      "hospital - hospitals\n",
      "bank - banks\n",
      "pub - pubs\n",
      "police - polices\n",
      "waste basket - waste baskets\n",
      "atm - atms\n",
      "car rental - car rentals\n",
      "drinking water - drinking waters\n",
      "marketplace - marketplaces\n",
      "parking entrance - parking entrances\n",
      "cafe - cafes\n",
      "courthouse - courthouses\n",
      "community centre - community centres\n",
      "register office - register offices\n",
      "kindergarten - kindergartens\n",
      "language school - language schools\n",
      "library - libraries\n",
      "nightclub - nightclubs\n",
      "post office - post offices\n",
      "bicycle parking - bicycle parkings\n",
      "prison - prisons\n",
      "bus station - bus stations\n",
      "cinema - cinemas\n",
      "water point - water points\n",
      "social centre - social centres\n",
      "driving school - driving schools\n",
      "veterinary - veterinaries\n",
      "college - colleges\n",
      "public building - public buildings\n",
      "vehicle inspection - vehicle inspections\n",
      "mortuary - mortuaries\n",
      "townhall - townhalls\n",
      "fire station - fire stations\n",
      "theatre - theatres\n",
      "clock - clocks\n",
      "studio - studios\n",
      "post box - post boxes\n",
      "shower - showers\n",
      "payment centre - payment centres\n",
      "love hotel - love hotels\n",
      "music school - music schools\n",
      "events venue - events venues\n"
     ]
    }
   ],
   "source": [
    "for word in pois.amenity.value_counts().index.values:\n",
    "    word = word.replace('_', ' ')\n",
    "    print(word, '-', pluralize(word))"
   ]
  },
  {
   "cell_type": "code",
   "execution_count": 9,
   "id": "18aacfe5-ed56-4f3d-906c-c0ceb3235335",
   "metadata": {},
   "outputs": [],
   "source": [
    "def earth_bbox_area(north, south, east, west):\n",
    "    \n",
    "    from pyproj import Geod\n",
    "    \n",
    "    geod = Geod('+a=6378137 +f=0.0033528106647475126')\n",
    "    lats = [north, north, south, south]\n",
    "    lons = [east, west, west, east]\n",
    "    area, perim = geod.polygon_area_perimeter(lons, lats)\n",
    "    return abs(area)\n",
    "\n",
    "\n",
    "def generate_text(north, south, east, west):\n",
    "    \n",
    "    import osmnx as ox\n",
    "    import pandas as pd\n",
    "    import inflect\n",
    "    \n",
    "    p = inflect.engine()\n",
    "    pluralize = p.plural\n",
    "    \n",
    "    pois = ox.geometries.geometries_from_bbox(north, south, east, west, tags={'amenity':True})\n",
    "    pois = pd.DataFrame(pois)\n",
    "    pois.reset_index(inplace=True)\n",
    "    pois = pois[['element_type', 'osmid', 'amenity', 'name', 'geometry', 'opening_hours']]\n",
    "    area = earth_bbox_area(north, south, east, west)\n",
    "    numbers_of_pois = pois.amenity.value_counts().to_dict()\n",
    "    \n",
    "    text = \"\"\n",
    "    text += f\"The total area selected is {round(area,2)}km2. In this area you can find \"\n",
    "    for poi_type in numbers_of_pois:\n",
    "        text += str(numbers_of_pois[poi_type]) + \" \" + pluralize(poi_type) + \", \"\n",
    "    text += \"enjoy the visit. \"\n",
    "    return text"
   ]
  },
  {
   "cell_type": "code",
   "execution_count": 10,
   "id": "e62b1c33-c381-47f9-acf0-2b6db8ab7aa2",
   "metadata": {},
   "outputs": [
    {
     "data": {
      "text/plain": [
       "'The total area selected is 133870977.65km2. In this area you can find 96 parkings, 75 fast_foods, 70 bars, 69 restaurants, 67 benches, 39 place_of_worships, 39 clinics, 39 pharmacies, 37 toilet, 27 doctor, 26 schools, 25 fuels, 21 taxis, 21 dentists, 17 car_washes, 14 telephones, 12 ice_creams, 9 universities, 9 hospitals, 8 banks, 7 pubs, 7 polices, 7 waste_baskets, 6 atms, 5 car_rentals, 5 drinking_waters, 4 marketplaces, 4 parking_entrances, 4 cafes, 4 courthouses, 4 community_centres, 3 register_offices, 3 kindergartens, 3 language_schools, 3 libraries, 3 nightclubs, 3 post_offices, 2 bicycle_parkings, 2 prisons, 2 bus_stations, 2 cinemas, 2 water_points, 2 social_centres, 2 driving_schools, 2 veterinaries, 2 colleges, 2 public_buildings, 2 vehicle_inspections, 1 mortuaries, 1 townhalls, 1 fire_stations, 1 theatres, 1 clocks, 1 studios, 1 post_boxes, 1 showers, 1 payment_centres, 1 love_hotels, 1 music_schools, 1 events_venues, enjoy the visit. '"
      ]
     },
     "execution_count": 10,
     "metadata": {},
     "output_type": "execute_result"
    }
   ],
   "source": [
    "north = -6.9875\n",
    "west = -37.3303\n",
    "south = -7.0882\n",
    "east = -37.2215\n",
    "generate_text(north, south, east, west)"
   ]
  },
  {
   "cell_type": "code",
   "execution_count": null,
   "id": "8a6f29d2-0193-407d-b33b-22ff979d912c",
   "metadata": {},
   "outputs": [],
   "source": []
  }
 ],
 "metadata": {
  "kernelspec": {
   "display_name": "Python 3 (ipykernel)",
   "language": "python",
   "name": "python3"
  },
  "language_info": {
   "codemirror_mode": {
    "name": "ipython",
    "version": 3
   },
   "file_extension": ".py",
   "mimetype": "text/x-python",
   "name": "python",
   "nbconvert_exporter": "python",
   "pygments_lexer": "ipython3",
   "version": "3.8.10"
  }
 },
 "nbformat": 4,
 "nbformat_minor": 5
}
