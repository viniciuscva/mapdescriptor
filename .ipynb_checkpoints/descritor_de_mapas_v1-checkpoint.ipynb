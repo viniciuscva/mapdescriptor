{
 "cells": [
  {
   "cell_type": "code",
   "execution_count": 19,
   "id": "a45b6ca1-a832-4b25-a705-0950f0dfeec1",
   "metadata": {},
   "outputs": [],
   "source": [
    "import osmnx as ox\n",
    "import pandas as pd\n",
    "import numpy as np\n",
    "import matplotlib.pyplot as plt\n",
    "from shapely.geometry import Point, LineString, Polygon\n",
    "from osgeo import ogr\n",
    "from qgis.core import QgsGeometry\n",
    "from qgis import utils"
   ]
  },
  {
   "cell_type": "code",
   "execution_count": 3,
   "id": "9191e8aa-0afb-40d6-923f-2cee30a52636",
   "metadata": {},
   "outputs": [
    {
     "data": {
      "text/html": [
       "<div>\n",
       "<style scoped>\n",
       "    .dataframe tbody tr th:only-of-type {\n",
       "        vertical-align: middle;\n",
       "    }\n",
       "\n",
       "    .dataframe tbody tr th {\n",
       "        vertical-align: top;\n",
       "    }\n",
       "\n",
       "    .dataframe thead th {\n",
       "        text-align: right;\n",
       "    }\n",
       "</style>\n",
       "<table border=\"1\" class=\"dataframe\">\n",
       "  <thead>\n",
       "    <tr style=\"text-align: right;\">\n",
       "      <th></th>\n",
       "      <th>element_type</th>\n",
       "      <th>osmid</th>\n",
       "      <th>amenity</th>\n",
       "      <th>name</th>\n",
       "      <th>geometry</th>\n",
       "      <th>opening_hours</th>\n",
       "    </tr>\n",
       "  </thead>\n",
       "  <tbody>\n",
       "    <tr>\n",
       "      <th>0</th>\n",
       "      <td>node</td>\n",
       "      <td>1798496605</td>\n",
       "      <td>fuel</td>\n",
       "      <td>Posto Viola</td>\n",
       "      <td>POINT (-37.27847 -7.02390)</td>\n",
       "      <td>NaN</td>\n",
       "    </tr>\n",
       "    <tr>\n",
       "      <th>1</th>\n",
       "      <td>node</td>\n",
       "      <td>1798496642</td>\n",
       "      <td>taxi</td>\n",
       "      <td>Moto táxi Praça dos Pombos</td>\n",
       "      <td>POINT (-37.27843 -7.02361)</td>\n",
       "      <td>NaN</td>\n",
       "    </tr>\n",
       "    <tr>\n",
       "      <th>2</th>\n",
       "      <td>node</td>\n",
       "      <td>1798525769</td>\n",
       "      <td>taxi</td>\n",
       "      <td>Táxi Rodoviária Velha</td>\n",
       "      <td>POINT (-37.27735 -7.02265)</td>\n",
       "      <td>NaN</td>\n",
       "    </tr>\n",
       "    <tr>\n",
       "      <th>3</th>\n",
       "      <td>node</td>\n",
       "      <td>1798525772</td>\n",
       "      <td>taxi</td>\n",
       "      <td>Táxi Fórum Miguel Sátiro</td>\n",
       "      <td>POINT (-37.27702 -7.02601)</td>\n",
       "      <td>NaN</td>\n",
       "    </tr>\n",
       "    <tr>\n",
       "      <th>4</th>\n",
       "      <td>node</td>\n",
       "      <td>1798919196</td>\n",
       "      <td>bar</td>\n",
       "      <td>Bar do Rock</td>\n",
       "      <td>POINT (-37.27702 -7.02204)</td>\n",
       "      <td>We-Su 19:00-02:00+; week 25-26 18:00-04:00</td>\n",
       "    </tr>\n",
       "  </tbody>\n",
       "</table>\n",
       "</div>"
      ],
      "text/plain": [
       "  element_type       osmid amenity                        name  \\\n",
       "0         node  1798496605    fuel                 Posto Viola   \n",
       "1         node  1798496642    taxi  Moto táxi Praça dos Pombos   \n",
       "2         node  1798525769    taxi       Táxi Rodoviária Velha   \n",
       "3         node  1798525772    taxi    Táxi Fórum Miguel Sátiro   \n",
       "4         node  1798919196     bar                 Bar do Rock   \n",
       "\n",
       "                     geometry                               opening_hours  \n",
       "0  POINT (-37.27847 -7.02390)                                         NaN  \n",
       "1  POINT (-37.27843 -7.02361)                                         NaN  \n",
       "2  POINT (-37.27735 -7.02265)                                         NaN  \n",
       "3  POINT (-37.27702 -7.02601)                                         NaN  \n",
       "4  POINT (-37.27702 -7.02204)  We-Su 19:00-02:00+; week 25-26 18:00-04:00  "
      ]
     },
     "execution_count": 3,
     "metadata": {},
     "output_type": "execute_result"
    }
   ],
   "source": [
    "# osmnx.geometries.geometries_from_bbox(north, south, east, west, tags)\n",
    "# https://www.mapsdirections.info/pt/coordenadas-gps.html\n",
    "# ANALISANDO CIDADE DE PATOS - PB\n",
    "north = -6.9875\n",
    "west = -37.3303\n",
    "south = -7.0882\n",
    "east = -37.2215\n",
    "pois = ox.geometries.geometries_from_bbox(north, south, east, west, tags={'amenity':True})\n",
    "pois = pd.DataFrame(pois)\n",
    "pois.reset_index(inplace=True)\n",
    "pois = pois[['element_type', 'osmid', 'amenity', 'name', 'geometry', 'opening_hours']]\n",
    "pois.head()"
   ]
  },
  {
   "cell_type": "code",
   "execution_count": 4,
   "id": "0fa8238a-8b3f-4307-9c9e-8c0100bc2e0a",
   "metadata": {},
   "outputs": [
    {
     "data": {
      "text/html": [
       "<div>\n",
       "<style scoped>\n",
       "    .dataframe tbody tr th:only-of-type {\n",
       "        vertical-align: middle;\n",
       "    }\n",
       "\n",
       "    .dataframe tbody tr th {\n",
       "        vertical-align: top;\n",
       "    }\n",
       "\n",
       "    .dataframe thead th {\n",
       "        text-align: right;\n",
       "    }\n",
       "</style>\n",
       "<table border=\"1\" class=\"dataframe\">\n",
       "  <thead>\n",
       "    <tr style=\"text-align: right;\">\n",
       "      <th></th>\n",
       "      <th>element_type</th>\n",
       "      <th>osmid</th>\n",
       "      <th>amenity</th>\n",
       "      <th>name</th>\n",
       "      <th>geometry</th>\n",
       "      <th>opening_hours</th>\n",
       "    </tr>\n",
       "  </thead>\n",
       "  <tbody>\n",
       "    <tr>\n",
       "      <th>638</th>\n",
       "      <td>way</td>\n",
       "      <td>165773628</td>\n",
       "      <td>parking</td>\n",
       "      <td>NaN</td>\n",
       "      <td>POLYGON ((-37.30354 -7.00531, -37.30316 -7.005...</td>\n",
       "      <td>NaN</td>\n",
       "    </tr>\n",
       "    <tr>\n",
       "      <th>639</th>\n",
       "      <td>way</td>\n",
       "      <td>166259294</td>\n",
       "      <td>place_of_worship</td>\n",
       "      <td>NaN</td>\n",
       "      <td>POLYGON ((-37.30145 -7.00646, -37.30139 -7.006...</td>\n",
       "      <td>NaN</td>\n",
       "    </tr>\n",
       "    <tr>\n",
       "      <th>640</th>\n",
       "      <td>way</td>\n",
       "      <td>166259767</td>\n",
       "      <td>parking</td>\n",
       "      <td>NaN</td>\n",
       "      <td>POLYGON ((-37.30149 -7.00651, -37.30200 -7.006...</td>\n",
       "      <td>NaN</td>\n",
       "    </tr>\n",
       "    <tr>\n",
       "      <th>641</th>\n",
       "      <td>way</td>\n",
       "      <td>166429876</td>\n",
       "      <td>place_of_worship</td>\n",
       "      <td>Paróquia Nossa Senhora Das Neves</td>\n",
       "      <td>POLYGON ((-37.30090 -7.03673, -37.30082 -7.037...</td>\n",
       "      <td>NaN</td>\n",
       "    </tr>\n",
       "    <tr>\n",
       "      <th>642</th>\n",
       "      <td>way</td>\n",
       "      <td>166550089</td>\n",
       "      <td>college</td>\n",
       "      <td>IFPB - Campus Patos</td>\n",
       "      <td>POLYGON ((-37.28455 -7.07763, -37.28672 -7.076...</td>\n",
       "      <td>Su-Fr 07:00-22:00; week 01 off; week 53 off; S...</td>\n",
       "    </tr>\n",
       "    <tr>\n",
       "      <th>...</th>\n",
       "      <td>...</td>\n",
       "      <td>...</td>\n",
       "      <td>...</td>\n",
       "      <td>...</td>\n",
       "      <td>...</td>\n",
       "      <td>...</td>\n",
       "    </tr>\n",
       "    <tr>\n",
       "      <th>822</th>\n",
       "      <td>way</td>\n",
       "      <td>1084925006</td>\n",
       "      <td>place_of_worship</td>\n",
       "      <td>NaN</td>\n",
       "      <td>POLYGON ((-37.27436 -7.00392, -37.27443 -7.003...</td>\n",
       "      <td>NaN</td>\n",
       "    </tr>\n",
       "    <tr>\n",
       "      <th>823</th>\n",
       "      <td>way</td>\n",
       "      <td>1085721565</td>\n",
       "      <td>place_of_worship</td>\n",
       "      <td>Capela da Cruz da Menina</td>\n",
       "      <td>POLYGON ((-37.30224 -7.00568, -37.30223 -7.005...</td>\n",
       "      <td>NaN</td>\n",
       "    </tr>\n",
       "    <tr>\n",
       "      <th>824</th>\n",
       "      <td>way</td>\n",
       "      <td>1098137716</td>\n",
       "      <td>school</td>\n",
       "      <td>NaN</td>\n",
       "      <td>POLYGON ((-37.27944 -7.06101, -37.27924 -7.060...</td>\n",
       "      <td>NaN</td>\n",
       "    </tr>\n",
       "    <tr>\n",
       "      <th>825</th>\n",
       "      <td>way</td>\n",
       "      <td>1112595201</td>\n",
       "      <td>place_of_worship</td>\n",
       "      <td>NaN</td>\n",
       "      <td>POLYGON ((-37.23823 -7.06129, -37.23823 -7.061...</td>\n",
       "      <td>NaN</td>\n",
       "    </tr>\n",
       "    <tr>\n",
       "      <th>826</th>\n",
       "      <td>relation</td>\n",
       "      <td>7375603</td>\n",
       "      <td>marketplace</td>\n",
       "      <td>Mercado Público</td>\n",
       "      <td>POLYGON ((-37.27953 -7.02765, -37.27953 -7.027...</td>\n",
       "      <td>Mo-Sa 07:00-17:00</td>\n",
       "    </tr>\n",
       "  </tbody>\n",
       "</table>\n",
       "<p>189 rows × 6 columns</p>\n",
       "</div>"
      ],
      "text/plain": [
       "    element_type       osmid           amenity  \\\n",
       "638          way   165773628           parking   \n",
       "639          way   166259294  place_of_worship   \n",
       "640          way   166259767           parking   \n",
       "641          way   166429876  place_of_worship   \n",
       "642          way   166550089           college   \n",
       "..           ...         ...               ...   \n",
       "822          way  1084925006  place_of_worship   \n",
       "823          way  1085721565  place_of_worship   \n",
       "824          way  1098137716            school   \n",
       "825          way  1112595201  place_of_worship   \n",
       "826     relation     7375603       marketplace   \n",
       "\n",
       "                                 name  \\\n",
       "638                               NaN   \n",
       "639                               NaN   \n",
       "640                               NaN   \n",
       "641  Paróquia Nossa Senhora Das Neves   \n",
       "642               IFPB - Campus Patos   \n",
       "..                                ...   \n",
       "822                               NaN   \n",
       "823          Capela da Cruz da Menina   \n",
       "824                               NaN   \n",
       "825                               NaN   \n",
       "826                   Mercado Público   \n",
       "\n",
       "                                              geometry  \\\n",
       "638  POLYGON ((-37.30354 -7.00531, -37.30316 -7.005...   \n",
       "639  POLYGON ((-37.30145 -7.00646, -37.30139 -7.006...   \n",
       "640  POLYGON ((-37.30149 -7.00651, -37.30200 -7.006...   \n",
       "641  POLYGON ((-37.30090 -7.03673, -37.30082 -7.037...   \n",
       "642  POLYGON ((-37.28455 -7.07763, -37.28672 -7.076...   \n",
       "..                                                 ...   \n",
       "822  POLYGON ((-37.27436 -7.00392, -37.27443 -7.003...   \n",
       "823  POLYGON ((-37.30224 -7.00568, -37.30223 -7.005...   \n",
       "824  POLYGON ((-37.27944 -7.06101, -37.27924 -7.060...   \n",
       "825  POLYGON ((-37.23823 -7.06129, -37.23823 -7.061...   \n",
       "826  POLYGON ((-37.27953 -7.02765, -37.27953 -7.027...   \n",
       "\n",
       "                                         opening_hours  \n",
       "638                                                NaN  \n",
       "639                                                NaN  \n",
       "640                                                NaN  \n",
       "641                                                NaN  \n",
       "642  Su-Fr 07:00-22:00; week 01 off; week 53 off; S...  \n",
       "..                                                 ...  \n",
       "822                                                NaN  \n",
       "823                                                NaN  \n",
       "824                                                NaN  \n",
       "825                                                NaN  \n",
       "826                                  Mo-Sa 07:00-17:00  \n",
       "\n",
       "[189 rows x 6 columns]"
      ]
     },
     "execution_count": 4,
     "metadata": {},
     "output_type": "execute_result"
    }
   ],
   "source": [
    "pois[pois.geometry.apply(type).apply(str)==\"<class 'shapely.geometry.polygon.Polygon'>\"]"
   ]
  },
  {
   "cell_type": "code",
   "execution_count": 5,
   "id": "9a5dd4c8-4f60-48d5-ba95-d86950627a02",
   "metadata": {},
   "outputs": [
    {
     "name": "stdout",
     "output_type": "stream",
     "text": [
      "<class 'shapely.geometry.polygon.Polygon'>\n"
     ]
    },
    {
     "data": {
      "image/svg+xml": [
       "<svg xmlns=\"http://www.w3.org/2000/svg\" xmlns:xlink=\"http://www.w3.org/1999/xlink\" width=\"100.0\" height=\"100.0\" viewBox=\"-37.300918536 -7.037053036 0.0002832719999972255 0.000381671999999611\" preserveAspectRatio=\"xMinYMin meet\"><g transform=\"matrix(1,0,0,-1,0,-14.0737244)\"><path fill-rule=\"evenodd\" fill=\"#66cc99\" stroke=\"#555555\" stroke-width=\"7.633439999992219e-06\" opacity=\"0.6\" d=\"M -37.3009044,-7.0367324 L -37.3008176,-7.0370389 L -37.3006494,-7.036992 L -37.3007362,-7.0366855 L -37.3009044,-7.0367324 z\" /></g></svg>"
      ],
      "text/plain": [
       "<POLYGON ((-37.301 -7.037, -37.301 -7.037, -37.301 -7.037, -37.301 -7.037, -...>"
      ]
     },
     "execution_count": 5,
     "metadata": {},
     "output_type": "execute_result"
    }
   ],
   "source": [
    "polygon_paroquia_nossa_senhora_das_neves = pois[pois['osmid']==166429876]['geometry'].values[0]\n",
    "print(type(polygon_paroquia_nossa_senhora_das_neves))\n",
    "polygon_paroquia_nossa_senhora_das_neves"
   ]
  },
  {
   "cell_type": "code",
   "execution_count": 6,
   "id": "51c89d27-bbef-4f48-819c-2a3ee42e909c",
   "metadata": {},
   "outputs": [
    {
     "data": {
      "text/html": [
       "<div>\n",
       "<style scoped>\n",
       "    .dataframe tbody tr th:only-of-type {\n",
       "        vertical-align: middle;\n",
       "    }\n",
       "\n",
       "    .dataframe tbody tr th {\n",
       "        vertical-align: top;\n",
       "    }\n",
       "\n",
       "    .dataframe thead th {\n",
       "        text-align: right;\n",
       "    }\n",
       "</style>\n",
       "<table border=\"1\" class=\"dataframe\">\n",
       "  <thead>\n",
       "    <tr style=\"text-align: right;\">\n",
       "      <th></th>\n",
       "      <th>element_type</th>\n",
       "      <th>osmid</th>\n",
       "      <th>amenity</th>\n",
       "      <th>name</th>\n",
       "      <th>geometry</th>\n",
       "      <th>opening_hours</th>\n",
       "    </tr>\n",
       "  </thead>\n",
       "  <tbody>\n",
       "    <tr>\n",
       "      <th>15</th>\n",
       "      <td>node</td>\n",
       "      <td>1801176616</td>\n",
       "      <td>bank</td>\n",
       "      <td>Santander</td>\n",
       "      <td>POINT (-37.27588 -7.02915)</td>\n",
       "      <td>Mo-Su 06:00-22:00</td>\n",
       "    </tr>\n",
       "    <tr>\n",
       "      <th>49</th>\n",
       "      <td>node</td>\n",
       "      <td>1812941830</td>\n",
       "      <td>atm</td>\n",
       "      <td>Santander</td>\n",
       "      <td>POINT (-37.27959 -7.02079)</td>\n",
       "      <td>NaN</td>\n",
       "    </tr>\n",
       "  </tbody>\n",
       "</table>\n",
       "</div>"
      ],
      "text/plain": [
       "   element_type       osmid amenity       name                    geometry  \\\n",
       "15         node  1801176616    bank  Santander  POINT (-37.27588 -7.02915)   \n",
       "49         node  1812941830     atm  Santander  POINT (-37.27959 -7.02079)   \n",
       "\n",
       "        opening_hours  \n",
       "15  Mo-Su 06:00-22:00  \n",
       "49                NaN  "
      ]
     },
     "execution_count": 6,
     "metadata": {},
     "output_type": "execute_result"
    }
   ],
   "source": [
    "pd.set_option('display.max_columns', 500)\n",
    "pois[pois['name']=='Santander']"
   ]
  },
  {
   "cell_type": "code",
   "execution_count": 7,
   "id": "3f770a32-d045-4d4a-97e3-20ad525a072a",
   "metadata": {},
   "outputs": [],
   "source": [
    "geoms = ox.geometries.geometries_from_bbox(north, south, east, west, tags={'highway':True, 'place':True, 'name':True})\n",
    "geoms = pd.DataFrame(geoms)\n",
    "geoms.reset_index(inplace=True)"
   ]
  },
  {
   "cell_type": "code",
   "execution_count": 9,
   "id": "14bf27e8-72f8-4db2-8f72-264a3d733da3",
   "metadata": {},
   "outputs": [],
   "source": [
    "def is_street(string):\n",
    "    string = str(string)\n",
    "    return string.startswith('Rua') or string.startswith('Travessa') or string.startswith('Avenida')\n",
    "\n",
    "ruas = geoms[geoms['name'].apply(is_street)==True]\n",
    "ruas = ruas[['element_type', 'osmid', 'geometry', 'highway', 'maxspeed', 'name']]"
   ]
  },
  {
   "cell_type": "code",
   "execution_count": 10,
   "id": "57152393-847b-4c83-bbaa-eda915ef3ccf",
   "metadata": {},
   "outputs": [
    {
     "data": {
      "text/html": [
       "<div>\n",
       "<style scoped>\n",
       "    .dataframe tbody tr th:only-of-type {\n",
       "        vertical-align: middle;\n",
       "    }\n",
       "\n",
       "    .dataframe tbody tr th {\n",
       "        vertical-align: top;\n",
       "    }\n",
       "\n",
       "    .dataframe thead th {\n",
       "        text-align: right;\n",
       "    }\n",
       "</style>\n",
       "<table border=\"1\" class=\"dataframe\">\n",
       "  <thead>\n",
       "    <tr style=\"text-align: right;\">\n",
       "      <th></th>\n",
       "      <th>element_type</th>\n",
       "      <th>osmid</th>\n",
       "      <th>geometry</th>\n",
       "      <th>highway</th>\n",
       "      <th>maxspeed</th>\n",
       "      <th>name</th>\n",
       "    </tr>\n",
       "  </thead>\n",
       "  <tbody>\n",
       "    <tr>\n",
       "      <th>1563</th>\n",
       "      <td>way</td>\n",
       "      <td>54690571</td>\n",
       "      <td>LINESTRING (-37.29267 -7.03183, -37.29355 -7.0...</td>\n",
       "      <td>primary</td>\n",
       "      <td>50</td>\n",
       "      <td>Rua do Prado</td>\n",
       "    </tr>\n",
       "    <tr>\n",
       "      <th>1564</th>\n",
       "      <td>way</td>\n",
       "      <td>61579255</td>\n",
       "      <td>LINESTRING (-37.27112 -7.01758, -37.27074 -7.0...</td>\n",
       "      <td>secondary</td>\n",
       "      <td>NaN</td>\n",
       "      <td>Avenida Lima Campos</td>\n",
       "    </tr>\n",
       "    <tr>\n",
       "      <th>1580</th>\n",
       "      <td>way</td>\n",
       "      <td>165774623</td>\n",
       "      <td>LINESTRING (-37.30149 -7.00534, -37.30040 -7.0...</td>\n",
       "      <td>residential</td>\n",
       "      <td>NaN</td>\n",
       "      <td>Rua Severina Dantas</td>\n",
       "    </tr>\n",
       "    <tr>\n",
       "      <th>1581</th>\n",
       "      <td>way</td>\n",
       "      <td>165774624</td>\n",
       "      <td>LINESTRING (-37.30190 -7.00594, -37.30081 -7.0...</td>\n",
       "      <td>residential</td>\n",
       "      <td>NaN</td>\n",
       "      <td>Rua Iremar Belarmino</td>\n",
       "    </tr>\n",
       "    <tr>\n",
       "      <th>1582</th>\n",
       "      <td>way</td>\n",
       "      <td>165774625</td>\n",
       "      <td>LINESTRING (-37.30121 -7.00490, -37.30129 -7.0...</td>\n",
       "      <td>residential</td>\n",
       "      <td>NaN</td>\n",
       "      <td>Rua Antônio Crisanto Dantas</td>\n",
       "    </tr>\n",
       "  </tbody>\n",
       "</table>\n",
       "</div>"
      ],
      "text/plain": [
       "     element_type      osmid  \\\n",
       "1563          way   54690571   \n",
       "1564          way   61579255   \n",
       "1580          way  165774623   \n",
       "1581          way  165774624   \n",
       "1582          way  165774625   \n",
       "\n",
       "                                               geometry      highway maxspeed  \\\n",
       "1563  LINESTRING (-37.29267 -7.03183, -37.29355 -7.0...      primary       50   \n",
       "1564  LINESTRING (-37.27112 -7.01758, -37.27074 -7.0...    secondary      NaN   \n",
       "1580  LINESTRING (-37.30149 -7.00534, -37.30040 -7.0...  residential      NaN   \n",
       "1581  LINESTRING (-37.30190 -7.00594, -37.30081 -7.0...  residential      NaN   \n",
       "1582  LINESTRING (-37.30121 -7.00490, -37.30129 -7.0...  residential      NaN   \n",
       "\n",
       "                             name  \n",
       "1563                 Rua do Prado  \n",
       "1564          Avenida Lima Campos  \n",
       "1580          Rua Severina Dantas  \n",
       "1581         Rua Iremar Belarmino  \n",
       "1582  Rua Antônio Crisanto Dantas  "
      ]
     },
     "execution_count": 10,
     "metadata": {},
     "output_type": "execute_result"
    }
   ],
   "source": [
    "ruas.head()"
   ]
  },
  {
   "cell_type": "code",
   "execution_count": 11,
   "id": "1847c269-842a-4ed5-87ba-5f13ca691d28",
   "metadata": {},
   "outputs": [],
   "source": [
    "bairros = geoms.loc[(geoms['place'] == 'neighbourhood') | (geoms['place'] == 'suburb')]\n",
    "bairros = bairros[bairros.geometry.apply(type).apply(str)==\"<class 'shapely.geometry.polygon.Polygon'>\"]\n",
    "bairros = bairros[['element_type', 'osmid', 'geometry', 'name', 'place', 'ways', 'type']]"
   ]
  },
  {
   "cell_type": "code",
   "execution_count": 12,
   "id": "3a620748-cc52-4979-a94e-61b1f2f44e37",
   "metadata": {},
   "outputs": [
    {
     "data": {
      "text/html": [
       "<div>\n",
       "<style scoped>\n",
       "    .dataframe tbody tr th:only-of-type {\n",
       "        vertical-align: middle;\n",
       "    }\n",
       "\n",
       "    .dataframe tbody tr th {\n",
       "        vertical-align: top;\n",
       "    }\n",
       "\n",
       "    .dataframe thead th {\n",
       "        text-align: right;\n",
       "    }\n",
       "</style>\n",
       "<table border=\"1\" class=\"dataframe\">\n",
       "  <thead>\n",
       "    <tr style=\"text-align: right;\">\n",
       "      <th></th>\n",
       "      <th>element_type</th>\n",
       "      <th>osmid</th>\n",
       "      <th>geometry</th>\n",
       "      <th>name</th>\n",
       "      <th>place</th>\n",
       "      <th>ways</th>\n",
       "      <th>type</th>\n",
       "    </tr>\n",
       "  </thead>\n",
       "  <tbody>\n",
       "    <tr>\n",
       "      <th>6189</th>\n",
       "      <td>relation</td>\n",
       "      <td>3819334</td>\n",
       "      <td>POLYGON ((-37.28270 -7.05786, -37.28186 -7.057...</td>\n",
       "      <td>Santa Cecília</td>\n",
       "      <td>suburb</td>\n",
       "      <td>[427104529, 171543543, 427104517, 171543546, 8...</td>\n",
       "      <td>boundary</td>\n",
       "    </tr>\n",
       "    <tr>\n",
       "      <th>6190</th>\n",
       "      <td>relation</td>\n",
       "      <td>4141969</td>\n",
       "      <td>POLYGON ((-37.28372 -7.02427, -37.28268 -7.024...</td>\n",
       "      <td>Centro</td>\n",
       "      <td>suburb</td>\n",
       "      <td>[528484442, 170491140, 525677008, 525677007, 5...</td>\n",
       "      <td>boundary</td>\n",
       "    </tr>\n",
       "    <tr>\n",
       "      <th>6191</th>\n",
       "      <td>relation</td>\n",
       "      <td>4485256</td>\n",
       "      <td>POLYGON ((-37.28158 -7.05318, -37.28147 -7.052...</td>\n",
       "      <td>Jatobá</td>\n",
       "      <td>suburb</td>\n",
       "      <td>[871208879, 871208878, 171543546, 427104517, 1...</td>\n",
       "      <td>boundary</td>\n",
       "    </tr>\n",
       "    <tr>\n",
       "      <th>6192</th>\n",
       "      <td>relation</td>\n",
       "      <td>4601772</td>\n",
       "      <td>POLYGON ((-37.28307 -7.06504, -37.28304 -7.065...</td>\n",
       "      <td>Alto da Tubiba</td>\n",
       "      <td>suburb</td>\n",
       "      <td>[169735160, 169734332, 427104540, 421411824, 3...</td>\n",
       "      <td>boundary</td>\n",
       "    </tr>\n",
       "    <tr>\n",
       "      <th>6193</th>\n",
       "      <td>relation</td>\n",
       "      <td>4601773</td>\n",
       "      <td>POLYGON ((-37.26246 -7.01933, -37.26219 -7.019...</td>\n",
       "      <td>Ana Leite</td>\n",
       "      <td>suburb</td>\n",
       "      <td>[435034545, 435034543, 435034547, 277363873, 3...</td>\n",
       "      <td>boundary</td>\n",
       "    </tr>\n",
       "  </tbody>\n",
       "</table>\n",
       "</div>"
      ],
      "text/plain": [
       "     element_type    osmid                                           geometry  \\\n",
       "6189     relation  3819334  POLYGON ((-37.28270 -7.05786, -37.28186 -7.057...   \n",
       "6190     relation  4141969  POLYGON ((-37.28372 -7.02427, -37.28268 -7.024...   \n",
       "6191     relation  4485256  POLYGON ((-37.28158 -7.05318, -37.28147 -7.052...   \n",
       "6192     relation  4601772  POLYGON ((-37.28307 -7.06504, -37.28304 -7.065...   \n",
       "6193     relation  4601773  POLYGON ((-37.26246 -7.01933, -37.26219 -7.019...   \n",
       "\n",
       "                name   place  \\\n",
       "6189   Santa Cecília  suburb   \n",
       "6190          Centro  suburb   \n",
       "6191          Jatobá  suburb   \n",
       "6192  Alto da Tubiba  suburb   \n",
       "6193       Ana Leite  suburb   \n",
       "\n",
       "                                                   ways      type  \n",
       "6189  [427104529, 171543543, 427104517, 171543546, 8...  boundary  \n",
       "6190  [528484442, 170491140, 525677008, 525677007, 5...  boundary  \n",
       "6191  [871208879, 871208878, 171543546, 427104517, 1...  boundary  \n",
       "6192  [169735160, 169734332, 427104540, 421411824, 3...  boundary  \n",
       "6193  [435034545, 435034543, 435034547, 277363873, 3...  boundary  "
      ]
     },
     "execution_count": 12,
     "metadata": {},
     "output_type": "execute_result"
    }
   ],
   "source": [
    "bairros.head()"
   ]
  },
  {
   "cell_type": "code",
   "execution_count": 13,
   "id": "1fb05817-6b81-4d18-9fe5-991194f778d4",
   "metadata": {},
   "outputs": [
    {
     "data": {
      "text/plain": [
       "(60,)"
      ]
     },
     "execution_count": 13,
     "metadata": {},
     "output_type": "execute_result"
    }
   ],
   "source": [
    "# QUANTIDADE ENCONTRADA DE DIFERENTES TIPOS DE POI\n",
    "pois.amenity.value_counts().shape"
   ]
  },
  {
   "cell_type": "code",
   "execution_count": 14,
   "id": "e2a309d7-08b0-47a8-9456-92db34c53a23",
   "metadata": {},
   "outputs": [],
   "source": [
    "# SAMPLE CODE\n",
    "# G = ox.graph_from_place('Centro, Patos, Paraíba, Brazil', network_type='drive')\n",
    "# G = ox.project_graph(G)"
   ]
  },
  {
   "cell_type": "code",
   "execution_count": 15,
   "id": "8863e859-7f4a-4c93-a2d5-aa999c59beed",
   "metadata": {},
   "outputs": [],
   "source": [
    "# SAMPLE CODE\n",
    "# import matplotlib.pyplot as plt\n",
    "# import osmnx as ox\n",
    "# ox.config(use_cache=True, log_console=True)\n",
    "\n",
    "# G = ox.graph_from_address('Centro, Patos, Paraíba, Brazil', dist=200, network_type='drive')\n",
    "# G = ox.get_undirected(G)\n",
    "\n",
    "# fig, ax = ox.plot_graph(G, bgcolor='k', edge_linewidth=3, node_size=0,\n",
    "#                         show=False, close=False)\n",
    "# for _, edge in ox.graph_to_gdfs(G, nodes=False).fillna('').iterrows():\n",
    "#     c = edge['geometry'].centroid\n",
    "#     text = edge['name']\n",
    "#     ax.annotate(text, (c.x, c.y), c='w')\n",
    "# plt.show()\n",
    "\n",
    "# python MY_SCRIPT.py >/dev/null &"
   ]
  },
  {
   "cell_type": "code",
   "execution_count": 39,
   "id": "e010f3f2-8756-47c9-9e2c-bbab9d43d2f0",
   "metadata": {},
   "outputs": [
    {
     "data": {
      "text/plain": [
       "[<POINT (0 1)>]"
      ]
     },
     "execution_count": 39,
     "metadata": {},
     "output_type": "execute_result"
    }
   ],
   "source": [
    "# SAMPLE CODE\n",
    "nodes = [Point(1, 1), Point(0, 1)]\n",
    "linestring = LineString([(0, 0), (0, 2)])\n",
    "on_line = [node for node in nodes if node.distance(linestring) == 0.0]\n",
    "on_line"
   ]
  },
  {
   "cell_type": "code",
   "execution_count": 40,
   "id": "114da46c-decf-4e43-93bd-85d7c15552c7",
   "metadata": {},
   "outputs": [
    {
     "name": "stdout",
     "output_type": "stream",
     "text": [
      "True\n"
     ]
    }
   ],
   "source": [
    "# SAMPLE CODE\n",
    "from shapely.geometry import Polygon\n",
    "p1 = Polygon([(0,0), (1,1), (1,0)])\n",
    "p2 = Polygon([(0,1), (1,0), (1,1)])\n",
    "print(p1.intersects(p2))"
   ]
  },
  {
   "cell_type": "code",
   "execution_count": 41,
   "id": "ded0a31a-5aed-42d4-ad7a-5e6f18118642",
   "metadata": {},
   "outputs": [
    {
     "name": "stdout",
     "output_type": "stream",
     "text": [
      "POLYGON ((1208064.27124304 624154.678377892,1219317.10674371 624154.678377892,1219317.10674371 614453.958118695,1208064.27124304 614453.958118695,1208064.27124304 624154.678377892))\n"
     ]
    }
   ],
   "source": [
    "# SAMPLE CODE\n",
    "\n",
    "wkt1 = \"POLYGON ((1208064.271243039 624154.6783778917, 1208064.271243039 601260.9785661874, 1231345.9998651114 601260.9785661874, 1231345.9998651114 624154.6783778917, 1208064.271243039 624154.6783778917))\"\n",
    "wkt2 = \"POLYGON ((1199915.6662253144 633079.3410163528, 1199915.6662253144 614453.958118695, 1219317.1067437078 614453.958118695, 1219317.1067437078 633079.3410163528, 1199915.6662253144 633079.3410163528)))\"\n",
    "\n",
    "poly1 = ogr.CreateGeometryFromWkt(wkt1)\n",
    "poly2 = ogr.CreateGeometryFromWkt(wkt2)\n",
    "\n",
    "intersection = poly1.Intersection(poly2)\n",
    "\n",
    "print(intersection.ExportToWkt())\n",
    "\n"
   ]
  },
  {
   "cell_type": "code",
   "execution_count": 42,
   "id": "9f1b1c42-36b1-40a2-b36a-4898b375580b",
   "metadata": {},
   "outputs": [
    {
     "name": "stdout",
     "output_type": "stream",
     "text": [
      "<QgsGeometry: Polygon ((1 1, 1 0, 0.5 0.5, 1 1))>\n"
     ]
    }
   ],
   "source": [
    "# You can also use PyQGIS.\n",
    "\n",
    "p1 = QgsGeometry.fromWkt('POLYGON ((0 0, 1 1, 1 0, 0 0))')\n",
    "p2 = QgsGeometry.fromWkt('POLYGON ((0 1, 1 0, 1 1, 0 1))')\n",
    "\n",
    "intersection = p1.intersection(p2)\n",
    "\n",
    "print(intersection)"
   ]
  },
  {
   "cell_type": "code",
   "execution_count": 43,
   "id": "67d7a9e7-6d46-4c9b-8d4c-71c1cf7da2e4",
   "metadata": {},
   "outputs": [
    {
     "name": "stdout",
     "output_type": "stream",
     "text": [
      "Python 3.9.5\n"
     ]
    },
    {
     "name": "stderr",
     "output_type": "stream",
     "text": [
      "sys:1: ResourceWarning: Unclosed socket <zmq.Socket(zmq.PUSH) at 0x203f32f7c40>\n",
      "ResourceWarning: Enable tracemalloc to get the object allocation traceback\n",
      "C:\\OSGeo4W\\apps\\Python39\\lib\\site-packages\\IPython\\utils\\_process_win32.py:124: ResourceWarning: unclosed file <_io.BufferedWriter name=5>\n",
      "  return process_handler(cmd, _system_body)\n",
      "ResourceWarning: Enable tracemalloc to get the object allocation traceback\n",
      "C:\\OSGeo4W\\apps\\Python39\\lib\\site-packages\\IPython\\utils\\_process_win32.py:124: ResourceWarning: unclosed file <_io.BufferedReader name=6>\n",
      "  return process_handler(cmd, _system_body)\n",
      "ResourceWarning: Enable tracemalloc to get the object allocation traceback\n",
      "C:\\OSGeo4W\\apps\\Python39\\lib\\site-packages\\IPython\\utils\\_process_win32.py:124: ResourceWarning: unclosed file <_io.BufferedReader name=7>\n",
      "  return process_handler(cmd, _system_body)\n",
      "ResourceWarning: Enable tracemalloc to get the object allocation traceback\n"
     ]
    }
   ],
   "source": [
    "!python --version"
   ]
  },
  {
   "cell_type": "code",
   "execution_count": 44,
   "id": "41b71e0e-ce05-48d3-bf32-279271f6afbb",
   "metadata": {},
   "outputs": [
    {
     "name": "stdout",
     "output_type": "stream",
     "text": [
      "['C:\\\\Users\\\\Vinicius32\\\\Documents\\\\mapdescriptor', 'C:\\\\Users\\\\Vinicius32\\\\Documents\\\\mapdescriptor', 'C:\\\\OSGeo4W\\\\apps\\\\qgis\\\\python', 'C:\\\\OSGeo4W\\\\bin\\\\python39.zip', 'C:\\\\OSGeo4W\\\\apps\\\\Python39\\\\DLLs', 'C:\\\\OSGeo4W\\\\apps\\\\Python39\\\\lib', 'C:\\\\OSGeo4W\\\\bin', 'C:\\\\OSGeo4W\\\\apps\\\\Python39', '', 'C:\\\\OSGeo4W\\\\apps\\\\Python39\\\\lib\\\\site-packages', 'C:\\\\OSGeo4W\\\\apps\\\\Python39\\\\lib\\\\site-packages\\\\win32', 'C:\\\\OSGeo4W\\\\apps\\\\Python39\\\\lib\\\\site-packages\\\\win32\\\\lib', 'C:\\\\OSGeo4W\\\\apps\\\\Python39\\\\lib\\\\site-packages\\\\Pythonwin']\n"
     ]
    }
   ],
   "source": [
    "import sys\n",
    "print(sys.path)"
   ]
  },
  {
   "cell_type": "code",
   "execution_count": 63,
   "id": "f597d198-7154-4f8d-a71b-0f76bd261d46",
   "metadata": {},
   "outputs": [],
   "source": [
    "proximos = ox.geometries.geometries_from_point(( -7.02390, -37.27847), tags={'highway':True}, dist=100)"
   ]
  },
  {
   "cell_type": "code",
   "execution_count": 71,
   "id": "8dab865d-88ca-4764-8f68-a891726610e5",
   "metadata": {},
   "outputs": [
    {
     "data": {
      "text/html": [
       "<div>\n",
       "<style scoped>\n",
       "    .dataframe tbody tr th:only-of-type {\n",
       "        vertical-align: middle;\n",
       "    }\n",
       "\n",
       "    .dataframe tbody tr th {\n",
       "        vertical-align: top;\n",
       "    }\n",
       "\n",
       "    .dataframe thead th {\n",
       "        text-align: right;\n",
       "    }\n",
       "</style>\n",
       "<table border=\"1\" class=\"dataframe\">\n",
       "  <thead>\n",
       "    <tr style=\"text-align: right;\">\n",
       "      <th></th>\n",
       "      <th>element_type</th>\n",
       "      <th>osmid</th>\n",
       "      <th>crossing</th>\n",
       "      <th>highway</th>\n",
       "      <th>geometry</th>\n",
       "      <th>bus</th>\n",
       "      <th>name</th>\n",
       "      <th>public_transport</th>\n",
       "      <th>traffic_signals</th>\n",
       "      <th>nodes</th>\n",
       "      <th>lanes</th>\n",
       "      <th>lit</th>\n",
       "      <th>oneway</th>\n",
       "      <th>ref</th>\n",
       "      <th>surface</th>\n",
       "      <th>bicycle</th>\n",
       "      <th>maxspeed</th>\n",
       "      <th>ways</th>\n",
       "      <th>type</th>\n",
       "    </tr>\n",
       "  </thead>\n",
       "  <tbody>\n",
       "    <tr>\n",
       "      <th>0</th>\n",
       "      <td>way</td>\n",
       "      <td>167413238</td>\n",
       "      <td>NaN</td>\n",
       "      <td>primary</td>\n",
       "      <td>LINESTRING (-37.27849 -7.02330, -37.27847 -7.0...</td>\n",
       "      <td>NaN</td>\n",
       "      <td>Avenida Solon de Lucena</td>\n",
       "      <td>NaN</td>\n",
       "      <td>NaN</td>\n",
       "      <td>[1788036718, 6184545542, 1788036714]</td>\n",
       "      <td>2</td>\n",
       "      <td>yes</td>\n",
       "      <td>yes</td>\n",
       "      <td>PB-110</td>\n",
       "      <td>asphalt</td>\n",
       "      <td>NaN</td>\n",
       "      <td>NaN</td>\n",
       "      <td>NaN</td>\n",
       "      <td>NaN</td>\n",
       "    </tr>\n",
       "    <tr>\n",
       "      <th>1</th>\n",
       "      <td>way</td>\n",
       "      <td>167413243</td>\n",
       "      <td>NaN</td>\n",
       "      <td>residential</td>\n",
       "      <td>LINESTRING (-37.27877 -7.02373, -37.27878 -7.0...</td>\n",
       "      <td>NaN</td>\n",
       "      <td>Rua Leôncio Wanderley</td>\n",
       "      <td>NaN</td>\n",
       "      <td>NaN</td>\n",
       "      <td>[1788036696, 7027617648, 7027617653, 702761765...</td>\n",
       "      <td>NaN</td>\n",
       "      <td>NaN</td>\n",
       "      <td>yes</td>\n",
       "      <td>NaN</td>\n",
       "      <td>NaN</td>\n",
       "      <td>NaN</td>\n",
       "      <td>NaN</td>\n",
       "      <td>NaN</td>\n",
       "      <td>NaN</td>\n",
       "    </tr>\n",
       "    <tr>\n",
       "      <th>2</th>\n",
       "      <td>way</td>\n",
       "      <td>167413521</td>\n",
       "      <td>NaN</td>\n",
       "      <td>residential</td>\n",
       "      <td>LINESTRING (-37.27879 -7.02392, -37.27878 -7.0...</td>\n",
       "      <td>NaN</td>\n",
       "      <td>Rua Leôncio Wanderley</td>\n",
       "      <td>NaN</td>\n",
       "      <td>NaN</td>\n",
       "      <td>[7027617655, 1788043903, 1788043906, 178804390...</td>\n",
       "      <td>NaN</td>\n",
       "      <td>NaN</td>\n",
       "      <td>yes</td>\n",
       "      <td>NaN</td>\n",
       "      <td>NaN</td>\n",
       "      <td>NaN</td>\n",
       "      <td>NaN</td>\n",
       "      <td>NaN</td>\n",
       "      <td>NaN</td>\n",
       "    </tr>\n",
       "    <tr>\n",
       "      <th>3</th>\n",
       "      <td>way</td>\n",
       "      <td>167413640</td>\n",
       "      <td>NaN</td>\n",
       "      <td>residential</td>\n",
       "      <td>LINESTRING (-37.27792 -7.02303, -37.27765 -7.0...</td>\n",
       "      <td>NaN</td>\n",
       "      <td>Rua Major Wanderley</td>\n",
       "      <td>NaN</td>\n",
       "      <td>NaN</td>\n",
       "      <td>[1788046833, 4941278523, 4934296854]</td>\n",
       "      <td>NaN</td>\n",
       "      <td>NaN</td>\n",
       "      <td>yes</td>\n",
       "      <td>NaN</td>\n",
       "      <td>NaN</td>\n",
       "      <td>NaN</td>\n",
       "      <td>NaN</td>\n",
       "      <td>NaN</td>\n",
       "      <td>NaN</td>\n",
       "    </tr>\n",
       "    <tr>\n",
       "      <th>4</th>\n",
       "      <td>way</td>\n",
       "      <td>168937682</td>\n",
       "      <td>NaN</td>\n",
       "      <td>residential</td>\n",
       "      <td>LINESTRING (-37.27843 -7.02472, -37.27867 -7.0...</td>\n",
       "      <td>NaN</td>\n",
       "      <td>Rua Severino Martins</td>\n",
       "      <td>NaN</td>\n",
       "      <td>NaN</td>\n",
       "      <td>[1788036681, 1801176628]</td>\n",
       "      <td>NaN</td>\n",
       "      <td>NaN</td>\n",
       "      <td>yes</td>\n",
       "      <td>NaN</td>\n",
       "      <td>NaN</td>\n",
       "      <td>NaN</td>\n",
       "      <td>NaN</td>\n",
       "      <td>NaN</td>\n",
       "      <td>NaN</td>\n",
       "    </tr>\n",
       "  </tbody>\n",
       "</table>\n",
       "</div>"
      ],
      "text/plain": [
       "  element_type      osmid crossing      highway  \\\n",
       "0          way  167413238      NaN      primary   \n",
       "1          way  167413243      NaN  residential   \n",
       "2          way  167413521      NaN  residential   \n",
       "3          way  167413640      NaN  residential   \n",
       "4          way  168937682      NaN  residential   \n",
       "\n",
       "                                            geometry  bus  \\\n",
       "0  LINESTRING (-37.27849 -7.02330, -37.27847 -7.0...  NaN   \n",
       "1  LINESTRING (-37.27877 -7.02373, -37.27878 -7.0...  NaN   \n",
       "2  LINESTRING (-37.27879 -7.02392, -37.27878 -7.0...  NaN   \n",
       "3  LINESTRING (-37.27792 -7.02303, -37.27765 -7.0...  NaN   \n",
       "4  LINESTRING (-37.27843 -7.02472, -37.27867 -7.0...  NaN   \n",
       "\n",
       "                      name public_transport traffic_signals  \\\n",
       "0  Avenida Solon de Lucena              NaN             NaN   \n",
       "1    Rua Leôncio Wanderley              NaN             NaN   \n",
       "2    Rua Leôncio Wanderley              NaN             NaN   \n",
       "3      Rua Major Wanderley              NaN             NaN   \n",
       "4     Rua Severino Martins              NaN             NaN   \n",
       "\n",
       "                                               nodes lanes  lit oneway  \\\n",
       "0               [1788036718, 6184545542, 1788036714]     2  yes    yes   \n",
       "1  [1788036696, 7027617648, 7027617653, 702761765...   NaN  NaN    yes   \n",
       "2  [7027617655, 1788043903, 1788043906, 178804390...   NaN  NaN    yes   \n",
       "3               [1788046833, 4941278523, 4934296854]   NaN  NaN    yes   \n",
       "4                           [1788036681, 1801176628]   NaN  NaN    yes   \n",
       "\n",
       "      ref  surface bicycle maxspeed ways type  \n",
       "0  PB-110  asphalt     NaN      NaN  NaN  NaN  \n",
       "1     NaN      NaN     NaN      NaN  NaN  NaN  \n",
       "2     NaN      NaN     NaN      NaN  NaN  NaN  \n",
       "3     NaN      NaN     NaN      NaN  NaN  NaN  \n",
       "4     NaN      NaN     NaN      NaN  NaN  NaN  "
      ]
     },
     "execution_count": 71,
     "metadata": {},
     "output_type": "execute_result"
    }
   ],
   "source": [
    "proximos = proximos[proximos['name'].apply(is_street)]\n",
    "proximos = pd.DataFrame(proximos)\n",
    "proximos.reset_index(inplace=True)\n",
    "proximos.head()"
   ]
  },
  {
   "cell_type": "code",
   "execution_count": 72,
   "id": "9b58f4af-7051-4b6b-bc98-8fde5aad386d",
   "metadata": {},
   "outputs": [
    {
     "data": {
      "text/plain": [
       "(29, 19)"
      ]
     },
     "execution_count": 72,
     "metadata": {},
     "output_type": "execute_result"
    }
   ],
   "source": [
    "proximos.shape"
   ]
  },
  {
   "cell_type": "code",
   "execution_count": 81,
   "id": "84fc151f-0683-4dab-b71b-e0d5e6c98251",
   "metadata": {},
   "outputs": [],
   "source": [
    "# node.distance(linestring)\n",
    "posto_viola = Point( -7.02390, -37.27847)\n",
    "ruas_candidatas = {}"
   ]
  },
  {
   "cell_type": "code",
   "execution_count": 82,
   "id": "ef199847-6c93-4122-b2c8-ff47c56f49ca",
   "metadata": {},
   "outputs": [
    {
     "data": {
      "text/plain": [
       "{167413238: (<LINESTRING (-37.278 -7.023, -37.278 -7.023, -37.278 -7.024)>,\n",
       "  'Avenida Solon de Lucena'),\n",
       " 167413243: (<LINESTRING (-37.279 -7.024, -37.279 -7.024, -37.279 -7.024, -37.279 -7.024,...>,\n",
       "  'Rua Leôncio Wanderley'),\n",
       " 167413521: (<LINESTRING (-37.279 -7.024, -37.279 -7.024, -37.279 -7.024, -37.279 -7.024,...>,\n",
       "  'Rua Leôncio Wanderley'),\n",
       " 167413640: (<LINESTRING (-37.278 -7.023, -37.278 -7.024, -37.278 -7.024)>,\n",
       "  'Rua Major Wanderley'),\n",
       " 168937682: (<LINESTRING (-37.278 -7.025, -37.279 -7.025)>,\n",
       "  'Rua Severino Martins'),\n",
       " 168937689: (<LINESTRING (-37.278 -7.025, -37.278 -7.025, -37.278 -7.024)>,\n",
       "  'Rua Severino Martins'),\n",
       " 170143108: (<LINESTRING (-37.278 -7.023, -37.278 -7.023, -37.279 -7.023, -37.279 -7.023,...>,\n",
       "  'Rua Horácio Nóbrega'),\n",
       " 172870127: (<LINESTRING (-37.279 -7.023, -37.278 -7.023, -37.278 -7.023, -37.278 -7.023,...>,\n",
       "  'Rua Francisco Alves Queiroz'),\n",
       " 172870389: (<LINESTRING (-37.279 -7.023, -37.279 -7.023, -37.279 -7.024)>,\n",
       "  'Rua Costa Palmeira'),\n",
       " 172870392: (<LINESTRING (-37.279 -7.023, -37.279 -7.023, -37.28 -7.022)>,\n",
       "  'Rua Pedra Branca'),\n",
       " 192086074: (<LINESTRING (-37.279 -7.023, -37.279 -7.024, -37.279 -7.024, -37.28 -7.024)>,\n",
       "  'Rua Francisco Alves Queiroz'),\n",
       " 328967995: (<LINESTRING (-37.28 -7.022, -37.279 -7.022, -37.279 -7.022, -37.279 -7.022, ...>,\n",
       "  'Rua Horácio Nóbrega'),\n",
       " 452151832: (<LINESTRING (-37.28 -7.025, -37.28 -7.025, -37.28 -7.025, -37.279 -7.024, -3...>,\n",
       "  'Rua Beltrando de Azevedo'),\n",
       " 471112972: (<LINESTRING (-37.279 -7.024, -37.279 -7.024, -37.279 -7.024, -37.279 -7.024,...>,\n",
       "  'Rua Escritor Rui Barbosa'),\n",
       " 503085109: (<LINESTRING (-37.278 -7.025, -37.279 -7.025, -37.279 -7.024, -37.279 -7.024)>,\n",
       "  'Rua Escritor Rui Barbosa'),\n",
       " 503085111: (<LINESTRING (-37.278 -7.027, -37.278 -7.026, -37.278 -7.026, -37.278 -7.026,...>,\n",
       "  'Rua Escritor Rui Barbosa'),\n",
       " 503085114: (<LINESTRING (-37.279 -7.024, -37.279 -7.025)>,\n",
       "  'Rua Leôncio Wanderley'),\n",
       " 503086196: (<LINESTRING (-37.279 -7.025, -37.279 -7.025)>,\n",
       "  'Rua Leôncio Wanderley'),\n",
       " 503086197: (<LINESTRING (-37.278 -7.025, -37.278 -7.025)>,\n",
       "  'Rua Escritor Rui Barbosa'),\n",
       " 503558135: (<LINESTRING (-37.278 -7.024, -37.278 -7.024)>,\n",
       "  'Rua Escritor Rui Barbosa'),\n",
       " 503558136: (<LINESTRING (-37.278 -7.024, -37.278 -7.024, -37.278 -7.024, -37.278 -7.023,...>,\n",
       "  'Avenida Solon de Lucena'),\n",
       " 511172715: (<LINESTRING (-37.278 -7.025, -37.278 -7.025, -37.278 -7.025, -37.278 -7.024,...>,\n",
       "  'Avenida Solon de Lucena'),\n",
       " 511172719: (<LINESTRING (-37.278 -7.024, -37.278 -7.024, -37.278 -7.024, -37.278 -7.024,...>,\n",
       "  'Avenida Solon de Lucena'),\n",
       " 511172741: (<LINESTRING (-37.278 -7.023, -37.278 -7.023, -37.278 -7.023, -37.278 -7.023)>,\n",
       "  'Rua Frei Caneca'),\n",
       " 511172742: (<LINESTRING (-37.278 -7.023, -37.278 -7.023)>, 'Rua Frei Caneca'),\n",
       " 511857284: (<LINESTRING (-37.278 -7.023, -37.279 -7.023, -37.279 -7.024, -37.279 -7.024,...>,\n",
       "  'Rua Leôncio Wanderley'),\n",
       " 511857292: (<LINESTRING (-37.278 -7.023, -37.278 -7.023)>,\n",
       "  'Rua Leôncio Wanderley'),\n",
       " 511860919: (<LINESTRING (-37.278 -7.023, -37.278 -7.023, -37.278 -7.023, -37.278 -7.023)>,\n",
       "  'Avenida Solon de Lucena'),\n",
       " 1098696753: (<LINESTRING (-37.279 -7.024, -37.279 -7.024, -37.279 -7.024, -37.279 -7.024)>,\n",
       "  'Rua Leôncio Wanderley')}"
      ]
     },
     "execution_count": 82,
     "metadata": {},
     "output_type": "execute_result"
    }
   ],
   "source": [
    "for index, row in proximos.iterrows():\n",
    "    ruas_candidatas[row['osmid']] = (row['geometry'], row['name'])\n",
    "ruas_candidatas"
   ]
  },
  {
   "cell_type": "code",
   "execution_count": 83,
   "id": "b2d13757-b6a6-4c00-b36a-8664aed91f34",
   "metadata": {},
   "outputs": [],
   "source": [
    "distances = [(nome_rua, posto_viola.distance(linestring)) for linestring,nome_rua in ruas_candidatas.values()]"
   ]
  },
  {
   "cell_type": "code",
   "execution_count": 84,
   "id": "c8677e2c-8232-403b-b3d4-ab113c8acb75",
   "metadata": {},
   "outputs": [
    {
     "data": {
      "text/plain": [
       "[('Avenida Solon de Lucena', 42.78652815331677),\n",
       " ('Rua Leôncio Wanderley', 42.786268788158075),\n",
       " ('Rua Leôncio Wanderley', 42.786523910040394),\n",
       " ('Rua Major Wanderley', 42.78567856611484),\n",
       " ('Rua Severino Martins', 42.785813695217605),\n",
       " ('Rua Severino Martins', 42.785637834303884),\n",
       " ('Rua Horácio Nóbrega', 42.78694520769048),\n",
       " ('Rua Francisco Alves Queiroz', 42.786995853186646),\n",
       " ('Rua Costa Palmeira', 42.787236888550574),\n",
       " ('Rua Pedra Branca', 42.787267927563256),\n",
       " ('Rua Francisco Alves Queiroz', 42.787040524637284),\n",
       " ('Rua Horácio Nóbrega', 42.78686014100167),\n",
       " ('Rua Beltrando de Azevedo', 42.78667843841751),\n",
       " ('Rua Escritor Rui Barbosa', 42.786244250934914),\n",
       " ('Rua Escritor Rui Barbosa', 42.78592916527794),\n",
       " ('Rua Escritor Rui Barbosa', 42.7838864196153),\n",
       " ('Rua Leôncio Wanderley', 42.786060052727116),\n",
       " ('Rua Leôncio Wanderley', 42.7859041380982),\n",
       " ('Rua Escritor Rui Barbosa', 42.785813695217605),\n",
       " ('Rua Escritor Rui Barbosa', 42.78652815331677),\n",
       " ('Avenida Solon de Lucena', 42.78588963523273),\n",
       " ('Avenida Solon de Lucena', 42.784893251262076),\n",
       " ('Avenida Solon de Lucena', 42.78371620749222),\n",
       " ('Rua Frei Caneca', 42.786652473642796),\n",
       " ('Rua Frei Caneca', 42.78650144472298),\n",
       " ('Rua Leôncio Wanderley', 42.78675676012865),\n",
       " ('Rua Leôncio Wanderley', 42.78684564650516),\n",
       " ('Avenida Solon de Lucena', 42.78684564650516),\n",
       " ('Rua Leôncio Wanderley', 42.78663959311427)]"
      ]
     },
     "execution_count": 84,
     "metadata": {},
     "output_type": "execute_result"
    }
   ],
   "source": [
    "distances"
   ]
  },
  {
   "cell_type": "code",
   "execution_count": 85,
   "id": "c23cecab-b2fd-4f3b-ba27-7cc8d504746a",
   "metadata": {},
   "outputs": [
    {
     "data": {
      "text/plain": [
       "('Avenida Solon de Lucena', 42.78371620749222)"
      ]
     },
     "execution_count": 85,
     "metadata": {},
     "output_type": "execute_result"
    }
   ],
   "source": [
    "min(distances, key = lambda e:e[1])"
   ]
  },
  {
   "cell_type": "code",
   "execution_count": 88,
   "id": "2752cae3-3b60-4d5a-8f47-080e24ec6c31",
   "metadata": {},
   "outputs": [],
   "source": [
    "santander_patos = Point(-7.02915, -37.27588)"
   ]
  },
  {
   "cell_type": "code",
   "execution_count": 89,
   "id": "f0034c16-cf38-4a09-aaaa-02f01eae1d80",
   "metadata": {},
   "outputs": [
    {
     "data": {
      "text/html": [
       "<div>\n",
       "<style scoped>\n",
       "    .dataframe tbody tr th:only-of-type {\n",
       "        vertical-align: middle;\n",
       "    }\n",
       "\n",
       "    .dataframe tbody tr th {\n",
       "        vertical-align: top;\n",
       "    }\n",
       "\n",
       "    .dataframe thead th {\n",
       "        text-align: right;\n",
       "    }\n",
       "</style>\n",
       "<table border=\"1\" class=\"dataframe\">\n",
       "  <thead>\n",
       "    <tr style=\"text-align: right;\">\n",
       "      <th></th>\n",
       "      <th>element_type</th>\n",
       "      <th>osmid</th>\n",
       "      <th>highway</th>\n",
       "      <th>geometry</th>\n",
       "      <th>crossing</th>\n",
       "      <th>bus</th>\n",
       "      <th>name</th>\n",
       "      <th>public_transport</th>\n",
       "      <th>source</th>\n",
       "      <th>nodes</th>\n",
       "      <th>lanes</th>\n",
       "      <th>lit</th>\n",
       "      <th>oneway</th>\n",
       "      <th>ref</th>\n",
       "      <th>surface</th>\n",
       "      <th>motor_vehicle</th>\n",
       "      <th>indoor</th>\n",
       "    </tr>\n",
       "  </thead>\n",
       "  <tbody>\n",
       "    <tr>\n",
       "      <th>0</th>\n",
       "      <td>way</td>\n",
       "      <td>166550375</td>\n",
       "      <td>primary</td>\n",
       "      <td>LINESTRING (-37.27592 -7.02952, -37.27594 -7.0...</td>\n",
       "      <td>NaN</td>\n",
       "      <td>NaN</td>\n",
       "      <td>Avenida Solon de Lucena</td>\n",
       "      <td>NaN</td>\n",
       "      <td>NaN</td>\n",
       "      <td>[1823046849, 1788036680, 4941352450, 178803672...</td>\n",
       "      <td>2</td>\n",
       "      <td>yes</td>\n",
       "      <td>yes</td>\n",
       "      <td>PB-110</td>\n",
       "      <td>asphalt</td>\n",
       "      <td>NaN</td>\n",
       "      <td>NaN</td>\n",
       "    </tr>\n",
       "    <tr>\n",
       "      <th>1</th>\n",
       "      <td>way</td>\n",
       "      <td>167413242</td>\n",
       "      <td>residential</td>\n",
       "      <td>LINESTRING (-37.27652 -7.02927, -37.27662 -7.0...</td>\n",
       "      <td>NaN</td>\n",
       "      <td>NaN</td>\n",
       "      <td>Rua Escritor Rui Barbosa</td>\n",
       "      <td>NaN</td>\n",
       "      <td>NaN</td>\n",
       "      <td>[7027842163, 1788036679, 4837726391, 245820958...</td>\n",
       "      <td>NaN</td>\n",
       "      <td>NaN</td>\n",
       "      <td>yes</td>\n",
       "      <td>NaN</td>\n",
       "      <td>NaN</td>\n",
       "      <td>NaN</td>\n",
       "      <td>NaN</td>\n",
       "    </tr>\n",
       "    <tr>\n",
       "      <th>2</th>\n",
       "      <td>way</td>\n",
       "      <td>171239512</td>\n",
       "      <td>residential</td>\n",
       "      <td>LINESTRING (-37.27603 -7.02900, -37.27550 -7.0...</td>\n",
       "      <td>NaN</td>\n",
       "      <td>NaN</td>\n",
       "      <td>Rua Tiradentes</td>\n",
       "      <td>NaN</td>\n",
       "      <td>NaN</td>\n",
       "      <td>[2514087764, 1823033261]</td>\n",
       "      <td>NaN</td>\n",
       "      <td>NaN</td>\n",
       "      <td>yes</td>\n",
       "      <td>NaN</td>\n",
       "      <td>NaN</td>\n",
       "      <td>NaN</td>\n",
       "      <td>NaN</td>\n",
       "    </tr>\n",
       "    <tr>\n",
       "      <th>3</th>\n",
       "      <td>way</td>\n",
       "      <td>171239514</td>\n",
       "      <td>residential</td>\n",
       "      <td>LINESTRING (-37.27539 -7.02921, -37.27594 -7.0...</td>\n",
       "      <td>NaN</td>\n",
       "      <td>NaN</td>\n",
       "      <td>Rua Coronel Miguel Sátyro</td>\n",
       "      <td>NaN</td>\n",
       "      <td>NaN</td>\n",
       "      <td>[1823033222, 1788036680]</td>\n",
       "      <td>1</td>\n",
       "      <td>NaN</td>\n",
       "      <td>yes</td>\n",
       "      <td>NaN</td>\n",
       "      <td>NaN</td>\n",
       "      <td>NaN</td>\n",
       "      <td>NaN</td>\n",
       "    </tr>\n",
       "    <tr>\n",
       "      <th>4</th>\n",
       "      <td>way</td>\n",
       "      <td>171239521</td>\n",
       "      <td>residential</td>\n",
       "      <td>LINESTRING (-37.27550 -7.02885, -37.27480 -7.0...</td>\n",
       "      <td>NaN</td>\n",
       "      <td>NaN</td>\n",
       "      <td>Rua Tiradentes</td>\n",
       "      <td>NaN</td>\n",
       "      <td>NaN</td>\n",
       "      <td>[1823033261, 1823033240, 1816445075]</td>\n",
       "      <td>NaN</td>\n",
       "      <td>NaN</td>\n",
       "      <td>yes</td>\n",
       "      <td>NaN</td>\n",
       "      <td>NaN</td>\n",
       "      <td>NaN</td>\n",
       "      <td>NaN</td>\n",
       "    </tr>\n",
       "  </tbody>\n",
       "</table>\n",
       "</div>"
      ],
      "text/plain": [
       "  element_type      osmid      highway  \\\n",
       "0          way  166550375      primary   \n",
       "1          way  167413242  residential   \n",
       "2          way  171239512  residential   \n",
       "3          way  171239514  residential   \n",
       "4          way  171239521  residential   \n",
       "\n",
       "                                            geometry crossing  bus  \\\n",
       "0  LINESTRING (-37.27592 -7.02952, -37.27594 -7.0...      NaN  NaN   \n",
       "1  LINESTRING (-37.27652 -7.02927, -37.27662 -7.0...      NaN  NaN   \n",
       "2  LINESTRING (-37.27603 -7.02900, -37.27550 -7.0...      NaN  NaN   \n",
       "3  LINESTRING (-37.27539 -7.02921, -37.27594 -7.0...      NaN  NaN   \n",
       "4  LINESTRING (-37.27550 -7.02885, -37.27480 -7.0...      NaN  NaN   \n",
       "\n",
       "                        name public_transport source  \\\n",
       "0    Avenida Solon de Lucena              NaN    NaN   \n",
       "1   Rua Escritor Rui Barbosa              NaN    NaN   \n",
       "2             Rua Tiradentes              NaN    NaN   \n",
       "3  Rua Coronel Miguel Sátyro              NaN    NaN   \n",
       "4             Rua Tiradentes              NaN    NaN   \n",
       "\n",
       "                                               nodes lanes  lit oneway  \\\n",
       "0  [1823046849, 1788036680, 4941352450, 178803672...     2  yes    yes   \n",
       "1  [7027842163, 1788036679, 4837726391, 245820958...   NaN  NaN    yes   \n",
       "2                           [2514087764, 1823033261]   NaN  NaN    yes   \n",
       "3                           [1823033222, 1788036680]     1  NaN    yes   \n",
       "4               [1823033261, 1823033240, 1816445075]   NaN  NaN    yes   \n",
       "\n",
       "      ref  surface motor_vehicle indoor  \n",
       "0  PB-110  asphalt           NaN    NaN  \n",
       "1     NaN      NaN           NaN    NaN  \n",
       "2     NaN      NaN           NaN    NaN  \n",
       "3     NaN      NaN           NaN    NaN  \n",
       "4     NaN      NaN           NaN    NaN  "
      ]
     },
     "execution_count": 89,
     "metadata": {},
     "output_type": "execute_result"
    }
   ],
   "source": [
    "proximos = ox.geometries.geometries_from_point((-7.02915, -37.27588), tags={'highway':True}, dist=100)\n",
    "proximos = proximos[proximos['name'].apply(is_street)]\n",
    "proximos = pd.DataFrame(proximos)\n",
    "proximos.reset_index(inplace=True)\n",
    "proximos.head()"
   ]
  },
  {
   "cell_type": "code",
   "execution_count": 91,
   "id": "2e55764d-23f8-4f49-b9ba-cff5489c1cc8",
   "metadata": {},
   "outputs": [],
   "source": [
    "ruas_candidatas = {}\n",
    "for index, row in proximos.iterrows():\n",
    "    ruas_candidatas[row['osmid']] = (row['geometry'], row['name'])"
   ]
  },
  {
   "cell_type": "code",
   "execution_count": 92,
   "id": "00361e03-6602-49a0-a9dd-d4e6f6489bf8",
   "metadata": {},
   "outputs": [
    {
     "data": {
      "text/plain": [
       "('Rua Cônego Bernardo', 42.77881102759611)"
      ]
     },
     "execution_count": 92,
     "metadata": {},
     "output_type": "execute_result"
    }
   ],
   "source": [
    "distances = [(nome_rua, posto_viola.distance(linestring)) for linestring,nome_rua in ruas_candidatas.values()]\n",
    "min(distances, key = lambda e:e[1])"
   ]
  },
  {
   "cell_type": "code",
   "execution_count": 93,
   "id": "582e04a2-39d9-498a-9916-e1056c6e65ca",
   "metadata": {},
   "outputs": [
    {
     "data": {
      "text/plain": [
       "[('Avenida Solon de Lucena', 42.78064380607697),\n",
       " ('Rua Escritor Rui Barbosa', 42.781244223770955),\n",
       " ('Rua Tiradentes', 42.78082592478969),\n",
       " ('Rua Coronel Miguel Sátyro', 42.780490055080584),\n",
       " ('Rua Tiradentes', 42.780460828831735),\n",
       " ('Rua Cônego Bernardo', 42.77881102759611),\n",
       " ('Rua Marechal Deodoro da Fonseca', 42.77911725066059),\n",
       " ('Rua Capitão Lo', 42.78002614627133),\n",
       " ('Avenida Solon de Lucena', 42.78002614627133),\n",
       " ('Avenida Solon de Lucena', 42.778840813388626),\n",
       " ('Rua Roldão Meira', 42.780490055080584),\n",
       " ('Travessa Zeca Vilar', 42.78091988374103),\n",
       " ('Rua Felizardo Leite', 42.781211628041945),\n",
       " ('Rua Escritor Rui Barbosa', 42.780542742480584),\n",
       " ('Rua Cândido Mota', 42.780143834873215),\n",
       " ('Travessa Pedro Caetano', 42.78033304700017),\n",
       " ('Rua Felizardo Leite', 42.78111404169177),\n",
       " ('Rua Felizardo Leite', 42.78096122545089),\n",
       " ('Avenida Solon de Lucena', 42.780983567684544),\n",
       " ('Rua Coronel Miguel Sátyro', 42.780081962416574),\n",
       " ('Rua Escritor Rui Barbosa', 42.781211628041945),\n",
       " ('Rua Escritor Rui Barbosa', 42.78119260567252),\n",
       " ('Rua Escritor Rui Barbosa', 42.78050080764142)]"
      ]
     },
     "execution_count": 93,
     "metadata": {},
     "output_type": "execute_result"
    }
   ],
   "source": [
    "distances"
   ]
  },
  {
   "cell_type": "code",
   "execution_count": 111,
   "id": "b87c073e-0a10-4fdd-a3e8-8dc34f8ddf70",
   "metadata": {},
   "outputs": [
    {
     "data": {
      "text/plain": [
       "('Rua Horácio Nóbrega', 42.78686014100167)"
      ]
     },
     "execution_count": 111,
     "metadata": {},
     "output_type": "execute_result"
    }
   ],
   "source": [
    "santander_patos2 = Point(-7.02079, -37.27959)\n",
    "proximos = ox.geometries.geometries_from_point((-7.02079, -37.27959), tags={'highway':True}, dist=100)\n",
    "proximos = proximos[proximos['name'].apply(is_street)]\n",
    "proximos = pd.DataFrame(proximos)\n",
    "proximos.reset_index(inplace=True)\n",
    "proximos.head()\n",
    "ruas_candidatas = {}\n",
    "for index, row in proximos.iterrows():\n",
    "    ruas_candidatas[row['osmid']] = (row['geometry'], row['name'])\n",
    "distances = [(nome_rua, posto_viola.distance(linestring)) for linestring,nome_rua in ruas_candidatas.values()]\n",
    "min(distances, key = lambda e:e[1])"
   ]
  },
  {
   "cell_type": "code",
   "execution_count": 180,
   "id": "edab1cdf-3ac9-46a4-827d-174544dc4a7b",
   "metadata": {},
   "outputs": [],
   "source": [
    "def obter_rua(place):\n",
    "    # imports\n",
    "    import osmnx as ox\n",
    "    import pandas as pd\n",
    "    from shapely.geometry import Point, LineString\n",
    "    \n",
    "    if type(place)==tuple:\n",
    "        long, lat = place\n",
    "    elif str(type(place))==\"<class 'shapely.geometry.point.Point'>\":\n",
    "        long, lat = place.coords[0]\n",
    "    elif str(type(place))==\"<class 'shapely.geometry.polygon.Polygon'>\":\n",
    "        place = place.centroid\n",
    "        long, lat = place.coords[0]\n",
    "    #print(lat,long)\n",
    "    proximos = ox.geometries.geometries_from_point((lat, long), tags={'highway':True}, dist=100)\n",
    "    #print(lat,long)\n",
    "    #print(proximos.head(2))\n",
    "    proximos = proximos[proximos['name'].apply(is_street)]\n",
    "    proximos = pd.DataFrame(proximos)\n",
    "    proximos.reset_index(inplace=True)\n",
    "    ruas_candidatas = {}\n",
    "    for index, row in proximos.iterrows():\n",
    "        ruas_candidatas[row['osmid']] = (row['geometry'], row['name'])\n",
    "    ponto = Point(long, lat)\n",
    "    distances = [(osmid_rua, ruas_candidatas[osmid_rua][1], ponto.distance(ruas_candidatas[osmid_rua][0])) for osmid_rua in ruas_candidatas ]\n",
    "    rua_selecionada = min(distances, key = lambda e:e[2])\n",
    "    #print(distances)\n",
    "    return {'osmid_rua': rua_selecionada[0],\n",
    "            'nome_rua': rua_selecionada[1],\n",
    "            'distancia': rua_selecionada[2]}"
   ]
  },
  {
   "cell_type": "code",
   "execution_count": 181,
   "id": "06a19e66-0c99-4bcb-a767-92d331e812dd",
   "metadata": {},
   "outputs": [
    {
     "data": {
      "text/plain": [
       "{'osmid_rua': 166550375,\n",
       " 'nome_rua': 'Avenida Solon de Lucena',\n",
       " 'distancia': 0.0001056659719623498}"
      ]
     },
     "execution_count": 181,
     "metadata": {},
     "output_type": "execute_result"
    }
   ],
   "source": [
    "obter_rua(Point(-37.27588, -7.02915)) # banco santander"
   ]
  },
  {
   "cell_type": "code",
   "execution_count": 182,
   "id": "05c2a36f-c0cf-496a-86a4-9003973890e2",
   "metadata": {},
   "outputs": [
    {
     "data": {
      "text/plain": [
       "{'osmid_rua': 453768025,\n",
       " 'nome_rua': 'Rua Deca Simplício',\n",
       " 'distancia': 0.00014759160893555476}"
      ]
     },
     "execution_count": 182,
     "metadata": {},
     "output_type": "execute_result"
    }
   ],
   "source": [
    "obter_rua(polygon_paroquia_nossa_senhora_das_neves)"
   ]
  },
  {
   "cell_type": "code",
   "execution_count": 122,
   "id": "2adf47b3-aa0d-4ff1-9831-c09901df99a0",
   "metadata": {},
   "outputs": [
    {
     "name": "stdout",
     "output_type": "stream",
     "text": [
      "POINT (0.5 0.5)\n"
     ]
    }
   ],
   "source": [
    "# sample code\n",
    "P = Polygon([[0, 0], [1, 0], [1, 1], [0, 1]])\n",
    "\n",
    "print(P.centroid)\n",
    "#POINT (0.5 0.5)"
   ]
  },
  {
   "cell_type": "code",
   "execution_count": null,
   "id": "a1ffa3eb-7f0d-4257-956b-9374d9daf7e3",
   "metadata": {},
   "outputs": [],
   "source": []
  }
 ],
 "metadata": {
  "kernelspec": {
   "display_name": "Python 3 (ipykernel)",
   "language": "python",
   "name": "python3"
  },
  "language_info": {
   "codemirror_mode": {
    "name": "ipython",
    "version": 3
   },
   "file_extension": ".py",
   "mimetype": "text/x-python",
   "name": "python",
   "nbconvert_exporter": "python",
   "pygments_lexer": "ipython3",
   "version": "3.9.5"
  }
 },
 "nbformat": 4,
 "nbformat_minor": 5
}
