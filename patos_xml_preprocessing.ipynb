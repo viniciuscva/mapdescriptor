{
 "cells": [
  {
   "cell_type": "code",
   "execution_count": 2,
   "id": "f8878532-7beb-46f3-8753-fcb6d66d709b",
   "metadata": {},
   "outputs": [],
   "source": [
    "from xml.dom import minidom\n",
    "import os"
   ]
  },
  {
   "cell_type": "code",
   "execution_count": 3,
   "id": "797a3fca-44bd-4d7a-a256-149795bd9965",
   "metadata": {},
   "outputs": [
    {
     "data": {
      "text/plain": [
       "'/home/carlos/Documents/mapdescriptor'"
      ]
     },
     "execution_count": 3,
     "metadata": {},
     "output_type": "execute_result"
    }
   ],
   "source": [
    "os.getcwd()"
   ]
  },
  {
   "cell_type": "code",
   "execution_count": 17,
   "id": "f32c1f3d-9a2e-4cd1-8d85-8746f3e0716a",
   "metadata": {},
   "outputs": [],
   "source": [
    "file = minidom.parse('patos.xml')"
   ]
  },
  {
   "cell_type": "code",
   "execution_count": 18,
   "id": "e33cd04b-0bb4-42ac-a94d-a472542d20c1",
   "metadata": {},
   "outputs": [],
   "source": [
    "nodes = file.getElementsByTagName('node')"
   ]
  },
  {
   "cell_type": "code",
   "execution_count": 19,
   "id": "ff96c10c-3b41-469a-886f-cc9d7c1123a8",
   "metadata": {},
   "outputs": [],
   "source": [
    "#nodes = [node for node in nodes if node.attributes.get('name')!=None]"
   ]
  },
  {
   "cell_type": "code",
   "execution_count": 63,
   "id": "5280dc5d-f9fb-4d37-a2fe-bf13e9d4a79f",
   "metadata": {},
   "outputs": [],
   "source": [
    "def get_name(node):\n",
    "    children = list(filter( lambda e: str(type(e))==\"<class 'xml.dom.minidom.Element'>\", node.childNodes))\n",
    "    for element in children:\n",
    "        if element.getAttribute('k')=='name':\n",
    "            return element.getAttribute('v')\n",
    "    return ''\n",
    "\n",
    "def is_poi(node):\n",
    "    children = list(filter( lambda e: str(type(e))==\"<class 'xml.dom.minidom.Element'>\", node.childNodes))\n",
    "    for element in children:\n",
    "        if element.getAttribute('k')=='shop' or element.getAttribute('k')=='amenity':\n",
    "            return True\n",
    "    return False"
   ]
  },
  {
   "cell_type": "code",
   "execution_count": 69,
   "id": "63739470-0703-4df6-af5c-d33f29481beb",
   "metadata": {},
   "outputs": [
    {
     "data": {
      "text/plain": [
       "['Posto Viola',\n",
       " 'Moto táxi Praça dos Pombos',\n",
       " 'Táxi Rodoviária Velha',\n",
       " 'Táxi Fórum Miguel Sátiro',\n",
       " 'Bar do Rock']"
      ]
     },
     "execution_count": 69,
     "metadata": {},
     "output_type": "execute_result"
    }
   ],
   "source": [
    "pois = [node for node in nodes if get_name(node)!='' and is_poi(node)]\n",
    "list(map(get_name, pois))[:5]"
   ]
  },
  {
   "cell_type": "code",
   "execution_count": 72,
   "id": "b7629eaa-7db4-46b6-8920-1d1aad95088e",
   "metadata": {},
   "outputs": [
    {
     "data": {
      "text/plain": [
       "['ATTRIBUTE_NODE',\n",
       " 'CDATA_SECTION_NODE',\n",
       " 'COMMENT_NODE',\n",
       " 'DOCUMENT_FRAGMENT_NODE',\n",
       " 'DOCUMENT_NODE',\n",
       " 'DOCUMENT_TYPE_NODE',\n",
       " 'ELEMENT_NODE',\n",
       " 'ENTITY_NODE',\n",
       " 'ENTITY_REFERENCE_NODE',\n",
       " 'NOTATION_NODE',\n",
       " 'PROCESSING_INSTRUCTION_NODE',\n",
       " 'TEXT_NODE',\n",
       " '__bool__',\n",
       " '__class__',\n",
       " '__delattr__',\n",
       " '__dict__',\n",
       " '__dir__',\n",
       " '__doc__',\n",
       " '__enter__',\n",
       " '__eq__',\n",
       " '__exit__',\n",
       " '__format__',\n",
       " '__ge__',\n",
       " '__getattribute__',\n",
       " '__gt__',\n",
       " '__hash__',\n",
       " '__init__',\n",
       " '__init_subclass__',\n",
       " '__le__',\n",
       " '__lt__',\n",
       " '__module__',\n",
       " '__ne__',\n",
       " '__new__',\n",
       " '__reduce__',\n",
       " '__reduce_ex__',\n",
       " '__repr__',\n",
       " '__setattr__',\n",
       " '__sizeof__',\n",
       " '__slots__',\n",
       " '__str__',\n",
       " '__subclasshook__',\n",
       " '__weakref__',\n",
       " '_attrs',\n",
       " '_attrsNS',\n",
       " '_call_user_data_handler',\n",
       " '_child_node_types',\n",
       " '_ensure_attributes',\n",
       " '_get_attributes',\n",
       " '_get_childNodes',\n",
       " '_get_firstChild',\n",
       " '_get_lastChild',\n",
       " '_get_localName',\n",
       " '_get_tagName',\n",
       " '_localName',\n",
       " '_magic_id_nodes',\n",
       " 'appendChild',\n",
       " 'attributes',\n",
       " 'childNodes',\n",
       " 'cloneNode',\n",
       " 'firstChild',\n",
       " 'getAttribute',\n",
       " 'getAttributeNS',\n",
       " 'getAttributeNode',\n",
       " 'getAttributeNodeNS',\n",
       " 'getElementsByTagName',\n",
       " 'getElementsByTagNameNS',\n",
       " 'getInterface',\n",
       " 'getUserData',\n",
       " 'hasAttribute',\n",
       " 'hasAttributeNS',\n",
       " 'hasAttributes',\n",
       " 'hasChildNodes',\n",
       " 'insertBefore',\n",
       " 'isSameNode',\n",
       " 'isSupported',\n",
       " 'lastChild',\n",
       " 'localName',\n",
       " 'namespaceURI',\n",
       " 'nextSibling',\n",
       " 'nodeName',\n",
       " 'nodeType',\n",
       " 'nodeValue',\n",
       " 'normalize',\n",
       " 'ownerDocument',\n",
       " 'parentNode',\n",
       " 'prefix',\n",
       " 'previousSibling',\n",
       " 'removeAttribute',\n",
       " 'removeAttributeNS',\n",
       " 'removeAttributeNode',\n",
       " 'removeAttributeNodeNS',\n",
       " 'removeChild',\n",
       " 'replaceChild',\n",
       " 'schemaType',\n",
       " 'setAttribute',\n",
       " 'setAttributeNS',\n",
       " 'setAttributeNode',\n",
       " 'setAttributeNodeNS',\n",
       " 'setIdAttribute',\n",
       " 'setIdAttributeNS',\n",
       " 'setIdAttributeNode',\n",
       " 'setUserData',\n",
       " 'tagName',\n",
       " 'toprettyxml',\n",
       " 'toxml',\n",
       " 'unlink',\n",
       " 'writexml']"
      ]
     },
     "execution_count": 72,
     "metadata": {},
     "output_type": "execute_result"
    }
   ],
   "source": [
    "dir(pois[0])"
   ]
  },
  {
   "cell_type": "code",
   "execution_count": 75,
   "id": "41ece5c3-cc80-4c88-a1de-5cb64aa1dd83",
   "metadata": {},
   "outputs": [
    {
     "data": {
      "text/plain": [
       "'<node id=\"1798496605\" lat=\"-7.0238981\" lon=\"-37.2784725\" version=\"1\" timestamp=\"2012-06-22T17:23:07Z\" changeset=\"11981582\" uid=\"367813\" user=\"UsuárioPar\">\\n    <tag k=\"amenity\" v=\"fuel\"/>\\n    <tag k=\"name\" v=\"Posto Viola\"/>\\n  </node>'"
      ]
     },
     "execution_count": 75,
     "metadata": {},
     "output_type": "execute_result"
    }
   ],
   "source": [
    "pois[0].toxml()"
   ]
  },
  {
   "cell_type": "code",
   "execution_count": 81,
   "id": "04bf7d46-a3ae-4f19-b4e1-b469933bef95",
   "metadata": {},
   "outputs": [],
   "source": [
    "patos_pois_xml = \"\"\"<?xml version=\"1.0\" encoding=\"UTF-8\"?>\n",
    "<osm version=\"0.6\" generator=\"Overpass API 0.7.59 e21c39fe\">\n",
    "<note>The data included in this document is from www.openstreetmap.org. The data is made available under ODbL.</note>\n",
    "<meta osm_base=\"2023-02-15T17:49:19Z\"/>\n",
    "\n",
    "  <bounds minlat=\"-7.0882000\" minlon=\"-37.3303000\" maxlat=\"-6.9875000\" maxlon=\"-37.2215000\"/>\n",
    "\"\"\"\n",
    "\n",
    "for poi in pois:\n",
    "    patos_pois_xml += poi.toxml()+\"\\n\"\n",
    "\n",
    "patos_pois_xml += \"</osm>\""
   ]
  },
  {
   "cell_type": "code",
   "execution_count": 86,
   "id": "9c2e17c1-e1bc-4e02-bff1-ac589a933c1e",
   "metadata": {},
   "outputs": [
    {
     "name": "stdout",
     "output_type": "stream",
     "text": [
      "<?xml version=\"1.0\" encoding=\"UTF-8\"?>\n",
      "<osm version=\"0.6\" generator=\"Overpass API 0.7.59 e21c39fe\">\n",
      "<note>The data included in this document is from www.openstreetmap.org. The data is made available under ODbL.</note>\n",
      "<meta osm_base=\"2023-02-15T17:49:19Z\"/>\n",
      "\n",
      "  <bounds minlat=\"-7.0882000\" minlon=\"-37.3303000\" maxlat=\"-6.9875000\" maxlon=\"-37.2215000\"/>\n",
      "<node id=\"1798496605\" lat=\"-7.0238981\" lon=\"-37.2784725\" version=\"1\" timestamp=\"2012-06-22T17:23:07Z\" changeset=\"11981582\" uid=\"367813\" user=\"UsuárioPar\">\n",
      "    <tag k=\"amenity\" v=\"fuel\"/>\n",
      "    <tag k=\"name\" v=\"Posto Viola\"/>\n",
      "  </node>\n",
      "<node id=\"1798496642\" lat=\"-7.0236054\" lon=\"-37.2784295\" version=\"1\" timestamp=\"2012-06-22T17:23:08Z\" changeset=\"11981582\" uid=\"367813\" user=\"UsuárioPar\">\n",
      "    <tag k=\"amenity\" v=\"taxi\"/>\n",
      "    <tag k=\"name\" v=\"Moto táxi Praça dos Pombos\"/>\n",
      "  </node>\n",
      "<node id=\"1798525769\" lat=\"-7.0226495\" lon=\"-37.2773487\" version=\"2\" timestamp=\"2019-12-31T18:27:42Z\" changeset=\"79065936\" uid=\"367813\" user=\"UsuárioPar\">\n",
      "    <tag k=\n"
     ]
    }
   ],
   "source": [
    "print(patos_pois_xml[:1000])"
   ]
  },
  {
   "cell_type": "code",
   "execution_count": 87,
   "id": "7aaf260a-d3d0-4b23-a95f-98ea7bd220fe",
   "metadata": {},
   "outputs": [],
   "source": [
    "with open('patos_pois_xml.xml', 'w') as f:\n",
    "    f.write(patos_pois_xml)"
   ]
  },
  {
   "cell_type": "code",
   "execution_count": null,
   "id": "d551cc5b-c785-4952-b3d4-01adbad30333",
   "metadata": {},
   "outputs": [],
   "source": []
  }
 ],
 "metadata": {
  "kernelspec": {
   "display_name": "Python 3 (ipykernel)",
   "language": "python",
   "name": "python3"
  },
  "language_info": {
   "codemirror_mode": {
    "name": "ipython",
    "version": 3
   },
   "file_extension": ".py",
   "mimetype": "text/x-python",
   "name": "python",
   "nbconvert_exporter": "python",
   "pygments_lexer": "ipython3",
   "version": "3.8.10"
  }
 },
 "nbformat": 4,
 "nbformat_minor": 5
}
