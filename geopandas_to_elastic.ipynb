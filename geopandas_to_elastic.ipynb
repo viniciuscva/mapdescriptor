{
 "cells": [
  {
   "cell_type": "code",
   "execution_count": 25,
   "id": "339669e1-729a-44cb-873d-bb58c0125ce5",
   "metadata": {},
   "outputs": [],
   "source": [
    "import pandas as pd\n",
    "import numpy as np\n",
    "import osmnx as ox\n",
    "pd.set_option('display.max_columns', 500)"
   ]
  },
  {
   "cell_type": "code",
   "execution_count": 26,
   "id": "d5911231-3841-4cf8-8908-df7f175a9e69",
   "metadata": {},
   "outputs": [
    {
     "data": {
      "text/html": [
       "<div>\n",
       "<style scoped>\n",
       "    .dataframe tbody tr th:only-of-type {\n",
       "        vertical-align: middle;\n",
       "    }\n",
       "\n",
       "    .dataframe tbody tr th {\n",
       "        vertical-align: top;\n",
       "    }\n",
       "\n",
       "    .dataframe thead th {\n",
       "        text-align: right;\n",
       "    }\n",
       "</style>\n",
       "<table border=\"1\" class=\"dataframe\">\n",
       "  <thead>\n",
       "    <tr style=\"text-align: right;\">\n",
       "      <th></th>\n",
       "      <th></th>\n",
       "      <th>amenity</th>\n",
       "      <th>name</th>\n",
       "      <th>geometry</th>\n",
       "      <th>opening_hours</th>\n",
       "    </tr>\n",
       "    <tr>\n",
       "      <th>element_type</th>\n",
       "      <th>osmid</th>\n",
       "      <th></th>\n",
       "      <th></th>\n",
       "      <th></th>\n",
       "      <th></th>\n",
       "    </tr>\n",
       "  </thead>\n",
       "  <tbody>\n",
       "    <tr>\n",
       "      <th rowspan=\"5\" valign=\"top\">node</th>\n",
       "      <th>1798496605</th>\n",
       "      <td>fuel</td>\n",
       "      <td>Posto Viola</td>\n",
       "      <td>POINT (-37.27847 -7.02390)</td>\n",
       "      <td>NaN</td>\n",
       "    </tr>\n",
       "    <tr>\n",
       "      <th>1798496642</th>\n",
       "      <td>taxi</td>\n",
       "      <td>Moto táxi Praça dos Pombos</td>\n",
       "      <td>POINT (-37.27843 -7.02361)</td>\n",
       "      <td>NaN</td>\n",
       "    </tr>\n",
       "    <tr>\n",
       "      <th>1798525769</th>\n",
       "      <td>taxi</td>\n",
       "      <td>Táxi Rodoviária Velha</td>\n",
       "      <td>POINT (-37.27735 -7.02265)</td>\n",
       "      <td>NaN</td>\n",
       "    </tr>\n",
       "    <tr>\n",
       "      <th>1798525772</th>\n",
       "      <td>taxi</td>\n",
       "      <td>Táxi Fórum Miguel Sátiro</td>\n",
       "      <td>POINT (-37.27702 -7.02601)</td>\n",
       "      <td>NaN</td>\n",
       "    </tr>\n",
       "    <tr>\n",
       "      <th>1798919196</th>\n",
       "      <td>bar</td>\n",
       "      <td>Bar do Rock</td>\n",
       "      <td>POINT (-37.27702 -7.02204)</td>\n",
       "      <td>We-Su 19:00-02:00+; week 25-26 18:00-04:00</td>\n",
       "    </tr>\n",
       "  </tbody>\n",
       "</table>\n",
       "</div>"
      ],
      "text/plain": [
       "                        amenity                        name  \\\n",
       "element_type osmid                                            \n",
       "node         1798496605    fuel                 Posto Viola   \n",
       "             1798496642    taxi  Moto táxi Praça dos Pombos   \n",
       "             1798525769    taxi       Táxi Rodoviária Velha   \n",
       "             1798525772    taxi    Táxi Fórum Miguel Sátiro   \n",
       "             1798919196     bar                 Bar do Rock   \n",
       "\n",
       "                                           geometry  \\\n",
       "element_type osmid                                    \n",
       "node         1798496605  POINT (-37.27847 -7.02390)   \n",
       "             1798496642  POINT (-37.27843 -7.02361)   \n",
       "             1798525769  POINT (-37.27735 -7.02265)   \n",
       "             1798525772  POINT (-37.27702 -7.02601)   \n",
       "             1798919196  POINT (-37.27702 -7.02204)   \n",
       "\n",
       "                                                      opening_hours  \n",
       "element_type osmid                                                   \n",
       "node         1798496605                                         NaN  \n",
       "             1798496642                                         NaN  \n",
       "             1798525769                                         NaN  \n",
       "             1798525772                                         NaN  \n",
       "             1798919196  We-Su 19:00-02:00+; week 25-26 18:00-04:00  "
      ]
     },
     "execution_count": 26,
     "metadata": {},
     "output_type": "execute_result"
    }
   ],
   "source": [
    "north = -6.9875\n",
    "west = -37.3303\n",
    "south = -7.0882\n",
    "east = -37.2215\n",
    "pois = ox.geometries.geometries_from_bbox(north, south, east, west, tags={'amenity':True})\n",
    "pois = pois[['amenity', 'name', 'geometry', 'opening_hours']]\n",
    "pois.head()"
   ]
  },
  {
   "cell_type": "code",
   "execution_count": 27,
   "id": "f69e26d2-b89a-489b-9799-e9bd1a00d7b4",
   "metadata": {},
   "outputs": [],
   "source": [
    "# pois.to_json()\n",
    "pois.to_file('pois_from_patos.geojson', driver=\"GeoJSON\") "
   ]
  },
  {
   "cell_type": "code",
   "execution_count": 28,
   "id": "793d4156-be29-4c18-9d4d-30f08cbe6318",
   "metadata": {},
   "outputs": [
    {
     "name": "stderr",
     "output_type": "stream",
     "text": [
      "/tmp/ipykernel_15359/3962933453.py:2: DeprecationWarning: The 'http_auth' parameter is deprecated. Use 'basic_auth' or 'bearer_auth' parameters instead\n",
      "  es = Elasticsearch(hosts=\"http://localhost:9200\", http_auth=('elastic', 'changeme'), verify_certs=False)\n"
     ]
    }
   ],
   "source": [
    "from elasticsearch import Elasticsearch\n",
    "es = Elasticsearch(hosts=\"http://localhost:9200\", http_auth=('elastic', 'changeme'), verify_certs=False)"
   ]
  },
  {
   "cell_type": "code",
   "execution_count": 29,
   "id": "46991040-9859-4ebb-8377-c4d03bb38169",
   "metadata": {},
   "outputs": [
    {
     "data": {
      "text/plain": [
       "{'type': 'Feature',\n",
       " 'geometry': {\"coordinates\": [-37.278472, -7.023898], \"type\": \"Point\"},\n",
       " 'properties': {'element_type': 'node',\n",
       "  'osmid': 1798496605,\n",
       "  'amenity': 'fuel',\n",
       "  'name': 'Posto Viola',\n",
       "  'opening_hours': None}}"
      ]
     },
     "execution_count": 29,
     "metadata": {},
     "output_type": "execute_result"
    }
   ],
   "source": [
    "import geojson\n",
    "with open('pois_from_patos.geojson') as f:\n",
    "    pois_list = geojson.load(f)\n",
    "pois_list = pois_list['features']\n",
    "dict(pois_list[0])"
   ]
  },
  {
   "cell_type": "code",
   "execution_count": 19,
   "id": "f1e2eca2-5a05-4cfe-aaa3-3e64bd4ece81",
   "metadata": {},
   "outputs": [
    {
     "name": "stderr",
     "output_type": "stream",
     "text": [
      "/tmp/ipykernel_15359/178293735.py:1: DeprecationWarning: Passing transport options in the API method is deprecated. Use 'Elasticsearch.options()' instead.\n",
      "  es.indices.create(index='patos-pois-index', ignore=400)\n"
     ]
    },
    {
     "data": {
      "text/plain": [
       "ObjectApiResponse({'acknowledged': True, 'shards_acknowledged': True, 'index': 'patos-pois-index'})"
      ]
     },
     "execution_count": 19,
     "metadata": {},
     "output_type": "execute_result"
    }
   ],
   "source": [
    "es.indices.create(index='patos-pois-index', ignore=400)"
   ]
  },
  {
   "cell_type": "code",
   "execution_count": 32,
   "id": "a1b18555-5c74-4681-9685-e8fe166375d8",
   "metadata": {},
   "outputs": [
    {
     "data": {
      "text/plain": [
       "ObjectApiResponse({'name': 'elk', 'cluster_name': 'elasticsearch', 'cluster_uuid': 'q7oWD5V7RWyCXRr4UqUt9g', 'version': {'number': '8.5.3', 'build_flavor': 'default', 'build_type': 'tar', 'build_hash': '4ed5ee9afac63de92ec98f404ccbed7d3ba9584e', 'build_date': '2022-12-05T18:22:22.226119656Z', 'build_snapshot': False, 'lucene_version': '9.4.2', 'minimum_wire_compatibility_version': '7.17.0', 'minimum_index_compatibility_version': '7.0.0'}, 'tagline': 'You Know, for Search'})"
      ]
     },
     "execution_count": 32,
     "metadata": {},
     "output_type": "execute_result"
    }
   ],
   "source": [
    "es.info()"
   ]
  },
  {
   "cell_type": "code",
   "execution_count": 30,
   "id": "096be249-c880-4494-91fc-cad64b417c96",
   "metadata": {},
   "outputs": [
    {
     "name": "stdout",
     "output_type": "stream",
     "text": [
      "1º instance:  updated\n",
      "Completed.\n"
     ]
    }
   ],
   "source": [
    "for i,poi in enumerate(pois_list):\n",
    "    resp = es.index(index=\"patos-pois-index\", id=i+1, document=poi)\n",
    "    if i%1000==0:\n",
    "        print(str(i+1)+'º instance: ',resp['result'])\n",
    "print('Completed.')"
   ]
  },
  {
   "cell_type": "code",
   "execution_count": 31,
   "id": "3577edf0-9e20-4b37-8bd8-bc2f15f73387",
   "metadata": {},
   "outputs": [
    {
     "data": {
      "text/plain": [
       "(829, 4)"
      ]
     },
     "execution_count": 31,
     "metadata": {},
     "output_type": "execute_result"
    }
   ],
   "source": [
    "pois.shape"
   ]
  },
  {
   "cell_type": "code",
   "execution_count": 34,
   "id": "1321c24a-b7ed-4cce-997d-436f1c006353",
   "metadata": {},
   "outputs": [
    {
     "name": "stderr",
     "output_type": "stream",
     "text": [
      "/tmp/ipykernel_15359/2386377839.py:1: DeprecationWarning: The 'body' parameter is deprecated and will be removed in a future version. Instead use individual parameters.\n",
      "  es.search(body={\"query\": {\"match_all\": {}}}, index = 'patos-pois-index')\n"
     ]
    },
    {
     "data": {
      "text/plain": [
       "ObjectApiResponse({'took': 3, 'timed_out': False, '_shards': {'total': 1, 'successful': 1, 'skipped': 0, 'failed': 0}, 'hits': {'total': {'value': 829, 'relation': 'eq'}, 'max_score': 1.0, 'hits': [{'_index': 'patos-pois-index', '_id': '1', '_score': 1.0, '_source': {'type': 'Feature', 'geometry': {'type': 'Point', 'coordinates': [-37.278472, -7.023898]}, 'properties': {'element_type': 'node', 'osmid': 1798496605, 'amenity': 'fuel', 'name': 'Posto Viola', 'opening_hours': None}}}, {'_index': 'patos-pois-index', '_id': '2', '_score': 1.0, '_source': {'type': 'Feature', 'geometry': {'type': 'Point', 'coordinates': [-37.27843, -7.023605]}, 'properties': {'element_type': 'node', 'osmid': 1798496642, 'amenity': 'taxi', 'name': 'Moto táxi Praça dos Pombos', 'opening_hours': None}}}, {'_index': 'patos-pois-index', '_id': '3', '_score': 1.0, '_source': {'type': 'Feature', 'geometry': {'type': 'Point', 'coordinates': [-37.277349, -7.022649]}, 'properties': {'element_type': 'node', 'osmid': 1798525769, 'amenity': 'taxi', 'name': 'Táxi Rodoviária Velha', 'opening_hours': None}}}, {'_index': 'patos-pois-index', '_id': '4', '_score': 1.0, '_source': {'type': 'Feature', 'geometry': {'type': 'Point', 'coordinates': [-37.277021, -7.026014]}, 'properties': {'element_type': 'node', 'osmid': 1798525772, 'amenity': 'taxi', 'name': 'Táxi Fórum Miguel Sátiro', 'opening_hours': None}}}, {'_index': 'patos-pois-index', '_id': '5', '_score': 1.0, '_source': {'type': 'Feature', 'geometry': {'type': 'Point', 'coordinates': [-37.277017, -7.022043]}, 'properties': {'element_type': 'node', 'osmid': 1798919196, 'amenity': 'bar', 'name': 'Bar do Rock', 'opening_hours': 'We-Su 19:00-02:00+; week 25-26 18:00-04:00'}}}, {'_index': 'patos-pois-index', '_id': '6', '_score': 1.0, '_source': {'type': 'Feature', 'geometry': {'type': 'Point', 'coordinates': [-37.27687, -7.022002]}, 'properties': {'element_type': 'node', 'osmid': 1798919197, 'amenity': 'pub', 'name': 'Bodega', 'opening_hours': 'We-Su 19:00-02:00+; week 25-26 18:00-04:00'}}}, {'_index': 'patos-pois-index', '_id': '7', '_score': 1.0, '_source': {'type': 'Feature', 'geometry': {'type': 'Point', 'coordinates': [-37.276778, -7.027145]}, 'properties': {'element_type': 'node', 'osmid': 1798922511, 'amenity': 'taxi', 'name': 'Taxi Banco do Brasil', 'opening_hours': None}}}, {'_index': 'patos-pois-index', '_id': '8', '_score': 1.0, '_source': {'type': 'Feature', 'geometry': {'type': 'Point', 'coordinates': [-37.283322, -7.017753]}, 'properties': {'element_type': 'node', 'osmid': 1798922512, 'amenity': 'taxi', 'name': 'Taxi Hospital Regional', 'opening_hours': None}}}, {'_index': 'patos-pois-index', '_id': '9', '_score': 1.0, '_source': {'type': 'Feature', 'geometry': {'type': 'Point', 'coordinates': [-37.277209, -7.024763]}, 'properties': {'element_type': 'node', 'osmid': 1798924496, 'amenity': 'restaurant', 'name': 'China K', 'opening_hours': None}}}, {'_index': 'patos-pois-index', '_id': '10', '_score': 1.0, '_source': {'type': 'Feature', 'geometry': {'type': 'Point', 'coordinates': [-37.277019, -7.026884]}, 'properties': {'element_type': 'node', 'osmid': 1798924526, 'amenity': 'bank', 'name': 'Banco do Brasil', 'opening_hours': 'Mo-Su 06:00-22:00'}}}]}})"
      ]
     },
     "execution_count": 34,
     "metadata": {},
     "output_type": "execute_result"
    }
   ],
   "source": [
    "es.search(body={\"query\": {\"match_all\": {}}}, index = 'patos-pois-index')"
   ]
  },
  {
   "cell_type": "code",
   "execution_count": 36,
   "id": "a6489fcd-9f2f-40a8-bce0-384427690418",
   "metadata": {},
   "outputs": [
    {
     "data": {
      "text/plain": [
       "ObjectApiResponse({'patos-pois-index': {'mappings': {'properties': {'geometry': {'properties': {'coordinates': {'type': 'float'}, 'type': {'type': 'text', 'fields': {'keyword': {'type': 'keyword', 'ignore_above': 256}}}}}, 'properties': {'properties': {'amenity': {'type': 'text', 'fields': {'keyword': {'type': 'keyword', 'ignore_above': 256}}}, 'element_type': {'type': 'text', 'fields': {'keyword': {'type': 'keyword', 'ignore_above': 256}}}, 'name': {'type': 'text', 'fields': {'keyword': {'type': 'keyword', 'ignore_above': 256}}}, 'opening_hours': {'type': 'text', 'fields': {'keyword': {'type': 'keyword', 'ignore_above': 256}}}, 'osmid': {'type': 'long'}}}, 'type': {'type': 'text', 'fields': {'keyword': {'type': 'keyword', 'ignore_above': 256}}}}}}})"
      ]
     },
     "execution_count": 36,
     "metadata": {},
     "output_type": "execute_result"
    }
   ],
   "source": [
    "es.indices.get_mapping(index = 'patos-pois-index')"
   ]
  },
  {
   "cell_type": "code",
   "execution_count": null,
   "id": "21696794-7967-446a-ba58-7717e6d136bd",
   "metadata": {},
   "outputs": [],
   "source": [
    "mappings = {\n",
    "        \"properties\": {\n",
    "            \"type\": {\"type\": \"text\", \"analyzer\": \"english\"},\n",
    "            \"title\": {\"type\": \"text\", \"analyzer\": \"english\"},\n",
    "            \"director\": {\"type\": \"text\", \"analyzer\": \"standard\"},\n",
    "            \"cast\": {\"type\": \"text\", \"analyzer\": \"standard\"},\n",
    "            \"country\": {\"type\": \"text\", \"analyzer\": \"standard\"},\n",
    "            \"date_added\": {\"type\": \"text\", \"analyzer\": \"standard\"},\n",
    "            \"release_year\": {\"type\": \"integer\"},\n",
    "            \"rating\": {\"type\": \"text\", \"analyzer\": \"standard\"},\n",
    "            \"duration\": {\"type\": \"text\", \"analyzer\": \"standard\"},\n",
    "            \"listed_in\": {\"type\": \"keyword\"},\n",
    "            \"description\": {\"type\": \"text\", \"analyzer\": \"english\"}\n",
    "    }\n",
    "}\n",
    "\n",
    "es.indices.create(index=\"test-index\", mappings=mappings)"
   ]
  },
  {
   "cell_type": "code",
   "execution_count": null,
   "id": "2487e0e8-599c-4b45-acd0-715744bd8258",
   "metadata": {},
   "outputs": [],
   "source": [
    "query = {\n",
    "    \"bool\": {\n",
    "        \"filter\": {\n",
    "            \"match_phrase\": {\n",
    "                \"country\": \"United States\"\n",
    "            }\n",
    "        },\n",
    "        \"must_not\": {\n",
    "            \"range\": {\n",
    "                \"release_year\": {\"lte\": 2015}\n",
    "            }\n",
    "        }\n",
    "    }\n",
    "}\n",
    "\n",
    "result = es.search(index=\"netflix_shows\", query=query)\n",
    "print(result)"
   ]
  },
  {
   "cell_type": "code",
   "execution_count": null,
   "id": "9a72cd5c-6e5e-4235-b4a7-b1551d982560",
   "metadata": {},
   "outputs": [],
   "source": [
    "es.delete(index=\"netflix_shows\", id=\"1337\")"
   ]
  },
  {
   "cell_type": "code",
   "execution_count": null,
   "id": "507e0fef-2da3-4b13-b65d-a6a357047beb",
   "metadata": {},
   "outputs": [],
   "source": [
    "es.indices.delete(index=\"netflix_shows\")"
   ]
  }
 ],
 "metadata": {
  "kernelspec": {
   "display_name": "Python 3 (ipykernel)",
   "language": "python",
   "name": "python3"
  },
  "language_info": {
   "codemirror_mode": {
    "name": "ipython",
    "version": 3
   },
   "file_extension": ".py",
   "mimetype": "text/x-python",
   "name": "python",
   "nbconvert_exporter": "python",
   "pygments_lexer": "ipython3",
   "version": "3.8.10"
  }
 },
 "nbformat": 4,
 "nbformat_minor": 5
}
