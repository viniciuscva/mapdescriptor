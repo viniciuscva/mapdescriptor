{
 "cells": [
  {
   "cell_type": "code",
   "execution_count": 103,
   "id": "339669e1-729a-44cb-873d-bb58c0125ce5",
   "metadata": {},
   "outputs": [],
   "source": [
    "import pandas as pd\n",
    "import numpy as np\n",
    "import osmnx as ox\n",
    "import os\n",
    "pd.set_option('display.max_columns', 500)"
   ]
  },
  {
   "cell_type": "code",
   "execution_count": 104,
   "id": "cafac4ef-aa3a-4bad-b1d4-cb72fd1d8998",
   "metadata": {},
   "outputs": [],
   "source": [
    "project_dir = os.path.join(os.path.expanduser('~'), 'Documents', 'mapdescriptor')"
   ]
  },
  {
   "cell_type": "code",
   "execution_count": 107,
   "id": "d5911231-3841-4cf8-8908-df7f175a9e69",
   "metadata": {},
   "outputs": [
    {
     "data": {
      "text/html": [
       "<div>\n",
       "<style scoped>\n",
       "    .dataframe tbody tr th:only-of-type {\n",
       "        vertical-align: middle;\n",
       "    }\n",
       "\n",
       "    .dataframe tbody tr th {\n",
       "        vertical-align: top;\n",
       "    }\n",
       "\n",
       "    .dataframe thead th {\n",
       "        text-align: right;\n",
       "    }\n",
       "</style>\n",
       "<table border=\"1\" class=\"dataframe\">\n",
       "  <thead>\n",
       "    <tr style=\"text-align: right;\">\n",
       "      <th></th>\n",
       "      <th></th>\n",
       "      <th>amenity</th>\n",
       "      <th>name</th>\n",
       "      <th>geometry</th>\n",
       "      <th>opening_hours</th>\n",
       "    </tr>\n",
       "    <tr>\n",
       "      <th>element_type</th>\n",
       "      <th>osmid</th>\n",
       "      <th></th>\n",
       "      <th></th>\n",
       "      <th></th>\n",
       "      <th></th>\n",
       "    </tr>\n",
       "  </thead>\n",
       "  <tbody>\n",
       "    <tr>\n",
       "      <th rowspan=\"5\" valign=\"top\">node</th>\n",
       "      <th>1798496605</th>\n",
       "      <td>fuel</td>\n",
       "      <td>Posto Viola</td>\n",
       "      <td>POINT (-37.27847 -7.02390)</td>\n",
       "      <td>NaN</td>\n",
       "    </tr>\n",
       "    <tr>\n",
       "      <th>1798496642</th>\n",
       "      <td>taxi</td>\n",
       "      <td>Moto táxi Praça dos Pombos</td>\n",
       "      <td>POINT (-37.27843 -7.02361)</td>\n",
       "      <td>NaN</td>\n",
       "    </tr>\n",
       "    <tr>\n",
       "      <th>1798525769</th>\n",
       "      <td>taxi</td>\n",
       "      <td>Táxi Rodoviária Velha</td>\n",
       "      <td>POINT (-37.27735 -7.02265)</td>\n",
       "      <td>NaN</td>\n",
       "    </tr>\n",
       "    <tr>\n",
       "      <th>1798525772</th>\n",
       "      <td>taxi</td>\n",
       "      <td>Táxi Fórum Miguel Sátiro</td>\n",
       "      <td>POINT (-37.27702 -7.02601)</td>\n",
       "      <td>NaN</td>\n",
       "    </tr>\n",
       "    <tr>\n",
       "      <th>1798919196</th>\n",
       "      <td>bar</td>\n",
       "      <td>Bar do Rock</td>\n",
       "      <td>POINT (-37.27702 -7.02204)</td>\n",
       "      <td>We-Su 19:00-02:00+; week 25-26 18:00-04:00</td>\n",
       "    </tr>\n",
       "    <tr>\n",
       "      <th>...</th>\n",
       "      <th>...</th>\n",
       "      <td>...</td>\n",
       "      <td>...</td>\n",
       "      <td>...</td>\n",
       "      <td>...</td>\n",
       "    </tr>\n",
       "    <tr>\n",
       "      <th rowspan=\"4\" valign=\"top\">way</th>\n",
       "      <th>1084925006</th>\n",
       "      <td>place_of_worship</td>\n",
       "      <td>NaN</td>\n",
       "      <td>POLYGON ((-37.27436 -7.00392, -37.27443 -7.003...</td>\n",
       "      <td>NaN</td>\n",
       "    </tr>\n",
       "    <tr>\n",
       "      <th>1085721565</th>\n",
       "      <td>place_of_worship</td>\n",
       "      <td>Capela da Cruz da Menina</td>\n",
       "      <td>POLYGON ((-37.30224 -7.00568, -37.30223 -7.005...</td>\n",
       "      <td>NaN</td>\n",
       "    </tr>\n",
       "    <tr>\n",
       "      <th>1098137716</th>\n",
       "      <td>school</td>\n",
       "      <td>NaN</td>\n",
       "      <td>POLYGON ((-37.27944 -7.06101, -37.27924 -7.060...</td>\n",
       "      <td>NaN</td>\n",
       "    </tr>\n",
       "    <tr>\n",
       "      <th>1112595201</th>\n",
       "      <td>place_of_worship</td>\n",
       "      <td>NaN</td>\n",
       "      <td>POLYGON ((-37.23823 -7.06129, -37.23823 -7.061...</td>\n",
       "      <td>NaN</td>\n",
       "    </tr>\n",
       "    <tr>\n",
       "      <th>relation</th>\n",
       "      <th>7375603</th>\n",
       "      <td>marketplace</td>\n",
       "      <td>Mercado Público</td>\n",
       "      <td>POLYGON ((-37.27953 -7.02765, -37.27953 -7.027...</td>\n",
       "      <td>Mo-Sa 07:00-17:00</td>\n",
       "    </tr>\n",
       "  </tbody>\n",
       "</table>\n",
       "<p>835 rows × 4 columns</p>\n",
       "</div>"
      ],
      "text/plain": [
       "                                  amenity                        name  \\\n",
       "element_type osmid                                                      \n",
       "node         1798496605              fuel                 Posto Viola   \n",
       "             1798496642              taxi  Moto táxi Praça dos Pombos   \n",
       "             1798525769              taxi       Táxi Rodoviária Velha   \n",
       "             1798525772              taxi    Táxi Fórum Miguel Sátiro   \n",
       "             1798919196               bar                 Bar do Rock   \n",
       "...                                   ...                         ...   \n",
       "way          1084925006  place_of_worship                         NaN   \n",
       "             1085721565  place_of_worship    Capela da Cruz da Menina   \n",
       "             1098137716            school                         NaN   \n",
       "             1112595201  place_of_worship                         NaN   \n",
       "relation     7375603          marketplace             Mercado Público   \n",
       "\n",
       "                                                                  geometry  \\\n",
       "element_type osmid                                                           \n",
       "node         1798496605                         POINT (-37.27847 -7.02390)   \n",
       "             1798496642                         POINT (-37.27843 -7.02361)   \n",
       "             1798525769                         POINT (-37.27735 -7.02265)   \n",
       "             1798525772                         POINT (-37.27702 -7.02601)   \n",
       "             1798919196                         POINT (-37.27702 -7.02204)   \n",
       "...                                                                    ...   \n",
       "way          1084925006  POLYGON ((-37.27436 -7.00392, -37.27443 -7.003...   \n",
       "             1085721565  POLYGON ((-37.30224 -7.00568, -37.30223 -7.005...   \n",
       "             1098137716  POLYGON ((-37.27944 -7.06101, -37.27924 -7.060...   \n",
       "             1112595201  POLYGON ((-37.23823 -7.06129, -37.23823 -7.061...   \n",
       "relation     7375603     POLYGON ((-37.27953 -7.02765, -37.27953 -7.027...   \n",
       "\n",
       "                                                      opening_hours  \n",
       "element_type osmid                                                   \n",
       "node         1798496605                                         NaN  \n",
       "             1798496642                                         NaN  \n",
       "             1798525769                                         NaN  \n",
       "             1798525772                                         NaN  \n",
       "             1798919196  We-Su 19:00-02:00+; week 25-26 18:00-04:00  \n",
       "...                                                             ...  \n",
       "way          1084925006                                         NaN  \n",
       "             1085721565                                         NaN  \n",
       "             1098137716                                         NaN  \n",
       "             1112595201                                         NaN  \n",
       "relation     7375603                              Mo-Sa 07:00-17:00  \n",
       "\n",
       "[835 rows x 4 columns]"
      ]
     },
     "execution_count": 107,
     "metadata": {},
     "output_type": "execute_result"
    }
   ],
   "source": [
    "north = -6.9875\n",
    "west = -37.3303\n",
    "south = -7.0882\n",
    "east = -37.2215\n",
    "pois = ox.geometries.geometries_from_bbox(north, south, east, west, tags={'amenity':True})\n",
    "pois = pois[['amenity', 'name', 'geometry', 'opening_hours']]\n",
    "pois"
   ]
  },
  {
   "cell_type": "code",
   "execution_count": 108,
   "id": "a9fc26ff-d162-44dc-a2dc-f74b33c2fff1",
   "metadata": {},
   "outputs": [
    {
     "data": {
      "text/plain": [
       "(835, 4)"
      ]
     },
     "execution_count": 108,
     "metadata": {},
     "output_type": "execute_result"
    }
   ],
   "source": [
    "pois.shape"
   ]
  },
  {
   "cell_type": "code",
   "execution_count": 75,
   "id": "2a4683d3-57b5-420e-96b5-08c40fa4b049",
   "metadata": {},
   "outputs": [],
   "source": [
    "# def get_centroid(geom):\n",
    "#     if type(geom) == 'shapely.geometry.point.Point':\n",
    "#         return geom\n",
    "#     return geom.centroid\n",
    "\n",
    "# pois['geometry'] = pois['geometry'].apply(get_centroid)"
   ]
  },
  {
   "cell_type": "code",
   "execution_count": 76,
   "id": "20bbdf37-f826-429d-8ff7-e6edd9a1412c",
   "metadata": {},
   "outputs": [
    {
     "data": {
      "text/html": [
       "<div>\n",
       "<style scoped>\n",
       "    .dataframe tbody tr th:only-of-type {\n",
       "        vertical-align: middle;\n",
       "    }\n",
       "\n",
       "    .dataframe tbody tr th {\n",
       "        vertical-align: top;\n",
       "    }\n",
       "\n",
       "    .dataframe thead th {\n",
       "        text-align: right;\n",
       "    }\n",
       "</style>\n",
       "<table border=\"1\" class=\"dataframe\">\n",
       "  <thead>\n",
       "    <tr style=\"text-align: right;\">\n",
       "      <th></th>\n",
       "      <th></th>\n",
       "      <th>amenity</th>\n",
       "      <th>name</th>\n",
       "      <th>geometry</th>\n",
       "      <th>opening_hours</th>\n",
       "    </tr>\n",
       "    <tr>\n",
       "      <th>element_type</th>\n",
       "      <th>osmid</th>\n",
       "      <th></th>\n",
       "      <th></th>\n",
       "      <th></th>\n",
       "      <th></th>\n",
       "    </tr>\n",
       "  </thead>\n",
       "  <tbody>\n",
       "    <tr>\n",
       "      <th rowspan=\"5\" valign=\"top\">node</th>\n",
       "      <th>1798496605</th>\n",
       "      <td>fuel</td>\n",
       "      <td>Posto Viola</td>\n",
       "      <td>POINT (-37.27847 -7.02390)</td>\n",
       "      <td>NaN</td>\n",
       "    </tr>\n",
       "    <tr>\n",
       "      <th>1798496642</th>\n",
       "      <td>taxi</td>\n",
       "      <td>Moto táxi Praça dos Pombos</td>\n",
       "      <td>POINT (-37.27843 -7.02361)</td>\n",
       "      <td>NaN</td>\n",
       "    </tr>\n",
       "    <tr>\n",
       "      <th>1798525769</th>\n",
       "      <td>taxi</td>\n",
       "      <td>Táxi Rodoviária Velha</td>\n",
       "      <td>POINT (-37.27735 -7.02265)</td>\n",
       "      <td>NaN</td>\n",
       "    </tr>\n",
       "    <tr>\n",
       "      <th>1798525772</th>\n",
       "      <td>taxi</td>\n",
       "      <td>Táxi Fórum Miguel Sátiro</td>\n",
       "      <td>POINT (-37.27702 -7.02601)</td>\n",
       "      <td>NaN</td>\n",
       "    </tr>\n",
       "    <tr>\n",
       "      <th>1798919196</th>\n",
       "      <td>bar</td>\n",
       "      <td>Bar do Rock</td>\n",
       "      <td>POINT (-37.27702 -7.02204)</td>\n",
       "      <td>We-Su 19:00-02:00+; week 25-26 18:00-04:00</td>\n",
       "    </tr>\n",
       "    <tr>\n",
       "      <th>...</th>\n",
       "      <th>...</th>\n",
       "      <td>...</td>\n",
       "      <td>...</td>\n",
       "      <td>...</td>\n",
       "      <td>...</td>\n",
       "    </tr>\n",
       "    <tr>\n",
       "      <th rowspan=\"4\" valign=\"top\">way</th>\n",
       "      <th>1084925006</th>\n",
       "      <td>place_of_worship</td>\n",
       "      <td>NaN</td>\n",
       "      <td>POLYGON ((-37.27436 -7.00392, -37.27443 -7.003...</td>\n",
       "      <td>NaN</td>\n",
       "    </tr>\n",
       "    <tr>\n",
       "      <th>1085721565</th>\n",
       "      <td>place_of_worship</td>\n",
       "      <td>Capela da Cruz da Menina</td>\n",
       "      <td>POLYGON ((-37.30224 -7.00568, -37.30223 -7.005...</td>\n",
       "      <td>NaN</td>\n",
       "    </tr>\n",
       "    <tr>\n",
       "      <th>1098137716</th>\n",
       "      <td>school</td>\n",
       "      <td>NaN</td>\n",
       "      <td>POLYGON ((-37.27944 -7.06101, -37.27924 -7.060...</td>\n",
       "      <td>NaN</td>\n",
       "    </tr>\n",
       "    <tr>\n",
       "      <th>1112595201</th>\n",
       "      <td>place_of_worship</td>\n",
       "      <td>NaN</td>\n",
       "      <td>POLYGON ((-37.23823 -7.06129, -37.23823 -7.061...</td>\n",
       "      <td>NaN</td>\n",
       "    </tr>\n",
       "    <tr>\n",
       "      <th>relation</th>\n",
       "      <th>7375603</th>\n",
       "      <td>marketplace</td>\n",
       "      <td>Mercado Público</td>\n",
       "      <td>POLYGON ((-37.27953 -7.02765, -37.27953 -7.027...</td>\n",
       "      <td>Mo-Sa 07:00-17:00</td>\n",
       "    </tr>\n",
       "  </tbody>\n",
       "</table>\n",
       "<p>835 rows × 4 columns</p>\n",
       "</div>"
      ],
      "text/plain": [
       "                                  amenity                        name  \\\n",
       "element_type osmid                                                      \n",
       "node         1798496605              fuel                 Posto Viola   \n",
       "             1798496642              taxi  Moto táxi Praça dos Pombos   \n",
       "             1798525769              taxi       Táxi Rodoviária Velha   \n",
       "             1798525772              taxi    Táxi Fórum Miguel Sátiro   \n",
       "             1798919196               bar                 Bar do Rock   \n",
       "...                                   ...                         ...   \n",
       "way          1084925006  place_of_worship                         NaN   \n",
       "             1085721565  place_of_worship    Capela da Cruz da Menina   \n",
       "             1098137716            school                         NaN   \n",
       "             1112595201  place_of_worship                         NaN   \n",
       "relation     7375603          marketplace             Mercado Público   \n",
       "\n",
       "                                                                  geometry  \\\n",
       "element_type osmid                                                           \n",
       "node         1798496605                         POINT (-37.27847 -7.02390)   \n",
       "             1798496642                         POINT (-37.27843 -7.02361)   \n",
       "             1798525769                         POINT (-37.27735 -7.02265)   \n",
       "             1798525772                         POINT (-37.27702 -7.02601)   \n",
       "             1798919196                         POINT (-37.27702 -7.02204)   \n",
       "...                                                                    ...   \n",
       "way          1084925006  POLYGON ((-37.27436 -7.00392, -37.27443 -7.003...   \n",
       "             1085721565  POLYGON ((-37.30224 -7.00568, -37.30223 -7.005...   \n",
       "             1098137716  POLYGON ((-37.27944 -7.06101, -37.27924 -7.060...   \n",
       "             1112595201  POLYGON ((-37.23823 -7.06129, -37.23823 -7.061...   \n",
       "relation     7375603     POLYGON ((-37.27953 -7.02765, -37.27953 -7.027...   \n",
       "\n",
       "                                                      opening_hours  \n",
       "element_type osmid                                                   \n",
       "node         1798496605                                         NaN  \n",
       "             1798496642                                         NaN  \n",
       "             1798525769                                         NaN  \n",
       "             1798525772                                         NaN  \n",
       "             1798919196  We-Su 19:00-02:00+; week 25-26 18:00-04:00  \n",
       "...                                                             ...  \n",
       "way          1084925006                                         NaN  \n",
       "             1085721565                                         NaN  \n",
       "             1098137716                                         NaN  \n",
       "             1112595201                                         NaN  \n",
       "relation     7375603                              Mo-Sa 07:00-17:00  \n",
       "\n",
       "[835 rows x 4 columns]"
      ]
     },
     "execution_count": 76,
     "metadata": {},
     "output_type": "execute_result"
    }
   ],
   "source": [
    "pois"
   ]
  },
  {
   "cell_type": "code",
   "execution_count": 77,
   "id": "f69e26d2-b89a-489b-9799-e9bd1a00d7b4",
   "metadata": {},
   "outputs": [],
   "source": [
    "# pois.to_json()\n",
    "pois.to_file(os.path.join(project_dir, 'pois_from_patos.geojson'), driver=\"GeoJSON\") "
   ]
  },
  {
   "cell_type": "code",
   "execution_count": 78,
   "id": "793d4156-be29-4c18-9d4d-30f08cbe6318",
   "metadata": {},
   "outputs": [
    {
     "name": "stderr",
     "output_type": "stream",
     "text": [
      "/tmp/ipykernel_7739/3962933453.py:2: DeprecationWarning: The 'http_auth' parameter is deprecated. Use 'basic_auth' or 'bearer_auth' parameters instead\n",
      "  es = Elasticsearch(hosts=\"http://localhost:9200\", http_auth=('elastic', 'changeme'), verify_certs=False)\n"
     ]
    }
   ],
   "source": [
    "from elasticsearch import Elasticsearch\n",
    "with open('elasticpassword.txt') as f:\n",
    "    ELASTICPASSWORD = f.read()\n",
    "es = Elasticsearch(hosts=\"http://localhost:9200\", http_auth=('elastic', ELASTICPASSWORD), verify_certs=False)"
   ]
  },
  {
   "cell_type": "code",
   "execution_count": 79,
   "id": "df05b5a5-44d7-4836-86da-970afacbeff1",
   "metadata": {},
   "outputs": [
    {
     "data": {
      "text/plain": [
       "ObjectApiResponse({'name': 'elk', 'cluster_name': 'elasticsearch', 'cluster_uuid': 'q7oWD5V7RWyCXRr4UqUt9g', 'version': {'number': '8.5.3', 'build_flavor': 'default', 'build_type': 'tar', 'build_hash': '4ed5ee9afac63de92ec98f404ccbed7d3ba9584e', 'build_date': '2022-12-05T18:22:22.226119656Z', 'build_snapshot': False, 'lucene_version': '9.4.2', 'minimum_wire_compatibility_version': '7.17.0', 'minimum_index_compatibility_version': '7.0.0'}, 'tagline': 'You Know, for Search'})"
      ]
     },
     "execution_count": 79,
     "metadata": {},
     "output_type": "execute_result"
    }
   ],
   "source": [
    "es.info()"
   ]
  },
  {
   "cell_type": "code",
   "execution_count": 80,
   "id": "46991040-9859-4ebb-8377-c4d03bb38169",
   "metadata": {},
   "outputs": [
    {
     "data": {
      "text/plain": [
       "{'type': 'Feature',\n",
       " 'geometry': {\"coordinates\": [-37.278472, -7.023898], \"type\": \"Point\"},\n",
       " 'properties': {'element_type': 'node',\n",
       "  'osmid': 1798496605,\n",
       "  'amenity': 'fuel',\n",
       "  'name': 'Posto Viola',\n",
       "  'opening_hours': None}}"
      ]
     },
     "execution_count": 80,
     "metadata": {},
     "output_type": "execute_result"
    }
   ],
   "source": [
    "import geojson\n",
    "with open(os.path.join(project_dir, 'pois_from_patos.geojson')) as f:\n",
    "    pois_list = geojson.load(f)\n",
    "pois_list = pois_list['features']\n",
    "dict(pois_list[0])"
   ]
  },
  {
   "cell_type": "code",
   "execution_count": 82,
   "id": "a43a5cc8-ec4a-4c4e-82ce-3a711af16f41",
   "metadata": {},
   "outputs": [
    {
     "data": {
      "text/plain": [
       "{'type': 'Feature',\n",
       " 'geometry': {\"coordinates\": [[[-37.279528, -7.027647], [-37.27953, -7.027623], [-37.279122, -7.027428], [-37.278682, -7.027218], [-37.27865, -7.02724], [-37.278623, -7.027258], [-37.278607, -7.027616], [-37.278588, -7.028009], [-37.279025, -7.028224], [-37.27948, -7.028448], [-37.279506, -7.028023], [-37.279527, -7.027673], [-37.279528, -7.027647]], [[-37.279485, -7.027711], [-37.279441, -7.028316], [-37.279416, -7.028343], [-37.278669, -7.027974], [-37.278655, -7.027942], [-37.278687, -7.027336], [-37.278711, -7.027326], [-37.279465, -7.027678], [-37.279485, -7.027711]]], \"type\": \"Polygon\"},\n",
       " 'properties': {'element_type': 'relation',\n",
       "  'osmid': 7375603,\n",
       "  'amenity': 'marketplace',\n",
       "  'name': 'Mercado Público',\n",
       "  'opening_hours': 'Mo-Sa 07:00-17:00'}}"
      ]
     },
     "execution_count": 82,
     "metadata": {},
     "output_type": "execute_result"
    }
   ],
   "source": [
    "dict(pois_list[-1])"
   ]
  },
  {
   "cell_type": "code",
   "execution_count": 83,
   "id": "84a9c788-8c2f-4087-86c9-5fa88ef90757",
   "metadata": {},
   "outputs": [
    {
     "data": {
      "text/plain": [
       "ObjectApiResponse({'acknowledged': True})"
      ]
     },
     "execution_count": 83,
     "metadata": {},
     "output_type": "execute_result"
    }
   ],
   "source": [
    "es.indices.delete(index='patos-pois-index')"
   ]
  },
  {
   "cell_type": "code",
   "execution_count": 84,
   "id": "f1e2eca2-5a05-4cfe-aaa3-3e64bd4ece81",
   "metadata": {},
   "outputs": [
    {
     "name": "stderr",
     "output_type": "stream",
     "text": [
      "/tmp/ipykernel_7739/3652554156.py:2: DeprecationWarning: Passing transport options in the API method is deprecated. Use 'Elasticsearch.options()' instead.\n",
      "  es.indices.create(index='patos-pois-index', ignore=400, mappings= {\n"
     ]
    }
   ],
   "source": [
    "if not es.indices.exists(index='patos-pois-index').body:\n",
    "   es.indices.create(index='patos-pois-index', ignore=400, mappings= {\n",
    "        'properties':{\n",
    "            'geometry': {\n",
    "                'type': 'geo_shape'\n",
    "            }\n",
    "        }\n",
    "    })"
   ]
  },
  {
   "cell_type": "code",
   "execution_count": 85,
   "id": "096be249-c880-4494-91fc-cad64b417c96",
   "metadata": {},
   "outputs": [
    {
     "name": "stdout",
     "output_type": "stream",
     "text": [
      "1º instance:  created\n",
      "Completed.\n"
     ]
    }
   ],
   "source": [
    "for i,poi in enumerate(pois_list):\n",
    "    resp = es.index(index=\"patos-pois-index\", id=i+1, document=poi)\n",
    "    if i%1000==0:\n",
    "        print(str(i+1)+'º instance: ',resp['result'])\n",
    "print('Completed.')"
   ]
  },
  {
   "cell_type": "code",
   "execution_count": 86,
   "id": "3577edf0-9e20-4b37-8bd8-bc2f15f73387",
   "metadata": {},
   "outputs": [
    {
     "data": {
      "text/plain": [
       "(835, 4)"
      ]
     },
     "execution_count": 86,
     "metadata": {},
     "output_type": "execute_result"
    }
   ],
   "source": [
    "pois.shape"
   ]
  },
  {
   "cell_type": "code",
   "execution_count": 99,
   "id": "1321c24a-b7ed-4cce-997d-436f1c006353",
   "metadata": {},
   "outputs": [
    {
     "name": "stderr",
     "output_type": "stream",
     "text": [
      "/tmp/ipykernel_7739/3968631450.py:1: DeprecationWarning: The 'body' parameter is deprecated and will be removed in a future version. Instead use individual parameters.\n",
      "  result = es.search(body={\"query\": {\"match_all\": {}}, \"size\":1000}, index = 'patos-pois-index')\n"
     ]
    }
   ],
   "source": [
    "result = es.search(body={\"query\": {\"match_all\": {}}, \"size\":1000}, index = 'patos-pois-index')"
   ]
  },
  {
   "cell_type": "code",
   "execution_count": 101,
   "id": "21210bb5-52b3-41bf-8b4e-c12af04dc745",
   "metadata": {},
   "outputs": [
    {
     "data": {
      "text/plain": [
       "{'_index': 'patos-pois-index',\n",
       " '_id': '835',\n",
       " '_score': 1.0,\n",
       " '_source': {'type': 'Feature',\n",
       "  'geometry': {'type': 'Polygon',\n",
       "   'coordinates': [[[-37.279528, -7.027647],\n",
       "     [-37.27953, -7.027623],\n",
       "     [-37.279122, -7.027428],\n",
       "     [-37.278682, -7.027218],\n",
       "     [-37.27865, -7.02724],\n",
       "     [-37.278623, -7.027258],\n",
       "     [-37.278607, -7.027616],\n",
       "     [-37.278588, -7.028009],\n",
       "     [-37.279025, -7.028224],\n",
       "     [-37.27948, -7.028448],\n",
       "     [-37.279506, -7.028023],\n",
       "     [-37.279527, -7.027673],\n",
       "     [-37.279528, -7.027647]],\n",
       "    [[-37.279485, -7.027711],\n",
       "     [-37.279441, -7.028316],\n",
       "     [-37.279416, -7.028343],\n",
       "     [-37.278669, -7.027974],\n",
       "     [-37.278655, -7.027942],\n",
       "     [-37.278687, -7.027336],\n",
       "     [-37.278711, -7.027326],\n",
       "     [-37.279465, -7.027678],\n",
       "     [-37.279485, -7.027711]]]},\n",
       "  'properties': {'element_type': 'relation',\n",
       "   'osmid': 7375603,\n",
       "   'amenity': 'marketplace',\n",
       "   'name': 'Mercado Público',\n",
       "   'opening_hours': 'Mo-Sa 07:00-17:00'}}}"
      ]
     },
     "execution_count": 101,
     "metadata": {},
     "output_type": "execute_result"
    }
   ],
   "source": [
    "result['hits']['hits'][-1]"
   ]
  },
  {
   "cell_type": "code",
   "execution_count": 88,
   "id": "a6489fcd-9f2f-40a8-bce0-384427690418",
   "metadata": {},
   "outputs": [
    {
     "data": {
      "text/plain": [
       "ObjectApiResponse({'patos-pois-index': {'mappings': {'properties': {'geometry': {'type': 'geo_shape'}, 'properties': {'properties': {'amenity': {'type': 'text', 'fields': {'keyword': {'type': 'keyword', 'ignore_above': 256}}}, 'element_type': {'type': 'text', 'fields': {'keyword': {'type': 'keyword', 'ignore_above': 256}}}, 'name': {'type': 'text', 'fields': {'keyword': {'type': 'keyword', 'ignore_above': 256}}}, 'opening_hours': {'type': 'text', 'fields': {'keyword': {'type': 'keyword', 'ignore_above': 256}}}, 'osmid': {'type': 'long'}}}, 'type': {'type': 'text', 'fields': {'keyword': {'type': 'keyword', 'ignore_above': 256}}}}}}})"
      ]
     },
     "execution_count": 88,
     "metadata": {},
     "output_type": "execute_result"
    }
   ],
   "source": [
    "es.indices.get_mapping(index = 'patos-pois-index')"
   ]
  },
  {
   "cell_type": "code",
   "execution_count": null,
   "id": "2487e0e8-599c-4b45-acd0-715744bd8258",
   "metadata": {},
   "outputs": [],
   "source": [
    "# query = {\n",
    "#     \"bool\": {\n",
    "#         \"filter\": {\n",
    "#             \"match_phrase\": {\n",
    "#                 \"country\": \"United States\"\n",
    "#             }\n",
    "#         },\n",
    "#         \"must_not\": {\n",
    "#             \"range\": {\n",
    "#                 \"release_year\": {\"lte\": 2015}\n",
    "#             }\n",
    "#         }\n",
    "#     }\n",
    "# }\n",
    "\n",
    "# result = es.search(index=\"netflix_shows\", query=query)\n",
    "# print(result)\n",
    "\n",
    "# es.delete(index=\"netflix_shows\", id=\"1337\")\n",
    "# es.indices.delete(index=\"netflix_shows\")"
   ]
  }
 ],
 "metadata": {
  "kernelspec": {
   "display_name": "Python 3 (ipykernel)",
   "language": "python",
   "name": "python3"
  },
  "language_info": {
   "codemirror_mode": {
    "name": "ipython",
    "version": 3
   },
   "file_extension": ".py",
   "mimetype": "text/x-python",
   "name": "python",
   "nbconvert_exporter": "python",
   "pygments_lexer": "ipython3",
   "version": "3.8.10"
  }
 },
 "nbformat": 4,
 "nbformat_minor": 5
}
